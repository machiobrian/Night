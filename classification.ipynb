{
 "cells": [
  {
   "cell_type": "code",
   "execution_count": null,
   "metadata": {},
   "outputs": [],
   "source": [
    "# create dummy 1000 circles from scikit\n",
    "\n",
    "from sklearn.datasets import make_circles\n",
    "\n",
    "# make 1000 circles\n",
    "n_samples = 1000\n",
    "\n",
    "# create circles - make a larger circle containing a smaller one in 2D\n",
    "X,y = make_circles(\n",
    "    n_samples,\n",
    "    noise=0.03,\n",
    "    random_state=42 # for reproducibility\n",
    ")"
   ]
  },
  {
   "cell_type": "code",
   "execution_count": null,
   "metadata": {},
   "outputs": [],
   "source": [
    "# the features\n",
    "X[:10]"
   ]
  },
  {
   "cell_type": "code",
   "execution_count": null,
   "metadata": {},
   "outputs": [],
   "source": [
    "# the labels\n",
    "y[:10]"
   ]
  },
  {
   "attachments": {},
   "cell_type": "markdown",
   "metadata": {},
   "source": [
    "`visualize the data`"
   ]
  },
  {
   "cell_type": "code",
   "execution_count": null,
   "metadata": {},
   "outputs": [],
   "source": [
    "import pandas as pd \n",
    "circles = pd.DataFrame({\"X0\":X[:, 0], \"X1\":X[:, 1], \"label\":y})\n",
    "# get the first axis for X1 and the second axis for X2\n",
    "circles.head(5)"
   ]
  },
  {
   "cell_type": "code",
   "execution_count": null,
   "metadata": {},
   "outputs": [],
   "source": [
    "import matplotlib.pyplot as plt \n",
    "plt.scatter(X[:,0], X[:,1],c=y,cmap=plt.cm.RdYlBu)"
   ]
  },
  {
   "attachments": {},
   "cell_type": "markdown",
   "metadata": {},
   "source": [
    "`check the shapes of our features and labels`"
   ]
  },
  {
   "cell_type": "code",
   "execution_count": null,
   "metadata": {},
   "outputs": [],
   "source": [
    "X.shape, y.shape # y are scalers"
   ]
  },
  {
   "cell_type": "code",
   "execution_count": null,
   "metadata": {},
   "outputs": [],
   "source": [
    "len(X), len(y)"
   ]
  },
  {
   "cell_type": "code",
   "execution_count": null,
   "metadata": {},
   "outputs": [],
   "source": [
    "# what is our first example like\n",
    "X[5], y[5]\n",
    "# given the two inputs, can we get the output - classify as a zero or a one"
   ]
  },
  {
   "attachments": {},
   "cell_type": "markdown",
   "metadata": {},
   "source": [
    "`Build a Neural Net to Classify either into blue or red circle`"
   ]
  },
  {
   "cell_type": "code",
   "execution_count": null,
   "metadata": {},
   "outputs": [],
   "source": [
    "import tensorflow as tf \n",
    "import numpy as np"
   ]
  },
  {
   "cell_type": "code",
   "execution_count": null,
   "metadata": {},
   "outputs": [],
   "source": [
    "# convert our numpy array into tensors\n",
    "X = tf.constant(X)\n",
    "y = tf.constant(y)"
   ]
  },
  {
   "cell_type": "code",
   "execution_count": null,
   "metadata": {},
   "outputs": [],
   "source": [
    "# X,y # they are now tensors\n",
    "X.dtype, y.dtype"
   ]
  },
  {
   "attachments": {},
   "cell_type": "markdown",
   "metadata": {},
   "source": [
    "`create our datasets by indexing`"
   ]
  },
  {
   "cell_type": "code",
   "execution_count": null,
   "metadata": {},
   "outputs": [],
   "source": [
    "X_train = X[:800]\n",
    "y_train = y[:800]\n",
    "\n",
    "X_test = X[800:]\n",
    "y_test = y[800:]\n",
    "\n",
    "plt.scatter(X_train[:,0], X_train[:,1],c=y_train,cmap=plt.cm.RdYlBu)\n",
    "plt.scatter(X_test[:,0], X_test[:,1], c=y_test,cmap=plt.cm.BuGn)"
   ]
  },
  {
   "cell_type": "code",
   "execution_count": null,
   "metadata": {},
   "outputs": [],
   "source": [
    "# # using sckit to split our data - pops dtype error\n",
    "# from sklearn.model_selection import train_test_split\n",
    "# X_train, X_test, y_train, y_test = train_test_split(X,y,test_size=0.2, random_state=42)"
   ]
  },
  {
   "cell_type": "code",
   "execution_count": null,
   "metadata": {},
   "outputs": [],
   "source": [
    "# 1. set random seed\n",
    "tf.random.set_seed(42)\n",
    "\n",
    "# 2. create a model using the Sequential API\n",
    "model = tf.keras.Sequential(\n",
    "    [\n",
    "        # tf.keras.Input(shape=(224,224,3)),\n",
    "        tf.keras.layers.Dense(100, activation='relu'), # rectifier linear unit\n",
    "        tf.keras.layers.Dense(1, activation='sigmoid') # output layer\n",
    "    ]\n",
    ") \n",
    "\n",
    "# 3. Compile the model\n",
    "model.compile(\n",
    "    loss=tf.keras.losses.BinaryCrossentropy(),\n",
    "    optimizer=tf.keras.optimizers.Adam(0.035), \n",
    "    metrics = 'accuracy' # accuracy - out of 100 examples, how many did our model get right?\n",
    ")\n",
    "\n",
    "# 3b Instantiate an EarlyStopping callback\n",
    "callback = tf.keras.callbacks.EarlyStopping(monitor='accuracy', patience=5)\n",
    "\n",
    "# 4. fit the model\n",
    "model_def = model.fit(X_train, y_train, epochs=150, verbose=0, callbacks=[callback])"
   ]
  },
  {
   "cell_type": "code",
   "execution_count": null,
   "metadata": {},
   "outputs": [],
   "source": [
    "# see for how long the thing ran before being callback was initiated\n",
    "len(model_def.history['accuracy'])"
   ]
  },
  {
   "cell_type": "code",
   "execution_count": null,
   "metadata": {},
   "outputs": [],
   "source": [
    "# plot the training before stopping occured\n",
    "pd.DataFrame(model_def.history).plot(figsize=(7,4))\n",
    "plt.xlabel('epochs')\n",
    "plt.ylabel('param to monitor')"
   ]
  },
  {
   "cell_type": "code",
   "execution_count": null,
   "metadata": {},
   "outputs": [],
   "source": [
    "model.summary()\n",
    "model.evaluate(X_test, y_test) # do not evaluate on the model that you have trained on"
   ]
  },
  {
   "cell_type": "code",
   "execution_count": null,
   "metadata": {},
   "outputs": [],
   "source": [
    "y_pred = model.predict(X_test)\n",
    "y_pred"
   ]
  },
  {
   "cell_type": "code",
   "execution_count": null,
   "metadata": {},
   "outputs": [],
   "source": [
    "plt.scatter(X_train[:,0], X_train[:,1],c=y_train,cmap=plt.cm.RdYlBu)\n",
    "plt.scatter(X_test[:,0], X_test[:,1],c=y_pred,cmap=plt.cm.RdYlBu)"
   ]
  },
  {
   "cell_type": "code",
   "execution_count": null,
   "metadata": {},
   "outputs": [],
   "source": [
    "# save this model in a h5 format\n",
    "model.save('circles.h5')"
   ]
  },
  {
   "attachments": {},
   "cell_type": "markdown",
   "metadata": {},
   "source": [
    "`to better understand the performance of the model`"
   ]
  },
  {
   "cell_type": "code",
   "execution_count": null,
   "metadata": {},
   "outputs": [],
   "source": [
    "def plot_decision_boundary(model, X, y):\n",
    "    \"\"\"\n",
    "    Plot the decision boundaries created by a model predicting on X\n",
    "    \"\"\"\n",
    "\n",
    "    # define the axis boundaries of the plot and create a meshgrid\n",
    "    x_min, x_max = X[:,0].min()-0.1, X[:,0].max()+0.1\n",
    "    y_min, y_max = X[:,1].min()-0.1, X[:,1].max()+0.1\n",
    "    xx, yy = np.meshgrid(\n",
    "        np.linspace(x_min, x_max, 100),\n",
    "        np.linspace(y_min, y_max, 100)\n",
    "    )\n",
    "    \n",
    "    # create X value - this is where we are going to make predictions on\n",
    "    x_in = np.c_[xx.ravel(), yy.ravel()] #np.c_ - stacks 2D arrays together\n",
    "\n",
    "    # make predictions\n",
    "    y_pred_m = model.predict(x_in)\n",
    "\n",
    "    # check for multiclass\n",
    "    if len(y_pred_m[0]) > 1:\n",
    "        print(\"performing multiclass classification\")\n",
    "        # therefore, we reshape our predictions and ready them for plotting\n",
    "        y_pred_m = np.argmax(y_pred_m, axis=1).reshape(xx.shape)\n",
    "    else:\n",
    "        print(\"perfoming binary classification\")\n",
    "        y_pred_m = np.round(y_pred_m).reshape(xx.shape)\n",
    "\n",
    "    # plot the decision boundary\n",
    "    plt.contourf(xx, yy, y_pred_m, cmap=plt.cm.RdYlBu, alpha=1)\n",
    "    plt.scatter(X[:,0], X[:,1], c=y, s=40, cmap=plt.cm.RdYlBu)\n",
    "    plt.xlim(xx.min(), xx.max())\n",
    "    plt.ylim(yy.min(), yy.max())"
   ]
  },
  {
   "cell_type": "code",
   "execution_count": null,
   "metadata": {},
   "outputs": [],
   "source": [
    "# # check the prediction our model is making\n",
    "# plot_decision_boundary(\n",
    "#     model=model,\n",
    "#     X=X_test,\n",
    "#     y=y_test\n",
    "# )"
   ]
  },
  {
   "attachments": {},
   "cell_type": "markdown",
   "metadata": {},
   "source": [
    "`create a learning rate callback`"
   ]
  },
  {
   "cell_type": "code",
   "execution_count": null,
   "metadata": {},
   "outputs": [],
   "source": [
    "# set random seed\n",
    "tf.random.set_seed(42)\n",
    "\n",
    "# Create a model \n",
    "model = tf.keras.Sequential(\n",
    "    [\n",
    "        tf.keras.layers.Dense(7, activation='relu'),\n",
    "        tf.keras.layers.Dense(9, activation='relu'),\n",
    "        tf.keras.layers.Dense(1, activation='sigmoid')\n",
    "    ]\n",
    ")\n",
    "\n",
    "# Compile the model\n",
    "model.compile(\n",
    "    loss = tf.keras.losses.BinaryCrossentropy(),\n",
    "    optimizer= tf.keras.optimizers.Adam(), # we are going to set up a lr callback\n",
    "    metrics = 'accuracy'\n",
    ")\n",
    "\n",
    "# Create a LR callback\n",
    "lr_scheduler = tf.keras.callbacks.LearningRateScheduler(lambda epoch: 1e-4 * 10**(epoch/20))\n",
    "# Create an EarlyStopping callback\n",
    "early_stop = tf.keras.callbacks.EarlyStopping(monitor='accuracy',patience=5)\n",
    "\n",
    "# Pass in lr_scheduler into the fit\n",
    "# Fit the model\n",
    "model_sc = model.fit(X_train, y_train, epochs=1000, verbose=0, callbacks=[lr_scheduler,early_stop])"
   ]
  },
  {
   "cell_type": "code",
   "execution_count": null,
   "metadata": {},
   "outputs": [],
   "source": [
    "# check for how many times it ran\n",
    "len(model_sc.history['accuracy'])"
   ]
  },
  {
   "cell_type": "code",
   "execution_count": null,
   "metadata": {},
   "outputs": [],
   "source": [
    "# check out the entire history\n",
    "pd.DataFrame(model_sc.history).plot(figsize=(7,5), xlabel='epochs')"
   ]
  }
 ],
 "metadata": {
  "kernelspec": {
   "display_name": "TensorFlow",
   "language": "python",
   "name": "python3"
  },
  "language_info": {
   "codemirror_mode": {
    "name": "ipython",
    "version": 3
   },
   "file_extension": ".py",
   "mimetype": "text/x-python",
   "name": "python",
   "nbconvert_exporter": "python",
   "pygments_lexer": "ipython3",
   "version": "3.10.8"
  },
  "orig_nbformat": 4,
  "vscode": {
   "interpreter": {
    "hash": "45c48fb264bba0529b917885aa2fdf54bfc5ac58ac8ea30a57d1df6ad7c47fba"
   }
  }
 },
 "nbformat": 4,
 "nbformat_minor": 2
}
