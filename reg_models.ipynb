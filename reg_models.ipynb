{
 "cells": [
  {
   "attachments": {},
   "cell_type": "markdown",
   "metadata": {},
   "source": [
    "`Neural Network Regression w/TensorFlow`"
   ]
  },
  {
   "attachments": {},
   "cell_type": "markdown",
   "metadata": {},
   "source": [
    "### Coverage:\n",
    "* Input/Output shapes of a reg model (features and labels)\n",
    "* Architecture of a reg model\n",
    "* Creating custom data to view and fit\n",
    "* Steps in modelling `create a model, compile, fit, evaluate *CrCoFiEv*`\n",
    "* Evaluation Methods\n",
    "* Saving & Loading Models"
   ]
  },
  {
   "cell_type": "code",
   "execution_count": 1,
   "metadata": {},
   "outputs": [
    {
     "name": "stderr",
     "output_type": "stream",
     "text": [
      "2022-12-29 17:15:45.630292: I tensorflow/core/platform/cpu_feature_guard.cc:193] This TensorFlow binary is optimized with oneAPI Deep Neural Network Library (oneDNN) to use the following CPU instructions in performance-critical operations:  AVX2 FMA\n",
      "To enable them in other operations, rebuild TensorFlow with the appropriate compiler flags.\n"
     ]
    }
   ],
   "source": [
    "# lets see how you do comments\n",
    "import tensorflow as tf\n",
    "import numpy as np\n",
    "tf.__version__\n",
    "import matplotlib.pyplot as plt"
   ]
  },
  {
   "attachments": {},
   "cell_type": "markdown",
   "metadata": {},
   "source": [
    "`Regression Inputs and Outputs`\n",
    "* For a Reg problem, the shape of the [output] is normally 1; shape=[1] as we often try to predict some number."
   ]
  },
  {
   "cell_type": "code",
   "execution_count": 2,
   "metadata": {},
   "outputs": [],
   "source": [
    "# Create Features / inputs\n",
    "X = np.array([-7, -4, -1, 2, 5, 8, 11, 14]) # uppercase \n",
    "# create labels\n",
    "y = np.array([3,6,9,12,15,18,21,24]) #lower case\n",
    "# visualize\n",
    "# plt.scatter(X, y)"
   ]
  },
  {
   "cell_type": "code",
   "execution_count": 3,
   "metadata": {},
   "outputs": [
    {
     "data": {
      "text/plain": [
       "array([ True,  True,  True,  True,  True,  True,  True,  True])"
      ]
     },
     "execution_count": 3,
     "metadata": {},
     "output_type": "execute_result"
    }
   ],
   "source": [
    "# what is the pattern btn the features and the labels\n",
    "y == X + 10 # this is the relationship our neural net was supposed to learn"
   ]
  },
  {
   "attachments": {},
   "cell_type": "markdown",
   "metadata": {},
   "source": [
    "`What then might the shapes be for our Input/Output`"
   ]
  },
  {
   "cell_type": "code",
   "execution_count": 4,
   "metadata": {},
   "outputs": [
    {
     "data": {
      "text/plain": [
       "((8,), (8,))"
      ]
     },
     "execution_count": 4,
     "metadata": {},
     "output_type": "execute_result"
    }
   ],
   "source": [
    "X.shape, y.shape"
   ]
  },
  {
   "cell_type": "code",
   "execution_count": 5,
   "metadata": {},
   "outputs": [
    {
     "data": {
      "text/plain": [
       "(array([-7, -4, -1,  2,  5,  8, 11, 14]),\n",
       " array([ 3,  6,  9, 12, 15, 18, 21, 24]))"
      ]
     },
     "execution_count": 5,
     "metadata": {},
     "output_type": "execute_result"
    }
   ],
   "source": [
    "X, y"
   ]
  },
  {
   "cell_type": "code",
   "execution_count": 6,
   "metadata": {},
   "outputs": [
    {
     "name": "stderr",
     "output_type": "stream",
     "text": [
      "2022-12-29 17:15:49.553527: I tensorflow/core/platform/cpu_feature_guard.cc:193] This TensorFlow binary is optimized with oneAPI Deep Neural Network Library (oneDNN) to use the following CPU instructions in performance-critical operations:  AVX2 FMA\n",
      "To enable them in other operations, rebuild TensorFlow with the appropriate compiler flags.\n"
     ]
    },
    {
     "data": {
      "text/plain": [
       "(<tf.Tensor: shape=(3, 4), dtype=float32, numpy=\n",
       " array([[10., 11., 12., 13.],\n",
       "        [ 1.,  2.,  3.,  4.],\n",
       "        [ 6.,  7.,  8.,  9.]], dtype=float32)>,\n",
       " <tf.Tensor: shape=(1,), dtype=int32, numpy=array([1243537], dtype=int32)>)"
      ]
     },
     "execution_count": 6,
     "metadata": {},
     "output_type": "execute_result"
    }
   ],
   "source": [
    "# create a demo tensor for or housing price prediction problem\n",
    "house = tf.constant(np.array([[10,11,12,13], [1,2,3,4], [6,7,8,9]]), dtype=tf.float32)\n",
    "price = tf.constant([1243537])\n",
    "house, price"
   ]
  },
  {
   "cell_type": "code",
   "execution_count": 7,
   "metadata": {},
   "outputs": [
    {
     "data": {
      "text/plain": [
       "(<tf.Tensor: shape=(3,), dtype=string, numpy=array([b'bedroom', b'bathroom', b'garage'], dtype=object)>,\n",
       " <tf.Tensor: shape=(1,), dtype=int32, numpy=array([12489141], dtype=int32)>)"
      ]
     },
     "execution_count": 7,
     "metadata": {},
     "output_type": "execute_result"
    }
   ],
   "source": [
    "# create demo with a string input\n",
    "house_info = tf.constant([\"bedroom\", \"bathroom\", \"garage\"])\n",
    "house_price = tf.constant([12489141])\n",
    "house_info, house_price"
   ]
  },
  {
   "attachments": {},
   "cell_type": "markdown",
   "metadata": {},
   "source": [
    "* wanna create a prediction feature : X[0] what is the equivalent y[?]"
   ]
  },
  {
   "cell_type": "code",
   "execution_count": 8,
   "metadata": {},
   "outputs": [
    {
     "data": {
      "text/plain": [
       "(<tf.Tensor: shape=(8,), dtype=int64, numpy=array([-7, -4, -1,  2,  5,  8, 11, 14])>,\n",
       " <tf.Tensor: shape=(8,), dtype=int64, numpy=array([ 3,  6,  9, 12, 15, 18, 21, 24])>)"
      ]
     },
     "execution_count": 8,
     "metadata": {},
     "output_type": "execute_result"
    }
   ],
   "source": [
    "# turn the np arrays into tensors\n",
    "X = tf.constant(X)\n",
    "y = tf.constant(y)\n",
    "X,y"
   ]
  },
  {
   "cell_type": "code",
   "execution_count": 9,
   "metadata": {},
   "outputs": [
    {
     "data": {
      "text/plain": [
       "(TensorShape([]), TensorShape([]))"
      ]
     },
     "execution_count": 9,
     "metadata": {},
     "output_type": "execute_result"
    }
   ],
   "source": [
    "X[0].shape, y[0].shape # these are scalar values, have no dimension"
   ]
  },
  {
   "attachments": {},
   "cell_type": "markdown",
   "metadata": {},
   "source": [
    "### Prediction Feature : Building a model\n",
    "* Creating a Model : `define input hidden and output layer`\n",
    "* Compile the model : `define loss function and the optimizer and evaluation metric`\n",
    "* Fit the Model : `let the model try to find patterns btn X(features) and y(labels)`"
   ]
  },
  {
   "cell_type": "code",
   "execution_count": 10,
   "metadata": {},
   "outputs": [
    {
     "name": "stderr",
     "output_type": "stream",
     "text": [
      "WARNING:absl:`lr` is deprecated, please use `learning_rate` instead, or use the legacy optimizer, e.g.,tf.keras.optimizers.legacy.Adam.\n"
     ]
    }
   ],
   "source": [
    " # set random seed for reproducibility\n",
    "tf.random.set_seed(42)\n",
    "\n",
    "# # create a model using the Sequential API - this is a method of going through all things sequentially\n",
    "# model = tf.keras.models.Sequential([\n",
    "#     tf.keras.layers.Dense(1)\n",
    "# ]) # create a list within Sequential Method instead of using .add\n",
    "\n",
    "model = tf.keras.models.Sequential() # to create a model using Sequential API, shape must be defined\n",
    "model.add(tf.keras.layers.Input(shape=(1,)))\n",
    "\n",
    "model.add(tf.keras.layers.Dense(50, activation=None))\n",
    "model.add(tf.keras.layers.Dense(50, activation=None))\n",
    "# model.add(tf.keras.layers.Dense(100, activation='relu'))\n",
    "\n",
    "model.add(tf.keras.layers.Dense(1))\n",
    "\n",
    "# compile the model\n",
    "model.compile(loss=tf.keras.losses.mae, # mean abs error\n",
    "            optimizer=tf.keras.optimizers.Adam(lr=0.01), #stochastic gradient descend\n",
    "            metrics=[\"mae\"]\n",
    ")"
   ]
  },
  {
   "attachments": {},
   "cell_type": "markdown",
   "metadata": {},
   "source": [
    "`metrics: human readable and interpretation over the models performance`"
   ]
  },
  {
   "cell_type": "code",
   "execution_count": 14,
   "metadata": {},
   "outputs": [
    {
     "name": "stdout",
     "output_type": "stream",
     "text": [
      "Epoch 1/200\n",
      "1/1 [==============================] - 0s 9ms/step - loss: 0.2896 - mae: 0.2896\n",
      "Epoch 2/200\n",
      "1/1 [==============================] - 0s 10ms/step - loss: 0.0666 - mae: 0.0666\n",
      "Epoch 3/200\n",
      "1/1 [==============================] - 0s 8ms/step - loss: 0.2196 - mae: 0.2196\n",
      "Epoch 4/200\n",
      "1/1 [==============================] - 0s 11ms/step - loss: 0.1958 - mae: 0.1958\n",
      "Epoch 5/200\n",
      "1/1 [==============================] - 0s 11ms/step - loss: 0.0412 - mae: 0.0412\n",
      "Epoch 6/200\n",
      "1/1 [==============================] - 0s 11ms/step - loss: 0.0693 - mae: 0.0693\n",
      "Epoch 7/200\n",
      "1/1 [==============================] - 0s 9ms/step - loss: 0.1147 - mae: 0.1147\n",
      "Epoch 8/200\n",
      "1/1 [==============================] - 0s 11ms/step - loss: 0.0739 - mae: 0.0739\n",
      "Epoch 9/200\n",
      "1/1 [==============================] - 0s 11ms/step - loss: 0.1753 - mae: 0.1753\n",
      "Epoch 10/200\n",
      "1/1 [==============================] - 0s 12ms/step - loss: 0.1729 - mae: 0.1729\n",
      "Epoch 11/200\n",
      "1/1 [==============================] - 0s 12ms/step - loss: 0.0413 - mae: 0.0413\n",
      "Epoch 12/200\n",
      "1/1 [==============================] - 0s 12ms/step - loss: 0.0361 - mae: 0.0361\n",
      "Epoch 13/200\n",
      "1/1 [==============================] - 0s 14ms/step - loss: 0.1744 - mae: 0.1744\n",
      "Epoch 14/200\n",
      "1/1 [==============================] - 0s 15ms/step - loss: 0.1570 - mae: 0.1570\n",
      "Epoch 15/200\n",
      "1/1 [==============================] - 0s 11ms/step - loss: 0.0759 - mae: 0.0759\n",
      "Epoch 16/200\n",
      "1/1 [==============================] - 0s 12ms/step - loss: 0.0964 - mae: 0.0964\n",
      "Epoch 17/200\n",
      "1/1 [==============================] - 0s 13ms/step - loss: 0.0645 - mae: 0.0645\n",
      "Epoch 18/200\n",
      "1/1 [==============================] - 0s 10ms/step - loss: 0.0181 - mae: 0.0181\n",
      "Epoch 19/200\n",
      "1/1 [==============================] - 0s 12ms/step - loss: 0.2050 - mae: 0.2050\n",
      "Epoch 20/200\n",
      "1/1 [==============================] - 0s 15ms/step - loss: 0.2064 - mae: 0.2064\n",
      "Epoch 21/200\n",
      "1/1 [==============================] - 0s 13ms/step - loss: 0.0269 - mae: 0.0269\n",
      "Epoch 22/200\n",
      "1/1 [==============================] - 0s 11ms/step - loss: 0.2398 - mae: 0.2398\n",
      "Epoch 23/200\n",
      "1/1 [==============================] - 0s 8ms/step - loss: 0.2682 - mae: 0.2682\n",
      "Epoch 24/200\n",
      "1/1 [==============================] - 0s 27ms/step - loss: 0.1060 - mae: 0.1060\n",
      "Epoch 25/200\n",
      "1/1 [==============================] - 0s 28ms/step - loss: 0.2294 - mae: 0.2294\n",
      "Epoch 26/200\n",
      "1/1 [==============================] - 0s 12ms/step - loss: 0.3368 - mae: 0.3368\n",
      "Epoch 27/200\n",
      "1/1 [==============================] - 0s 29ms/step - loss: 0.2477 - mae: 0.2477\n",
      "Epoch 28/200\n",
      "1/1 [==============================] - 0s 33ms/step - loss: 0.0245 - mae: 0.0245\n",
      "Epoch 29/200\n",
      "1/1 [==============================] - 0s 13ms/step - loss: 0.1248 - mae: 0.1248\n",
      "Epoch 30/200\n",
      "1/1 [==============================] - 0s 11ms/step - loss: 0.0379 - mae: 0.0379\n",
      "Epoch 31/200\n",
      "1/1 [==============================] - 0s 9ms/step - loss: 0.2086 - mae: 0.2086\n",
      "Epoch 32/200\n",
      "1/1 [==============================] - 0s 12ms/step - loss: 0.2457 - mae: 0.2457\n",
      "Epoch 33/200\n",
      "1/1 [==============================] - 0s 11ms/step - loss: 0.0981 - mae: 0.0981\n",
      "Epoch 34/200\n",
      "1/1 [==============================] - 0s 10ms/step - loss: 0.2142 - mae: 0.2142\n",
      "Epoch 35/200\n",
      "1/1 [==============================] - 0s 9ms/step - loss: 0.3143 - mae: 0.3143\n",
      "Epoch 36/200\n",
      "1/1 [==============================] - 0s 12ms/step - loss: 0.2251 - mae: 0.2251\n",
      "Epoch 37/200\n",
      "1/1 [==============================] - 0s 18ms/step - loss: 0.0330 - mae: 0.0330\n",
      "Epoch 38/200\n",
      "1/1 [==============================] - 0s 16ms/step - loss: 0.1029 - mae: 0.1029\n",
      "Epoch 39/200\n",
      "1/1 [==============================] - 0s 9ms/step - loss: 0.0174 - mae: 0.0174\n",
      "Epoch 40/200\n",
      "1/1 [==============================] - 0s 8ms/step - loss: 0.0046 - mae: 0.0046\n",
      "Epoch 41/200\n",
      "1/1 [==============================] - 0s 8ms/step - loss: 0.0085 - mae: 0.0085\n",
      "Epoch 42/200\n",
      "1/1 [==============================] - 0s 11ms/step - loss: 0.1098 - mae: 0.1098\n",
      "Epoch 43/200\n",
      "1/1 [==============================] - 0s 9ms/step - loss: 0.0408 - mae: 0.0408\n",
      "Epoch 44/200\n",
      "1/1 [==============================] - 0s 9ms/step - loss: 0.1942 - mae: 0.1942\n",
      "Epoch 45/200\n",
      "1/1 [==============================] - 0s 9ms/step - loss: 0.2327 - mae: 0.2327\n",
      "Epoch 46/200\n",
      "1/1 [==============================] - 0s 9ms/step - loss: 0.0997 - mae: 0.0997\n",
      "Epoch 47/200\n",
      "1/1 [==============================] - 0s 10ms/step - loss: 0.1912 - mae: 0.1912\n",
      "Epoch 48/200\n",
      "1/1 [==============================] - 0s 12ms/step - loss: 0.2800 - mae: 0.2800\n",
      "Epoch 49/200\n",
      "1/1 [==============================] - 0s 12ms/step - loss: 0.1915 - mae: 0.1915\n",
      "Epoch 50/200\n",
      "1/1 [==============================] - 0s 11ms/step - loss: 0.0551 - mae: 0.0551\n",
      "Epoch 51/200\n",
      "1/1 [==============================] - 0s 11ms/step - loss: 0.1092 - mae: 0.1092\n",
      "Epoch 52/200\n",
      "1/1 [==============================] - 0s 10ms/step - loss: 0.0198 - mae: 0.0198\n",
      "Epoch 53/200\n",
      "1/1 [==============================] - 0s 8ms/step - loss: 0.0133 - mae: 0.0133\n",
      "Epoch 54/200\n",
      "1/1 [==============================] - 0s 7ms/step - loss: 0.1477 - mae: 0.1477\n",
      "Epoch 55/200\n",
      "1/1 [==============================] - 0s 10ms/step - loss: 0.1310 - mae: 0.1310\n",
      "Epoch 56/200\n",
      "1/1 [==============================] - 0s 11ms/step - loss: 0.0559 - mae: 0.0559\n",
      "Epoch 57/200\n",
      "1/1 [==============================] - 0s 12ms/step - loss: 0.0676 - mae: 0.0676\n",
      "Epoch 58/200\n",
      "1/1 [==============================] - 0s 32ms/step - loss: 0.0738 - mae: 0.0738\n",
      "Epoch 59/200\n",
      "1/1 [==============================] - 0s 11ms/step - loss: 0.0332 - mae: 0.0332\n",
      "Epoch 60/200\n",
      "1/1 [==============================] - 0s 9ms/step - loss: 0.1428 - mae: 0.1428\n",
      "Epoch 61/200\n",
      "1/1 [==============================] - 0s 13ms/step - loss: 0.1415 - mae: 0.1415\n",
      "Epoch 62/200\n",
      "1/1 [==============================] - 0s 14ms/step - loss: 0.0347 - mae: 0.0347\n",
      "Epoch 63/200\n",
      "1/1 [==============================] - 0s 11ms/step - loss: 0.0645 - mae: 0.0645\n",
      "Epoch 64/200\n",
      "1/1 [==============================] - 0s 11ms/step - loss: 0.0642 - mae: 0.0642\n",
      "Epoch 65/200\n",
      "1/1 [==============================] - 0s 10ms/step - loss: 0.0296 - mae: 0.0296\n",
      "Epoch 66/200\n",
      "1/1 [==============================] - 0s 9ms/step - loss: 0.1130 - mae: 0.1130\n",
      "Epoch 67/200\n",
      "1/1 [==============================] - 0s 8ms/step - loss: 0.0788 - mae: 0.0788\n",
      "Epoch 68/200\n",
      "1/1 [==============================] - 0s 9ms/step - loss: 0.1206 - mae: 0.1206\n",
      "Epoch 69/200\n",
      "1/1 [==============================] - 0s 14ms/step - loss: 0.1360 - mae: 0.1360\n",
      "Epoch 70/200\n",
      "1/1 [==============================] - 0s 11ms/step - loss: 0.0533 - mae: 0.0533\n",
      "Epoch 71/200\n",
      "1/1 [==============================] - 0s 11ms/step - loss: 0.0548 - mae: 0.0548\n",
      "Epoch 72/200\n",
      "1/1 [==============================] - 0s 7ms/step - loss: 0.0659 - mae: 0.0659\n",
      "Epoch 73/200\n",
      "1/1 [==============================] - 0s 8ms/step - loss: 0.0199 - mae: 0.0199\n",
      "Epoch 74/200\n",
      "1/1 [==============================] - 0s 8ms/step - loss: 0.0643 - mae: 0.0643\n",
      "Epoch 75/200\n",
      "1/1 [==============================] - 0s 8ms/step - loss: 0.0331 - mae: 0.0331\n",
      "Epoch 76/200\n",
      "1/1 [==============================] - 0s 9ms/step - loss: 0.0460 - mae: 0.0460\n",
      "Epoch 77/200\n",
      "1/1 [==============================] - 0s 11ms/step - loss: 0.0552 - mae: 0.0552\n",
      "Epoch 78/200\n",
      "1/1 [==============================] - 0s 11ms/step - loss: 0.0332 - mae: 0.0332\n",
      "Epoch 79/200\n",
      "1/1 [==============================] - 0s 9ms/step - loss: 0.0316 - mae: 0.0316\n",
      "Epoch 80/200\n",
      "1/1 [==============================] - 0s 10ms/step - loss: 0.0702 - mae: 0.0702\n",
      "Epoch 81/200\n",
      "1/1 [==============================] - 0s 9ms/step - loss: 0.0361 - mae: 0.0361\n",
      "Epoch 82/200\n",
      "1/1 [==============================] - 0s 10ms/step - loss: 0.0477 - mae: 0.0477\n",
      "Epoch 83/200\n",
      "1/1 [==============================] - 0s 10ms/step - loss: 0.0740 - mae: 0.0740\n",
      "Epoch 84/200\n",
      "1/1 [==============================] - 0s 14ms/step - loss: 0.0335 - mae: 0.0335\n",
      "Epoch 85/200\n",
      "1/1 [==============================] - 0s 13ms/step - loss: 0.1343 - mae: 0.1343\n",
      "Epoch 86/200\n",
      "1/1 [==============================] - 0s 10ms/step - loss: 0.1357 - mae: 0.1357\n",
      "Epoch 87/200\n",
      "1/1 [==============================] - 0s 10ms/step - loss: 0.0342 - mae: 0.0342\n",
      "Epoch 88/200\n",
      "1/1 [==============================] - 0s 11ms/step - loss: 0.1026 - mae: 0.1026\n",
      "Epoch 89/200\n",
      "1/1 [==============================] - 0s 9ms/step - loss: 0.0343 - mae: 0.0343\n",
      "Epoch 90/200\n",
      "1/1 [==============================] - 0s 11ms/step - loss: 0.1569 - mae: 0.1569\n",
      "Epoch 91/200\n",
      "1/1 [==============================] - 0s 14ms/step - loss: 0.1627 - mae: 0.1627\n",
      "Epoch 92/200\n",
      "1/1 [==============================] - 0s 13ms/step - loss: 0.0220 - mae: 0.0220\n",
      "Epoch 93/200\n",
      "1/1 [==============================] - 0s 12ms/step - loss: 0.2531 - mae: 0.2531\n",
      "Epoch 94/200\n",
      "1/1 [==============================] - 0s 12ms/step - loss: 0.3532 - mae: 0.3532\n",
      "Epoch 95/200\n",
      "1/1 [==============================] - 0s 11ms/step - loss: 0.2965 - mae: 0.2965\n",
      "Epoch 96/200\n",
      "1/1 [==============================] - 0s 11ms/step - loss: 0.0996 - mae: 0.0996\n",
      "Epoch 97/200\n",
      "1/1 [==============================] - 0s 34ms/step - loss: 0.2296 - mae: 0.2296\n",
      "Epoch 98/200\n",
      "1/1 [==============================] - 0s 9ms/step - loss: 0.3728 - mae: 0.3728\n",
      "Epoch 99/200\n",
      "1/1 [==============================] - 0s 9ms/step - loss: 0.3547 - mae: 0.3547\n",
      "Epoch 100/200\n",
      "1/1 [==============================] - 0s 18ms/step - loss: 0.1923 - mae: 0.1923\n",
      "Epoch 101/200\n",
      "1/1 [==============================] - 0s 11ms/step - loss: 0.0996 - mae: 0.0996\n",
      "Epoch 102/200\n",
      "1/1 [==============================] - 0s 10ms/step - loss: 0.2158 - mae: 0.2158\n",
      "Epoch 103/200\n",
      "1/1 [==============================] - 0s 9ms/step - loss: 0.1742 - mae: 0.1742\n",
      "Epoch 104/200\n",
      "1/1 [==============================] - 0s 10ms/step - loss: 0.0282 - mae: 0.0282\n",
      "Epoch 105/200\n",
      "1/1 [==============================] - 0s 9ms/step - loss: 0.0856 - mae: 0.0856\n",
      "Epoch 106/200\n",
      "1/1 [==============================] - 0s 11ms/step - loss: 0.0088 - mae: 0.0088\n",
      "Epoch 107/200\n",
      "1/1 [==============================] - 0s 11ms/step - loss: 0.1899 - mae: 0.1899\n",
      "Epoch 108/200\n",
      "1/1 [==============================] - 0s 11ms/step - loss: 0.2259 - mae: 0.2259\n",
      "Epoch 109/200\n",
      "1/1 [==============================] - 0s 12ms/step - loss: 0.1170 - mae: 0.1170\n",
      "Epoch 110/200\n",
      "1/1 [==============================] - 0s 14ms/step - loss: 0.1260 - mae: 0.1260\n",
      "Epoch 111/200\n",
      "1/1 [==============================] - 0s 9ms/step - loss: 0.1985 - mae: 0.1985\n",
      "Epoch 112/200\n",
      "1/1 [==============================] - 0s 7ms/step - loss: 0.1213 - mae: 0.1213\n",
      "Epoch 113/200\n",
      "1/1 [==============================] - 0s 9ms/step - loss: 0.0902 - mae: 0.0902\n",
      "Epoch 114/200\n",
      "1/1 [==============================] - 0s 8ms/step - loss: 0.1381 - mae: 0.1381\n",
      "Epoch 115/200\n",
      "1/1 [==============================] - 0s 9ms/step - loss: 0.0394 - mae: 0.0394\n",
      "Epoch 116/200\n",
      "1/1 [==============================] - 0s 13ms/step - loss: 0.1922 - mae: 0.1922\n",
      "Epoch 117/200\n",
      "1/1 [==============================] - 0s 9ms/step - loss: 0.2585 - mae: 0.2585\n",
      "Epoch 118/200\n",
      "1/1 [==============================] - 0s 8ms/step - loss: 0.1812 - mae: 0.1812\n",
      "Epoch 119/200\n",
      "1/1 [==============================] - 0s 9ms/step - loss: 0.0258 - mae: 0.0258\n",
      "Epoch 120/200\n",
      "1/1 [==============================] - 0s 10ms/step - loss: 0.0731 - mae: 0.0731\n",
      "Epoch 121/200\n",
      "1/1 [==============================] - 0s 9ms/step - loss: 0.0253 - mae: 0.0253\n",
      "Epoch 122/200\n",
      "1/1 [==============================] - 0s 10ms/step - loss: 0.0193 - mae: 0.0193\n",
      "Epoch 123/200\n",
      "1/1 [==============================] - 0s 10ms/step - loss: 0.0369 - mae: 0.0369\n",
      "Epoch 124/200\n",
      "1/1 [==============================] - 0s 10ms/step - loss: 0.0561 - mae: 0.0561\n",
      "Epoch 125/200\n",
      "1/1 [==============================] - 0s 10ms/step - loss: 0.0257 - mae: 0.0257\n",
      "Epoch 126/200\n",
      "1/1 [==============================] - 0s 9ms/step - loss: 0.0357 - mae: 0.0357\n",
      "Epoch 127/200\n",
      "1/1 [==============================] - 0s 8ms/step - loss: 0.0617 - mae: 0.0617\n",
      "Epoch 128/200\n",
      "1/1 [==============================] - 0s 10ms/step - loss: 0.0092 - mae: 0.0092\n",
      "Epoch 129/200\n",
      "1/1 [==============================] - 0s 9ms/step - loss: 0.1641 - mae: 0.1641\n",
      "Epoch 130/200\n",
      "1/1 [==============================] - 0s 9ms/step - loss: 0.1823 - mae: 0.1823\n",
      "Epoch 131/200\n",
      "1/1 [==============================] - 0s 11ms/step - loss: 0.0635 - mae: 0.0635\n",
      "Epoch 132/200\n",
      "1/1 [==============================] - 0s 9ms/step - loss: 0.1827 - mae: 0.1827\n",
      "Epoch 133/200\n",
      "1/1 [==============================] - 0s 11ms/step - loss: 0.2639 - mae: 0.2639\n",
      "Epoch 134/200\n",
      "1/1 [==============================] - 0s 12ms/step - loss: 0.2005 - mae: 0.2005\n",
      "Epoch 135/200\n",
      "1/1 [==============================] - 0s 8ms/step - loss: 0.0132 - mae: 0.0132\n",
      "Epoch 136/200\n",
      "1/1 [==============================] - 0s 28ms/step - loss: 0.2506 - mae: 0.2506\n",
      "Epoch 137/200\n",
      "1/1 [==============================] - 0s 10ms/step - loss: 0.3461 - mae: 0.3461\n",
      "Epoch 138/200\n",
      "1/1 [==============================] - 0s 15ms/step - loss: 0.2963 - mae: 0.2963\n",
      "Epoch 139/200\n",
      "1/1 [==============================] - 0s 8ms/step - loss: 0.1198 - mae: 0.1198\n",
      "Epoch 140/200\n",
      "1/1 [==============================] - 0s 10ms/step - loss: 0.1801 - mae: 0.1801\n",
      "Epoch 141/200\n",
      "1/1 [==============================] - 0s 28ms/step - loss: 0.3098 - mae: 0.3098\n",
      "Epoch 142/200\n",
      "1/1 [==============================] - 0s 15ms/step - loss: 0.2918 - mae: 0.2918\n",
      "Epoch 143/200\n",
      "1/1 [==============================] - 0s 14ms/step - loss: 0.1414 - mae: 0.1414\n",
      "Epoch 144/200\n",
      "1/1 [==============================] - 0s 13ms/step - loss: 0.1299 - mae: 0.1299\n",
      "Epoch 145/200\n",
      "1/1 [==============================] - 0s 22ms/step - loss: 0.2382 - mae: 0.2382\n",
      "Epoch 146/200\n",
      "1/1 [==============================] - 0s 18ms/step - loss: 0.2027 - mae: 0.2027\n",
      "Epoch 147/200\n",
      "1/1 [==============================] - 0s 14ms/step - loss: 0.0370 - mae: 0.0370\n",
      "Epoch 148/200\n",
      "1/1 [==============================] - 0s 12ms/step - loss: 0.2447 - mae: 0.2447\n",
      "Epoch 149/200\n",
      "1/1 [==============================] - 0s 10ms/step - loss: 0.3649 - mae: 0.3649\n",
      "Epoch 150/200\n",
      "1/1 [==============================] - 0s 9ms/step - loss: 0.3412 - mae: 0.3412\n",
      "Epoch 151/200\n",
      "1/1 [==============================] - 0s 9ms/step - loss: 0.1921 - mae: 0.1921\n",
      "Epoch 152/200\n",
      "1/1 [==============================] - 0s 9ms/step - loss: 0.0765 - mae: 0.0765\n",
      "Epoch 153/200\n",
      "1/1 [==============================] - 0s 11ms/step - loss: 0.1838 - mae: 0.1838\n",
      "Epoch 154/200\n",
      "1/1 [==============================] - 0s 12ms/step - loss: 0.1481 - mae: 0.1481\n",
      "Epoch 155/200\n",
      "1/1 [==============================] - 0s 11ms/step - loss: 0.0160 - mae: 0.0160\n",
      "Epoch 156/200\n",
      "1/1 [==============================] - 0s 19ms/step - loss: 0.0336 - mae: 0.0336\n",
      "Epoch 157/200\n",
      "1/1 [==============================] - 0s 11ms/step - loss: 0.0843 - mae: 0.0843\n",
      "Epoch 158/200\n",
      "1/1 [==============================] - 0s 9ms/step - loss: 0.0595 - mae: 0.0595\n",
      "Epoch 159/200\n",
      "1/1 [==============================] - 0s 11ms/step - loss: 0.0959 - mae: 0.0959\n",
      "Epoch 160/200\n",
      "1/1 [==============================] - 0s 11ms/step - loss: 0.1019 - mae: 0.1019\n",
      "Epoch 161/200\n",
      "1/1 [==============================] - 0s 9ms/step - loss: 0.0242 - mae: 0.0242\n",
      "Epoch 162/200\n",
      "1/1 [==============================] - 0s 7ms/step - loss: 0.0069 - mae: 0.0069\n",
      "Epoch 163/200\n",
      "1/1 [==============================] - 0s 10ms/step - loss: 0.1374 - mae: 0.1374\n",
      "Epoch 164/200\n",
      "1/1 [==============================] - 0s 8ms/step - loss: 0.1398 - mae: 0.1398\n",
      "Epoch 165/200\n",
      "1/1 [==============================] - 0s 8ms/step - loss: 0.0154 - mae: 0.0154\n",
      "Epoch 166/200\n",
      "1/1 [==============================] - 0s 10ms/step - loss: 0.2100 - mae: 0.2100\n",
      "Epoch 167/200\n",
      "1/1 [==============================] - 0s 7ms/step - loss: 0.2831 - mae: 0.2831\n",
      "Epoch 168/200\n",
      "1/1 [==============================] - 0s 9ms/step - loss: 0.2225 - mae: 0.2225\n",
      "Epoch 169/200\n",
      "1/1 [==============================] - 0s 11ms/step - loss: 0.0452 - mae: 0.0452\n",
      "Epoch 170/200\n",
      "1/1 [==============================] - 0s 10ms/step - loss: 0.2104 - mae: 0.2104\n",
      "Epoch 171/200\n",
      "1/1 [==============================] - 0s 12ms/step - loss: 0.3017 - mae: 0.3017\n",
      "Epoch 172/200\n",
      "1/1 [==============================] - 0s 12ms/step - loss: 0.2571 - mae: 0.2571\n",
      "Epoch 173/200\n",
      "1/1 [==============================] - 0s 8ms/step - loss: 0.0949 - mae: 0.0949\n",
      "Epoch 174/200\n",
      "1/1 [==============================] - 0s 7ms/step - loss: 0.1867 - mae: 0.1867\n",
      "Epoch 175/200\n",
      "1/1 [==============================] - 0s 9ms/step - loss: 0.3070 - mae: 0.3070\n",
      "Epoch 176/200\n",
      "1/1 [==============================] - 0s 18ms/step - loss: 0.2871 - mae: 0.2871\n",
      "Epoch 177/200\n",
      "1/1 [==============================] - 0s 10ms/step - loss: 0.1416 - mae: 0.1416\n",
      "Epoch 178/200\n",
      "1/1 [==============================] - 0s 11ms/step - loss: 0.1237 - mae: 0.1237\n",
      "Epoch 179/200\n",
      "1/1 [==============================] - 0s 10ms/step - loss: 0.2279 - mae: 0.2279\n",
      "Epoch 180/200\n",
      "1/1 [==============================] - 0s 9ms/step - loss: 0.1977 - mae: 0.1977\n",
      "Epoch 181/200\n",
      "1/1 [==============================] - 0s 8ms/step - loss: 0.0467 - mae: 0.0467\n",
      "Epoch 182/200\n",
      "1/1 [==============================] - 0s 10ms/step - loss: 0.2154 - mae: 0.2154\n",
      "Epoch 183/200\n",
      "1/1 [==============================] - 0s 8ms/step - loss: 0.3227 - mae: 0.3227\n",
      "Epoch 184/200\n",
      "1/1 [==============================] - 0s 8ms/step - loss: 0.2963 - mae: 0.2963\n",
      "Epoch 185/200\n",
      "1/1 [==============================] - 0s 9ms/step - loss: 0.1483 - mae: 0.1483\n",
      "Epoch 186/200\n",
      "1/1 [==============================] - 0s 10ms/step - loss: 0.1167 - mae: 0.1167\n",
      "Epoch 187/200\n",
      "1/1 [==============================] - 0s 10ms/step - loss: 0.2240 - mae: 0.2240\n",
      "Epoch 188/200\n",
      "1/1 [==============================] - 0s 9ms/step - loss: 0.1953 - mae: 0.1953\n",
      "Epoch 189/200\n",
      "1/1 [==============================] - 0s 9ms/step - loss: 0.0443 - mae: 0.0443\n",
      "Epoch 190/200\n",
      "1/1 [==============================] - 0s 8ms/step - loss: 0.2169 - mae: 0.2169\n",
      "Epoch 191/200\n",
      "1/1 [==============================] - 0s 8ms/step - loss: 0.3264 - mae: 0.3264\n",
      "Epoch 192/200\n",
      "1/1 [==============================] - 0s 9ms/step - loss: 0.2994 - mae: 0.2994\n",
      "Epoch 193/200\n",
      "1/1 [==============================] - 0s 8ms/step - loss: 0.1500 - mae: 0.1500\n",
      "Epoch 194/200\n",
      "1/1 [==============================] - 0s 12ms/step - loss: 0.1086 - mae: 0.1086\n",
      "Epoch 195/200\n",
      "1/1 [==============================] - 0s 9ms/step - loss: 0.2167 - mae: 0.2167\n",
      "Epoch 196/200\n",
      "1/1 [==============================] - 0s 12ms/step - loss: 0.1901 - mae: 0.1901\n",
      "Epoch 197/200\n",
      "1/1 [==============================] - 0s 8ms/step - loss: 0.0432 - mae: 0.0432\n",
      "Epoch 198/200\n",
      "1/1 [==============================] - 0s 11ms/step - loss: 0.2120 - mae: 0.2120\n",
      "Epoch 199/200\n",
      "1/1 [==============================] - 0s 12ms/step - loss: 0.3172 - mae: 0.3172\n",
      "Epoch 200/200\n",
      "1/1 [==============================] - 0s 10ms/step - loss: 0.2878 - mae: 0.2878\n"
     ]
    },
    {
     "data": {
      "text/plain": [
       "<keras.callbacks.History at 0x7f9c8c3ced70>"
      ]
     },
     "execution_count": 14,
     "metadata": {},
     "output_type": "execute_result"
    }
   ],
   "source": [
    "# fit the model - let us find patterns\n",
    "model.fit(X, y, epochs=200)"
   ]
  },
  {
   "cell_type": "code",
   "execution_count": 15,
   "metadata": {},
   "outputs": [
    {
     "name": "stdout",
     "output_type": "stream",
     "text": [
      "1/1 [==============================] - 0s 110ms/step\n"
     ]
    },
    {
     "data": {
      "text/plain": [
       "array([[27.366678]], dtype=float32)"
      ]
     },
     "execution_count": 15,
     "metadata": {},
     "output_type": "execute_result"
    }
   ],
   "source": [
    "# make a predction for what x[17] should be\n",
    "model.predict([17])"
   ]
  },
  {
   "attachments": {},
   "cell_type": "markdown",
   "metadata": {},
   "source": [
    "#### Alter the Model for Improvememt"
   ]
  },
  {
   "cell_type": "code",
   "execution_count": null,
   "metadata": {},
   "outputs": [],
   "source": []
  }
 ],
 "metadata": {
  "kernelspec": {
   "display_name": "TensorFlow",
   "language": "python",
   "name": "python3"
  },
  "language_info": {
   "codemirror_mode": {
    "name": "ipython",
    "version": 3
   },
   "file_extension": ".py",
   "mimetype": "text/x-python",
   "name": "python",
   "nbconvert_exporter": "python",
   "pygments_lexer": "ipython3",
   "version": "3.10.8"
  },
  "orig_nbformat": 4,
  "vscode": {
   "interpreter": {
    "hash": "45c48fb264bba0529b917885aa2fdf54bfc5ac58ac8ea30a57d1df6ad7c47fba"
   }
  }
 },
 "nbformat": 4,
 "nbformat_minor": 2
}
