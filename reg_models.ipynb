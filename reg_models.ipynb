{
 "cells": [
  {
   "attachments": {},
   "cell_type": "markdown",
   "metadata": {},
   "source": [
    "`Neural Network Regression w/TensorFlow`"
   ]
  },
  {
   "attachments": {},
   "cell_type": "markdown",
   "metadata": {},
   "source": [
    "### Coverage:\n",
    "* Input/Output shapes of a reg model (features and labels)\n",
    "* Architecture of a reg model\n",
    "* Creating custom data to view and fit\n",
    "* Steps in modelling `create a model, compile, fit, evaluate *CrCoFiEv*`\n",
    "* Evaluation Methods\n",
    "* Saving & Loading Models"
   ]
  },
  {
   "cell_type": "code",
   "execution_count": 71,
   "metadata": {},
   "outputs": [],
   "source": [
    "# lets see how you do comments\n",
    "import tensorflow as tf\n",
    "import numpy as np\n",
    "tf.__version__\n",
    "import matplotlib.pyplot as plt"
   ]
  },
  {
   "attachments": {},
   "cell_type": "markdown",
   "metadata": {},
   "source": [
    "`Regression Inputs and Outputs`\n",
    "* For a Reg problem, the shape of the [output] is normally 1; shape=[1] as we often try to predict some number."
   ]
  },
  {
   "cell_type": "code",
   "execution_count": 72,
   "metadata": {},
   "outputs": [],
   "source": [
    "# Create Features / inputs\n",
    "X = np.array([-7, -4, -1, 2, 5, 8, 11, 14]) # uppercase \n",
    "# create labels\n",
    "y = np.array([3,6,9,12,15,18,21,24]) #lower case\n",
    "# visualize\n",
    "# plt.scatter(X, y)"
   ]
  },
  {
   "cell_type": "code",
   "execution_count": 73,
   "metadata": {},
   "outputs": [
    {
     "data": {
      "text/plain": [
       "array([ True,  True,  True,  True,  True,  True,  True,  True])"
      ]
     },
     "execution_count": 73,
     "metadata": {},
     "output_type": "execute_result"
    }
   ],
   "source": [
    "# what is the pattern btn the features and the labels\n",
    "y == X + 10 # this is the relationship our neural net was supposed to learn"
   ]
  },
  {
   "attachments": {},
   "cell_type": "markdown",
   "metadata": {},
   "source": [
    "`What then might the shapes be for our Input/Output`"
   ]
  },
  {
   "cell_type": "code",
   "execution_count": 74,
   "metadata": {},
   "outputs": [
    {
     "data": {
      "text/plain": [
       "((8,), (8,))"
      ]
     },
     "execution_count": 74,
     "metadata": {},
     "output_type": "execute_result"
    }
   ],
   "source": [
    "X.shape, y.shape"
   ]
  },
  {
   "cell_type": "code",
   "execution_count": 75,
   "metadata": {},
   "outputs": [
    {
     "data": {
      "text/plain": [
       "(array([-7, -4, -1,  2,  5,  8, 11, 14]),\n",
       " array([ 3,  6,  9, 12, 15, 18, 21, 24]))"
      ]
     },
     "execution_count": 75,
     "metadata": {},
     "output_type": "execute_result"
    }
   ],
   "source": [
    "X, y"
   ]
  },
  {
   "cell_type": "code",
   "execution_count": 76,
   "metadata": {},
   "outputs": [
    {
     "data": {
      "text/plain": [
       "(<tf.Tensor: shape=(3, 4), dtype=float32, numpy=\n",
       " array([[10., 11., 12., 13.],\n",
       "        [ 1.,  2.,  3.,  4.],\n",
       "        [ 6.,  7.,  8.,  9.]], dtype=float32)>,\n",
       " <tf.Tensor: shape=(1,), dtype=int32, numpy=array([1243537], dtype=int32)>)"
      ]
     },
     "execution_count": 76,
     "metadata": {},
     "output_type": "execute_result"
    }
   ],
   "source": [
    "# create a demo tensor for or housing price prediction problem\n",
    "house = tf.constant(np.array([[10,11,12,13], [1,2,3,4], [6,7,8,9]]), dtype=tf.float32)\n",
    "price = tf.constant([1243537])\n",
    "house, price"
   ]
  },
  {
   "cell_type": "code",
   "execution_count": 77,
   "metadata": {},
   "outputs": [
    {
     "data": {
      "text/plain": [
       "(<tf.Tensor: shape=(3,), dtype=string, numpy=array([b'bedroom', b'bathroom', b'garage'], dtype=object)>,\n",
       " <tf.Tensor: shape=(1,), dtype=int32, numpy=array([12489141], dtype=int32)>)"
      ]
     },
     "execution_count": 77,
     "metadata": {},
     "output_type": "execute_result"
    }
   ],
   "source": [
    "# create demo with a string input\n",
    "house_info = tf.constant([\"bedroom\", \"bathroom\", \"garage\"])\n",
    "house_price = tf.constant([12489141])\n",
    "house_info, house_price"
   ]
  },
  {
   "attachments": {},
   "cell_type": "markdown",
   "metadata": {},
   "source": [
    "* wanna create a prediction feature : X[0] what is the equivalent y[?]"
   ]
  },
  {
   "cell_type": "code",
   "execution_count": 78,
   "metadata": {},
   "outputs": [
    {
     "data": {
      "text/plain": [
       "(<tf.Tensor: shape=(8,), dtype=int64, numpy=array([-7, -4, -1,  2,  5,  8, 11, 14])>,\n",
       " <tf.Tensor: shape=(8,), dtype=int64, numpy=array([ 3,  6,  9, 12, 15, 18, 21, 24])>)"
      ]
     },
     "execution_count": 78,
     "metadata": {},
     "output_type": "execute_result"
    }
   ],
   "source": [
    "# turn the np arrays into tensors\n",
    "X = tf.constant(X)\n",
    "y = tf.constant(y)\n",
    "X,y"
   ]
  },
  {
   "cell_type": "code",
   "execution_count": 79,
   "metadata": {},
   "outputs": [
    {
     "data": {
      "text/plain": [
       "(TensorShape([]), TensorShape([]))"
      ]
     },
     "execution_count": 79,
     "metadata": {},
     "output_type": "execute_result"
    }
   ],
   "source": [
    "X[0].shape, y[0].shape # these are scalar values, have no dimension"
   ]
  },
  {
   "attachments": {},
   "cell_type": "markdown",
   "metadata": {},
   "source": [
    "### Prediction Feature : Building a model\n",
    "* Creating a Model : `define input hidden and output layer`\n",
    "* Compile the model : `define loss function and the optimizer and evaluation metric`\n",
    "* Fit the Model : `let the model try to find patterns btn X(features) and y(labels)`"
   ]
  },
  {
   "cell_type": "code",
   "execution_count": 80,
   "metadata": {},
   "outputs": [
    {
     "name": "stderr",
     "output_type": "stream",
     "text": [
      "WARNING:absl:`lr` is deprecated, please use `learning_rate` instead, or use the legacy optimizer, e.g.,tf.keras.optimizers.legacy.Adam.\n"
     ]
    }
   ],
   "source": [
    " # set random seed for reproducibility\n",
    "tf.random.set_seed(42)\n",
    "\n",
    "# # create a model using the Sequential API - this is a method of going through all things sequentially\n",
    "# model = tf.keras.models.Sequential([\n",
    "#     tf.keras.layers.Dense(1)\n",
    "# ]) # create a list within Sequential Method instead of using .add\n",
    "\n",
    "model = tf.keras.models.Sequential() # to create a model using Sequential API, shape must be defined\n",
    "model.add(tf.keras.layers.Input(shape=(1,)))\n",
    "\n",
    "model.add(tf.keras.layers.Dense(50, activation=None))\n",
    "# model.add(tf.keras.layers.Dense(50, activation=None))\n",
    "# model.add(tf.keras.layers.Dense(100, activation='relu'))\n",
    "\n",
    "model.add(tf.keras.layers.Dense(1))\n",
    "\n",
    "# compile the model\n",
    "model.compile(loss=tf.keras.losses.mae, # mean abs error\n",
    "            optimizer=tf.keras.optimizers.Adam(lr=0.01), #stochastic gradient descend\n",
    "            metrics=[\"mae\"]\n",
    ")"
   ]
  },
  {
   "attachments": {},
   "cell_type": "markdown",
   "metadata": {},
   "source": [
    "`metrics: human readable and interpretation over the models performance`"
   ]
  },
  {
   "cell_type": "code",
   "execution_count": 81,
   "metadata": {},
   "outputs": [
    {
     "name": "stdout",
     "output_type": "stream",
     "text": [
      "Epoch 1/20\n",
      "1/1 [==============================] - 1s 938ms/step - loss: 14.3170 - mae: 14.3170\n",
      "Epoch 2/20\n",
      "1/1 [==============================] - 0s 9ms/step - loss: 14.2496 - mae: 14.2496\n",
      "Epoch 3/20\n",
      "1/1 [==============================] - 0s 10ms/step - loss: 14.1822 - mae: 14.1822\n",
      "Epoch 4/20\n",
      "1/1 [==============================] - 0s 10ms/step - loss: 14.1147 - mae: 14.1147\n",
      "Epoch 5/20\n",
      "1/1 [==============================] - 0s 8ms/step - loss: 14.0473 - mae: 14.0473\n",
      "Epoch 6/20\n",
      "1/1 [==============================] - 0s 10ms/step - loss: 13.9799 - mae: 13.9799\n",
      "Epoch 7/20\n",
      "1/1 [==============================] - 0s 9ms/step - loss: 13.9126 - mae: 13.9126\n",
      "Epoch 8/20\n",
      "1/1 [==============================] - 0s 10ms/step - loss: 13.8452 - mae: 13.8452\n",
      "Epoch 9/20\n",
      "1/1 [==============================] - 0s 9ms/step - loss: 13.7779 - mae: 13.7779\n",
      "Epoch 10/20\n",
      "1/1 [==============================] - 0s 11ms/step - loss: 13.7106 - mae: 13.7106\n",
      "Epoch 11/20\n",
      "1/1 [==============================] - 0s 14ms/step - loss: 13.6433 - mae: 13.6433\n",
      "Epoch 12/20\n",
      "1/1 [==============================] - 0s 13ms/step - loss: 13.5760 - mae: 13.5760\n",
      "Epoch 13/20\n",
      "1/1 [==============================] - 0s 10ms/step - loss: 13.5087 - mae: 13.5087\n",
      "Epoch 14/20\n",
      "1/1 [==============================] - 0s 37ms/step - loss: 13.4415 - mae: 13.4415\n",
      "Epoch 15/20\n",
      "1/1 [==============================] - 0s 39ms/step - loss: 13.3742 - mae: 13.3742\n",
      "Epoch 16/20\n",
      "1/1 [==============================] - 0s 25ms/step - loss: 13.3069 - mae: 13.3069\n",
      "Epoch 17/20\n",
      "1/1 [==============================] - 0s 13ms/step - loss: 13.2396 - mae: 13.2396\n",
      "Epoch 18/20\n",
      "1/1 [==============================] - 0s 10ms/step - loss: 13.1723 - mae: 13.1723\n",
      "Epoch 19/20\n",
      "1/1 [==============================] - 0s 9ms/step - loss: 13.1050 - mae: 13.1050\n",
      "Epoch 20/20\n",
      "1/1 [==============================] - 0s 9ms/step - loss: 13.0377 - mae: 13.0377\n"
     ]
    },
    {
     "data": {
      "text/plain": [
       "<keras.callbacks.History at 0x7feb7bea7040>"
      ]
     },
     "execution_count": 81,
     "metadata": {},
     "output_type": "execute_result"
    }
   ],
   "source": [
    "# fit the model - let us find patterns\n",
    "model.fit(X, y, epochs=20)"
   ]
  },
  {
   "cell_type": "code",
   "execution_count": 82,
   "metadata": {},
   "outputs": [
    {
     "name": "stdout",
     "output_type": "stream",
     "text": [
      "1/1 [==============================] - 0s 115ms/step\n"
     ]
    },
    {
     "data": {
      "text/plain": [
       "array([[1.8498248]], dtype=float32)"
      ]
     },
     "execution_count": 82,
     "metadata": {},
     "output_type": "execute_result"
    }
   ],
   "source": [
    "# make a predction for what x[17] should be\n",
    "model.predict([17])"
   ]
  },
  {
   "cell_type": "code",
   "execution_count": 83,
   "metadata": {},
   "outputs": [
    {
     "name": "stdout",
     "output_type": "stream",
     "text": [
      "1/1 [==============================] - 0s 62ms/step\n"
     ]
    },
    {
     "data": {
      "text/plain": [
       "array([[1.360872]], dtype=float32)"
      ]
     },
     "execution_count": 83,
     "metadata": {},
     "output_type": "execute_result"
    }
   ],
   "source": [
    "model.predict([12])"
   ]
  },
  {
   "attachments": {},
   "cell_type": "markdown",
   "metadata": {},
   "source": [
    "`Evaluating a Model` : visualize visualize visualize\n",
    "* The data - what data are working with\n",
    "* The Model - what does it look like\n",
    "* The Training - how it perfomes as it learns\n",
    "* The Predictions - how they lines up with ground truth (labeled data)"
   ]
  },
  {
   "cell_type": "code",
   "execution_count": 84,
   "metadata": {},
   "outputs": [
    {
     "data": {
      "text/plain": [
       "(<tf.Tensor: shape=(50,), dtype=int32, numpy=\n",
       " array([-100,  -96,  -92,  -88,  -84,  -80,  -76,  -72,  -68,  -64,  -60,\n",
       "         -56,  -52,  -48,  -44,  -40,  -36,  -32,  -28,  -24,  -20,  -16,\n",
       "         -12,   -8,   -4,    0,    4,    8,   12,   16,   20,   24,   28,\n",
       "          32,   36,   40,   44,   48,   52,   56,   60,   64,   68,   72,\n",
       "          76,   80,   84,   88,   92,   96], dtype=int32)>,\n",
       " <tf.Tensor: shape=(50,), dtype=int32, numpy=\n",
       " array([-200, -192, -184, -176, -168, -160, -152, -144, -136, -128, -120,\n",
       "        -112, -104,  -96,  -88,  -80,  -72,  -64,  -56,  -48,  -40,  -32,\n",
       "         -24,  -16,   -8,    0,    8,   16,   24,   32,   40,   48,   56,\n",
       "          64,   72,   80,   88,   96,  104,  112,  120,  128,  136,  144,\n",
       "         152,  160,  168,  176,  184,  192], dtype=int32)>)"
      ]
     },
     "execution_count": 84,
     "metadata": {},
     "output_type": "execute_result"
    }
   ],
   "source": [
    "# create a larger model\n",
    "X = tf.range(-100, 100, 4)\n",
    "# create a larger label : (matmul)\n",
    "y = tf.add(X,X)\n",
    "X,y"
   ]
  },
  {
   "cell_type": "code",
   "execution_count": 85,
   "metadata": {},
   "outputs": [
    {
     "data": {
      "text/plain": [
       "<matplotlib.collections.PathCollection at 0x7feb7ac2ae90>"
      ]
     },
     "execution_count": 85,
     "metadata": {},
     "output_type": "execute_result"
    },
    {
     "data": {
      "image/png": "[encoded data removed]",
      "text/plain": [
       "<Figure size 640x480 with 1 Axes>"
      ]
     },
     "metadata": {},
     "output_type": "display_data"
    }
   ],
   "source": [
    "# visualize the data\n",
    "plt.scatter(X,y)"
   ]
  },
  {
   "attachments": {},
   "cell_type": "markdown",
   "metadata": {},
   "source": [
    "`split X and y into a training and test set`"
   ]
  },
  {
   "cell_type": "code",
   "execution_count": 86,
   "metadata": {},
   "outputs": [],
   "source": [
    "# # use scikit to perform the test and train\n",
    "# from sklearn.model_selection import train_test_split\n",
    "\n",
    "# X_train, X_test, y_train, y_test = train_test_split(\n",
    "#     X, y, test_size=0.33)"
   ]
  },
  {
   "cell_type": "code",
   "execution_count": 87,
   "metadata": {},
   "outputs": [
    {
     "data": {
      "text/plain": [
       "(50, 50)"
      ]
     },
     "execution_count": 87,
     "metadata": {},
     "output_type": "execute_result"
    }
   ],
   "source": [
    "# check the length of our data set\n",
    "len(X), len(y)"
   ]
  },
  {
   "cell_type": "code",
   "execution_count": 88,
   "metadata": {},
   "outputs": [
    {
     "data": {
      "text/plain": [
       "(40, 40, 10, 10)"
      ]
     },
     "execution_count": 88,
     "metadata": {},
     "output_type": "execute_result"
    }
   ],
   "source": [
    "# spilt into an 80% & 20%\n",
    "X_train = X[:40] # get the first 40 samples\n",
    "y_train = y[:40]\n",
    "\n",
    "X_test = X[40:] # last 10 elements\n",
    "y_test = y[40:]\n",
    "\n",
    "len(X_train), len(y_train), len(X_test), len(y_test)"
   ]
  },
  {
   "cell_type": "code",
   "execution_count": 89,
   "metadata": {},
   "outputs": [
    {
     "data": {
      "text/plain": [
       "<matplotlib.collections.PathCollection at 0x7feb7add6d70>"
      ]
     },
     "execution_count": 89,
     "metadata": {},
     "output_type": "execute_result"
    },
    {
     "data": {
      "image/png": "[encoded data removed]",
      "text/plain": [
       "<Figure size 400x400 with 1 Axes>"
      ]
     },
     "metadata": {},
     "output_type": "display_data"
    }
   ],
   "source": [
    "plt.figure(figsize=(4,4))\n",
    "plt.scatter(X_train, y_train) # train\n",
    "plt.scatter(X_test, y_test) #test"
   ]
  },
  {
   "cell_type": "code",
   "execution_count": 90,
   "metadata": {},
   "outputs": [],
   "source": [
    "# Build a Neural Net that learns a relationship btn X and y; such that it can predict the X and y values\n",
    "# Create -> Compile -> Fit\n",
    "\n",
    "#1. Create the Model\n",
    "model = tf.keras.Sequential([\n",
    "    tf.keras.layers.Dense(1, input_shape=[1]), #we are trying to predict only one input vs output value\n",
    "])\n",
    "\n",
    "#2. Compile the model\n",
    "model.compile(optimizer=tf.keras.optimizers.SGD(),\n",
    "loss=tf.keras.losses.mae,\n",
    "metrics=[\"mae\"]\n",
    ")\n",
    "#3. Fit the model\n",
    "# model.fit(X_train, y_train, epochs=2000)"
   ]
  },
  {
   "attachments": {},
   "cell_type": "markdown",
   "metadata": {},
   "source": [
    "`For visualizing`"
   ]
  },
  {
   "cell_type": "code",
   "execution_count": 91,
   "metadata": {},
   "outputs": [
    {
     "data": {
      "text/plain": [
       "(<tf.Tensor: shape=(), dtype=int32, numpy=-100>,\n",
       " <tf.Tensor: shape=(), dtype=int32, numpy=-200>)"
      ]
     },
     "execution_count": 91,
     "metadata": {},
     "output_type": "execute_result"
    }
   ],
   "source": [
    "# what type of data are we dealing with - determines the input_shape\n",
    "# one input for one output\n",
    "X_train[0], y_train[0] #single numbers"
   ]
  },
  {
   "cell_type": "code",
   "execution_count": 92,
   "metadata": {},
   "outputs": [],
   "source": [
    "# set the seed for reproducibility\n",
    "tf.random.set_seed(42)\n",
    "# create the model; but specify the input shape on the first layer\n",
    "viz_model = tf.keras.Sequential([\n",
    "    tf.keras.layers.Dense(1, input_shape=[1]), # dealing with scalar data\n",
    "])\n",
    "# compile the model\n",
    "viz_model.compile(\n",
    "    optimizer=tf.keras.optimizers.Adam(learning_rate=0.01),\n",
    "    loss=tf.keras.losses.mae,\n",
    "    metrics=['mae']\n",
    "    )"
   ]
  },
  {
   "cell_type": "code",
   "execution_count": 93,
   "metadata": {},
   "outputs": [
    {
     "name": "stdout",
     "output_type": "stream",
     "text": [
      "Model: \"sequential_8\"\n",
      "_________________________________________________________________\n",
      " Layer (type)                Output Shape              Param #   \n",
      "=================================================================\n",
      " dense_11 (Dense)            (None, 1)                 2         \n",
      "                                                                 \n",
      "=================================================================\n",
      "Total params: 2\n",
      "Trainable params: 2\n",
      "Non-trainable params: 0\n",
      "_________________________________________________________________\n"
     ]
    }
   ],
   "source": [
    "# visualize the model before running it.\n",
    "viz_model.summary()"
   ]
  },
  {
   "cell_type": "code",
   "execution_count": 94,
   "metadata": {},
   "outputs": [
    {
     "name": "stdout",
     "output_type": "stream",
     "text": [
      "Epoch 1/20\n",
      "2/2 - 0s - loss: 154.0858 - mae: 154.0858 - 495ms/epoch - 247ms/step\n",
      "Epoch 2/20\n",
      "2/2 - 0s - loss: 118.1018 - mae: 118.1018 - 6ms/epoch - 3ms/step\n",
      "Epoch 3/20\n",
      "2/2 - 0s - loss: 79.9810 - mae: 79.9810 - 8ms/epoch - 4ms/step\n",
      "Epoch 4/20\n",
      "2/2 - 0s - loss: 43.0966 - mae: 43.0966 - 11ms/epoch - 5ms/step\n",
      "Epoch 5/20\n",
      "2/2 - 0s - loss: 9.6497 - mae: 9.6497 - 12ms/epoch - 6ms/step\n",
      "Epoch 6/20\n",
      "2/2 - 0s - loss: 7.3173 - mae: 7.3173 - 12ms/epoch - 6ms/step\n",
      "Epoch 7/20\n",
      "2/2 - 0s - loss: 4.4916 - mae: 4.4916 - 11ms/epoch - 6ms/step\n",
      "Epoch 8/20\n",
      "2/2 - 0s - loss: 4.8199 - mae: 4.8199 - 10ms/epoch - 5ms/step\n",
      "Epoch 9/20\n",
      "2/2 - 0s - loss: 9.8539 - mae: 9.8539 - 8ms/epoch - 4ms/step\n",
      "Epoch 10/20\n",
      "2/2 - 0s - loss: 12.2851 - mae: 12.2851 - 8ms/epoch - 4ms/step\n",
      "Epoch 11/20\n",
      "2/2 - 0s - loss: 8.9881 - mae: 8.9881 - 8ms/epoch - 4ms/step\n",
      "Epoch 12/20\n",
      "2/2 - 0s - loss: 11.9480 - mae: 11.9480 - 9ms/epoch - 4ms/step\n",
      "Epoch 13/20\n",
      "2/2 - 0s - loss: 12.4046 - mae: 12.4046 - 11ms/epoch - 6ms/step\n",
      "Epoch 14/20\n",
      "2/2 - 0s - loss: 21.0908 - mae: 21.0908 - 12ms/epoch - 6ms/step\n",
      "Epoch 15/20\n",
      "2/2 - 0s - loss: 12.5381 - mae: 12.5381 - 12ms/epoch - 6ms/step\n",
      "Epoch 16/20\n",
      "2/2 - 0s - loss: 10.8306 - mae: 10.8306 - 10ms/epoch - 5ms/step\n",
      "Epoch 17/20\n",
      "2/2 - 0s - loss: 11.6265 - mae: 11.6265 - 10ms/epoch - 5ms/step\n",
      "Epoch 18/20\n",
      "2/2 - 0s - loss: 13.2411 - mae: 13.2411 - 7ms/epoch - 3ms/step\n",
      "Epoch 19/20\n",
      "2/2 - 0s - loss: 15.2520 - mae: 15.2520 - 10ms/epoch - 5ms/step\n",
      "Epoch 20/20\n",
      "2/2 - 0s - loss: 12.7620 - mae: 12.7620 - 9ms/epoch - 4ms/step\n"
     ]
    },
    {
     "data": {
      "text/plain": [
       "<keras.callbacks.History at 0x7feb7bd02e30>"
      ]
     },
     "execution_count": 94,
     "metadata": {},
     "output_type": "execute_result"
    }
   ],
   "source": [
    "# Fit our original model, this is after observing the structure of our model\n",
    "\n",
    "model.fit(X_train, y_train, epochs=20, verbose=2) # training_data(X_train), label_data(y_train)"
   ]
  },
  {
   "cell_type": "code",
   "execution_count": 95,
   "metadata": {},
   "outputs": [
    {
     "name": "stdout",
     "output_type": "stream",
     "text": [
      "Model: \"sequential_7\"\n",
      "_________________________________________________________________\n",
      " Layer (type)                Output Shape              Param #   \n",
      "=================================================================\n",
      " dense_10 (Dense)            (None, 1)                 2         \n",
      "                                                                 \n",
      "=================================================================\n",
      "Total params: 2\n",
      "Trainable params: 2\n",
      "Non-trainable params: 0\n",
      "_________________________________________________________________\n"
     ]
    }
   ],
   "source": [
    "model.summary()"
   ]
  },
  {
   "cell_type": "code",
   "execution_count": 96,
   "metadata": {},
   "outputs": [
    {
     "name": "stdout",
     "output_type": "stream",
     "text": [
      "1/1 [==============================] - 0s 138ms/step\n"
     ]
    },
    {
     "data": {
      "text/plain": [
       "array([[228.65564]], dtype=float32)"
      ]
     },
     "execution_count": 96,
     "metadata": {},
     "output_type": "execute_result"
    }
   ],
   "source": [
    "model.predict([96])"
   ]
  },
  {
   "cell_type": "code",
   "execution_count": 97,
   "metadata": {},
   "outputs": [
    {
     "data": {
      "image/png": "[encoded data removed]",
      "text/plain": [
       "<IPython.core.display.Image object>"
      ]
     },
     "execution_count": 97,
     "metadata": {},
     "output_type": "execute_result"
    }
   ],
   "source": [
    "# another visualizing feature\n",
    "from tensorflow.keras.utils import plot_model\n",
    "plot_model(model=model, show_shapes=True)"
   ]
  },
  {
   "attachments": {},
   "cell_type": "markdown",
   "metadata": {},
   "source": [
    "##### Proceeding with the viz_model"
   ]
  },
  {
   "cell_type": "code",
   "execution_count": 98,
   "metadata": {},
   "outputs": [
    {
     "name": "stderr",
     "output_type": "stream",
     "text": [
      "WARNING:absl:`lr` is deprecated, please use `learning_rate` instead, or use the legacy optimizer, e.g.,tf.keras.optimizers.legacy.Adam.\n"
     ]
    }
   ],
   "source": [
    "# set seed for reproducibility\n",
    "tf.random.set_seed(42)\n",
    "\n",
    "# create a viz model; Also, going to practise layer and model naming.\n",
    "viz_model = tf.keras.models.Sequential([\n",
    "    tf.keras.layers.Dense(10, input_shape=[1], name='first_input_layer'),\n",
    "    tf.keras.layers.Dense(1, name='output_first_input_layer')\n",
    "], name=\"Model_for_Visualization\")\n",
    "\n",
    "#compile the model\n",
    "viz_model.compile(\n",
    "    optimizer=tf.keras.optimizers.Adam(lr=0.01),\n",
    "    metrics='mae',\n",
    "    loss= tf.losses.mae\n",
    ")"
   ]
  },
  {
   "cell_type": "code",
   "execution_count": 99,
   "metadata": {},
   "outputs": [
    {
     "name": "stdout",
     "output_type": "stream",
     "text": [
      "Model: \"Model_for_Visualization\"\n",
      "_________________________________________________________________\n",
      " Layer (type)                Output Shape              Param #   \n",
      "=================================================================\n",
      " first_input_layer (Dense)   (None, 10)                20        \n",
      "                                                                 \n",
      " output_first_input_layer (D  (None, 1)                11        \n",
      " ense)                                                           \n",
      "                                                                 \n",
      "=================================================================\n",
      "Total params: 31\n",
      "Trainable params: 31\n",
      "Non-trainable params: 0\n",
      "_________________________________________________________________\n"
     ]
    }
   ],
   "source": [
    "viz_model.summary()"
   ]
  },
  {
   "attachments": {},
   "cell_type": "markdown",
   "metadata": {},
   "source": [
    "### `Visualizing Model Predictions`"
   ]
  },
  {
   "cell_type": "code",
   "execution_count": 100,
   "metadata": {},
   "outputs": [
    {
     "name": "stdout",
     "output_type": "stream",
     "text": [
      "1/1 [==============================] - 0s 78ms/step\n"
     ]
    },
    {
     "data": {
      "text/plain": [
       "((10, 1), TensorShape([10]))"
      ]
     },
     "execution_count": 100,
     "metadata": {},
     "output_type": "execute_result"
    }
   ],
   "source": [
    "y_pred = model.predict(X_test) # predict on the test data\n",
    "y_pred.shape, y_test.shape # compare the predicted value using the test data using the actual values [y_test]"
   ]
  },
  {
   "attachments": {},
   "cell_type": "markdown",
   "metadata": {},
   "source": [
    "`Create a Plotting Function`"
   ]
  },
  {
   "cell_type": "code",
   "execution_count": 101,
   "metadata": {},
   "outputs": [],
   "source": [
    "def plot_prediction(\n",
    "    train_data = X_train,\n",
    "    train_labels = y_train,\n",
    "    test_data = X_test,\n",
    "    test_labels = y_test,\n",
    "    predictions=y_pred):\n",
    "\n",
    "    \"\"\"\n",
    "    Plots training_data, test_data and compares prediction to ground truth labels [y_test]\n",
    "    \"\"\"\n",
    "    plt.figure(figsize=(5,5))\n",
    "    # plot the traing data\n",
    "    plt.scatter(train_data, train_labels, label=\"Training_Data\")\n",
    "    # # plot the testing data\n",
    "    plt.scatter(test_data, test_labels, label=\"Testing_Data\")\n",
    "    # # plot the predictions\n",
    "    plt.scatter(test_data, predictions)\n",
    "    # plt.legend();\n",
    "    # plt.show()"
   ]
  },
  {
   "cell_type": "code",
   "execution_count": 102,
   "metadata": {},
   "outputs": [
    {
     "data": {
      "image/png": "[encoded data removed]",
      "text/plain": [
       "<Figure size 500x500 with 1 Axes>"
      ]
     },
     "metadata": {},
     "output_type": "display_data"
    }
   ],
   "source": [
    "# call the function\n",
    "plot_prediction(predictions=tf.squeeze(y_pred))"
   ]
  },
  {
   "attachments": {},
   "cell_type": "markdown",
   "metadata": {},
   "source": [
    "`Regression Evaluation Metrics`"
   ]
  },
  {
   "cell_type": "code",
   "execution_count": 103,
   "metadata": {},
   "outputs": [
    {
     "name": "stdout",
     "output_type": "stream",
     "text": [
      "1/1 [==============================] - 0s 223ms/step - loss: 29.7770 - mae: 29.7770\n"
     ]
    },
    {
     "data": {
      "text/plain": [
       "[29.777019500732422, 29.777019500732422]"
      ]
     },
     "execution_count": 103,
     "metadata": {},
     "output_type": "execute_result"
    }
   ],
   "source": [
    "model.evaluate(X_test, y_test) # evaluation is carried outon the test dataset.\n",
    "# returns - loss, mae"
   ]
  },
  {
   "attachments": {},
   "cell_type": "markdown",
   "metadata": {},
   "source": [
    "#### be metric specific"
   ]
  },
  {
   "cell_type": "code",
   "execution_count": 104,
   "metadata": {},
   "outputs": [
    {
     "data": {
      "text/plain": [
       "<tf.Tensor: shape=(10,), dtype=float32, numpy=\n",
       "array([22.040638, 20.      , 20.391113, 22.993658, 27.807636, 34.833046,\n",
       "       44.0699  , 53.59848 , 63.127064, 72.65564 ], dtype=float32)>"
      ]
     },
     "execution_count": 104,
     "metadata": {},
     "output_type": "execute_result"
    }
   ],
   "source": [
    "tf.metrics.mean_absolute_error(y_test, y_pred)"
   ]
  },
  {
   "cell_type": "code",
   "execution_count": 105,
   "metadata": {},
   "outputs": [
    {
     "data": {
      "text/plain": [
       "<tf.Tensor: shape=(10,), dtype=float32, numpy=\n",
       "array([22.040638, 20.      , 20.391113, 22.993658, 27.807636, 34.833046,\n",
       "       44.0699  , 53.59848 , 63.127064, 72.65564 ], dtype=float32)>"
      ]
     },
     "execution_count": 105,
     "metadata": {},
     "output_type": "execute_result"
    }
   ],
   "source": [
    "loss = tf.keras.losses.mean_absolute_error(y_true=y_test, y_pred=y_pred)\n",
    "loss"
   ]
  },
  {
   "cell_type": "code",
   "execution_count": 106,
   "metadata": {},
   "outputs": [
    {
     "data": {
      "text/plain": [
       "((10, 1), TensorShape([10]))"
      ]
     },
     "execution_count": 106,
     "metadata": {},
     "output_type": "execute_result"
    }
   ],
   "source": [
    "y_pred.shape, y_test.shape\n",
    "# we ran into errors above due to differing shapes.\n",
    "# thereofe, we can add or squeeze a tensor.. lets do so on y_pred"
   ]
  },
  {
   "cell_type": "code",
   "execution_count": 107,
   "metadata": {},
   "outputs": [],
   "source": [
    "# squeeze y_pred\n",
    "y_pred_sq = tf.squeeze(y_pred)"
   ]
  },
  {
   "cell_type": "code",
   "execution_count": 108,
   "metadata": {},
   "outputs": [
    {
     "data": {
      "text/plain": [
       "TensorShape([10])"
      ]
     },
     "execution_count": 108,
     "metadata": {},
     "output_type": "execute_result"
    }
   ],
   "source": [
    "y_pred_sq.shape"
   ]
  },
  {
   "cell_type": "code",
   "execution_count": 109,
   "metadata": {},
   "outputs": [
    {
     "data": {
      "text/plain": [
       "29.77702"
      ]
     },
     "execution_count": 109,
     "metadata": {},
     "output_type": "execute_result"
    }
   ],
   "source": [
    "# running the loss functions after squeezing\n",
    "loss_mae = tf.metrics.mean_absolute_error(y_test, y_pred_sq)\n",
    "loss_mae.numpy()"
   ]
  },
  {
   "attachments": {},
   "cell_type": "markdown",
   "metadata": {},
   "source": [
    "`we get an output as of 10.292981 - this output is similar to the one by the model metric`"
   ]
  },
  {
   "cell_type": "code",
   "execution_count": 110,
   "metadata": {},
   "outputs": [
    {
     "data": {
      "text/plain": [
       "905.94763"
      ]
     },
     "execution_count": 110,
     "metadata": {},
     "output_type": "execute_result"
    }
   ],
   "source": [
    "loss_mse = tf.keras.losses.mean_squared_error(y_pred=y_pred_sq, y_true=y_test)\n",
    "loss_mse.numpy()"
   ]
  },
  {
   "attachments": {},
   "cell_type": "markdown",
   "metadata": {},
   "source": [
    "#### Build Model_2\n",
    "* 2 dense layers \n",
    "* trained for 100 epochs"
   ]
  },
  {
   "cell_type": "code",
   "execution_count": 111,
   "metadata": {},
   "outputs": [
    {
     "name": "stdout",
     "output_type": "stream",
     "text": [
      "Epoch 1/20\n",
      "2/2 [==============================] - 1s 11ms/step - loss: 93.8240 - mse: 13009.3096\n",
      "Epoch 2/20\n",
      "2/2 [==============================] - 0s 9ms/step - loss: 18.0578 - mse: 1273.4078\n",
      "Epoch 3/20\n",
      "2/2 [==============================] - 0s 9ms/step - loss: 25.9600 - mse: 1277.2933\n",
      "Epoch 4/20\n",
      "2/2 [==============================] - 0s 9ms/step - loss: 34.1163 - mse: 1859.4720\n",
      "Epoch 5/20\n",
      "2/2 [==============================] - 0s 8ms/step - loss: 50.1035 - mse: 3965.9448\n",
      "Epoch 6/20\n",
      "2/2 [==============================] - 0s 9ms/step - loss: 37.7080 - mse: 2013.7367\n",
      "Epoch 7/20\n",
      "2/2 [==============================] - 0s 11ms/step - loss: 25.6327 - mse: 1134.7898\n",
      "Epoch 8/20\n",
      "2/2 [==============================] - 0s 12ms/step - loss: 28.4027 - mse: 1198.1663\n",
      "Epoch 9/20\n",
      "2/2 [==============================] - 0s 12ms/step - loss: 69.0842 - mse: 6809.2705\n",
      "Epoch 10/20\n",
      "2/2 [==============================] - 0s 11ms/step - loss: 27.6947 - mse: 1137.3434\n",
      "Epoch 11/20\n",
      "2/2 [==============================] - 0s 8ms/step - loss: 29.1590 - mse: 1210.0044\n",
      "Epoch 12/20\n",
      "2/2 [==============================] - 0s 11ms/step - loss: 56.2638 - mse: 4604.9463\n",
      "Epoch 13/20\n",
      "2/2 [==============================] - 0s 11ms/step - loss: 27.8104 - mse: 1397.0045\n",
      "Epoch 14/20\n",
      "2/2 [==============================] - 0s 12ms/step - loss: 23.8597 - mse: 1197.2126\n",
      "Epoch 15/20\n",
      "2/2 [==============================] - 0s 8ms/step - loss: 19.1452 - mse: 1670.2422\n",
      "Epoch 16/20\n",
      "2/2 [==============================] - 0s 7ms/step - loss: 27.2459 - mse: 1093.1135\n",
      "Epoch 17/20\n",
      "2/2 [==============================] - 0s 6ms/step - loss: 41.0477 - mse: 2790.1436\n",
      "Epoch 18/20\n",
      "2/2 [==============================] - 0s 7ms/step - loss: 66.0393 - mse: 6448.2939\n",
      "Epoch 19/20\n",
      "2/2 [==============================] - 0s 9ms/step - loss: 33.5549 - mse: 1742.9814\n",
      "Epoch 20/20\n",
      "2/2 [==============================] - 0s 9ms/step - loss: 25.1672 - mse: 1209.9866\n"
     ]
    },
    {
     "data": {
      "text/plain": [
       "<keras.callbacks.History at 0x7feb7b482560>"
      ]
     },
     "execution_count": 111,
     "metadata": {},
     "output_type": "execute_result"
    }
   ],
   "source": [
    "# set the random seed\n",
    "tf.random.set_seed(42)\n",
    "\n",
    "#create the model - 2Dense\n",
    "model_2 = tf.keras.Sequential(\n",
    "   [ tf.keras.layers.Dense(10, input_shape=[1]),\n",
    "    tf.keras.layers.Dense(1)]\n",
    ")\n",
    "\n",
    "# compile the model\n",
    "model_2.compile(\n",
    "    loss=tf.keras.losses.mae,\n",
    "    optimizer=tf.keras.optimizers.SGD(),\n",
    "    metrics=[\"mse\"] #note: mse values are much higher than mae\n",
    ")\n",
    "\n",
    "# fit the model\n",
    "model_2.fit(X_train, y_train, epochs=20)"
   ]
  },
  {
   "cell_type": "code",
   "execution_count": 112,
   "metadata": {},
   "outputs": [
    {
     "name": "stdout",
     "output_type": "stream",
     "text": [
      "1/1 [==============================] - 0s 101ms/step\n"
     ]
    }
   ],
   "source": [
    "# from function_prediction import plot_prediction\n",
    "\n",
    "y_pred_2 = model_2.predict(X_test)  "
   ]
  },
  {
   "cell_type": "code",
   "execution_count": 114,
   "metadata": {},
   "outputs": [
    {
     "data": {
      "text/plain": [
       "((10, 1), TensorShape([10]))"
      ]
     },
     "execution_count": 114,
     "metadata": {},
     "output_type": "execute_result"
    }
   ],
   "source": [
    "# inspect the shape:\n",
    "y_pred_2.shape, y_test.shape\n",
    "# we get [10,10] for the pred\n",
    "# a [10] for the test "
   ]
  },
  {
   "cell_type": "code",
   "execution_count": 117,
   "metadata": {},
   "outputs": [],
   "source": [
    "# however they have to be of the same shape.\n",
    "# y_pred_2_sq = tf.squeeze(y_pred_2)"
   ]
  },
  {
   "cell_type": "code",
   "execution_count": 118,
   "metadata": {},
   "outputs": [
    {
     "data": {
      "image/png": "[encoded data removed]",
      "text/plain": [
       "<Figure size 500x500 with 1 Axes>"
      ]
     },
     "metadata": {},
     "output_type": "display_data"
    }
   ],
   "source": [
    "plot_prediction(predictions=tf.squeeze(y_pred_2))"
   ]
  }
 ],
 "metadata": {
  "kernelspec": {
   "display_name": "TensorFlow",
   "language": "python",
   "name": "python3"
  },
  "language_info": {
   "codemirror_mode": {
    "name": "ipython",
    "version": 3
   },
   "file_extension": ".py",
   "mimetype": "text/x-python",
   "name": "python",
   "nbconvert_exporter": "python",
   "pygments_lexer": "ipython3",
   "version": "3.10.8"
  },
  "orig_nbformat": 4,
  "vscode": {
   "interpreter": {
    "hash": "45c48fb264bba0529b917885aa2fdf54bfc5ac58ac8ea30a57d1df6ad7c47fba"
   }
  }
 },
 "nbformat": 4,
 "nbformat_minor": 2
}
