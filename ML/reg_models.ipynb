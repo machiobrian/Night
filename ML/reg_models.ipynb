{
 "cells": [
  {
   "attachments": {},
   "cell_type": "markdown",
   "metadata": {},
   "source": [
    "`Neural Network Regression w/TensorFlow`"
   ]
  },
  {
   "attachments": {},
   "cell_type": "markdown",
   "metadata": {},
   "source": [
    "### Coverage:\n",
    "* Input/Output shapes of a reg model (features and labels)\n",
    "* Architecture of a reg model\n",
    "* Creating custom data to view and fit\n",
    "* Steps in modelling `create a model, compile, fit, evaluate *CrCoFiEv*`\n",
    "* Evaluation Methods\n",
    "* Saving & Loading Models"
   ]
  },
  {
   "cell_type": "code",
   "execution_count": 79,
   "metadata": {},
   "outputs": [],
   "source": [
    "# lets see how you do comments\n",
    "import tensorflow as tf\n",
    "import numpy as np\n",
    "tf.__version__\n",
    "import matplotlib.pyplot as plt"
   ]
  },
  {
   "attachments": {},
   "cell_type": "markdown",
   "metadata": {},
   "source": [
    "`Regression Inputs and Outputs`\n",
    "* For a Reg problem, the shape of the [output] is normally 1; shape=[1] as we often try to predict some number."
   ]
  },
  {
   "cell_type": "code",
   "execution_count": 80,
   "metadata": {},
   "outputs": [],
   "source": [
    "# Create Features / inputs\n",
    "X = np.array([-7, -4, -1, 2, 5, 8, 11, 14]) # uppercase \n",
    "# create labels\n",
    "y = np.array([3,6,9,12,15,18,21,24]) #lower case\n",
    "# visualize\n",
    "# plt.scatter(X, y)"
   ]
  },
  {
   "cell_type": "code",
   "execution_count": 81,
   "metadata": {},
   "outputs": [
    {
     "data": {
      "text/plain": [
       "array([ True,  True,  True,  True,  True,  True,  True,  True])"
      ]
     },
     "execution_count": 81,
     "metadata": {},
     "output_type": "execute_result"
    }
   ],
   "source": [
    "# what is the pattern btn the features and the labels\n",
    "y == X + 10 # this is the relationship our neural net was supposed to learn"
   ]
  },
  {
   "attachments": {},
   "cell_type": "markdown",
   "metadata": {},
   "source": [
    "`What then might the shapes be for our Input/Output`"
   ]
  },
  {
   "cell_type": "code",
   "execution_count": 82,
   "metadata": {},
   "outputs": [
    {
     "data": {
      "text/plain": [
       "((8,), (8,))"
      ]
     },
     "execution_count": 82,
     "metadata": {},
     "output_type": "execute_result"
    }
   ],
   "source": [
    "X.shape, y.shape"
   ]
  },
  {
   "cell_type": "code",
   "execution_count": 83,
   "metadata": {},
   "outputs": [
    {
     "data": {
      "text/plain": [
       "(array([-7, -4, -1,  2,  5,  8, 11, 14]),\n",
       " array([ 3,  6,  9, 12, 15, 18, 21, 24]))"
      ]
     },
     "execution_count": 83,
     "metadata": {},
     "output_type": "execute_result"
    }
   ],
   "source": [
    "X, y"
   ]
  },
  {
   "cell_type": "code",
   "execution_count": 84,
   "metadata": {},
   "outputs": [
    {
     "data": {
      "text/plain": [
       "(<tf.Tensor: shape=(3, 4), dtype=float32, numpy=\n",
       " array([[10., 11., 12., 13.],\n",
       "        [ 1.,  2.,  3.,  4.],\n",
       "        [ 6.,  7.,  8.,  9.]], dtype=float32)>,\n",
       " <tf.Tensor: shape=(1,), dtype=int32, numpy=array([1243537], dtype=int32)>)"
      ]
     },
     "execution_count": 84,
     "metadata": {},
     "output_type": "execute_result"
    }
   ],
   "source": [
    "# create a demo tensor for or housing price prediction problem\n",
    "house = tf.constant(np.array([[10,11,12,13], [1,2,3,4], [6,7,8,9]]), dtype=tf.float32)\n",
    "price = tf.constant([1243537])\n",
    "house, price"
   ]
  },
  {
   "cell_type": "code",
   "execution_count": 85,
   "metadata": {},
   "outputs": [
    {
     "data": {
      "text/plain": [
       "(<tf.Tensor: shape=(3,), dtype=string, numpy=array([b'bedroom', b'bathroom', b'garage'], dtype=object)>,\n",
       " <tf.Tensor: shape=(1,), dtype=int32, numpy=array([12489141], dtype=int32)>)"
      ]
     },
     "execution_count": 85,
     "metadata": {},
     "output_type": "execute_result"
    }
   ],
   "source": [
    "# create demo with a string input\n",
    "house_info = tf.constant([\"bedroom\", \"bathroom\", \"garage\"])\n",
    "house_price = tf.constant([12489141])\n",
    "house_info, house_price"
   ]
  },
  {
   "attachments": {},
   "cell_type": "markdown",
   "metadata": {},
   "source": [
    "* wanna create a prediction feature : X[0] what is the equivalent y[?]"
   ]
  },
  {
   "cell_type": "code",
   "execution_count": 86,
   "metadata": {},
   "outputs": [
    {
     "data": {
      "text/plain": [
       "(<tf.Tensor: shape=(8,), dtype=int64, numpy=array([-7, -4, -1,  2,  5,  8, 11, 14])>,\n",
       " <tf.Tensor: shape=(8,), dtype=int64, numpy=array([ 3,  6,  9, 12, 15, 18, 21, 24])>)"
      ]
     },
     "execution_count": 86,
     "metadata": {},
     "output_type": "execute_result"
    }
   ],
   "source": [
    "# turn the np arrays into tensors\n",
    "X = tf.constant(X)\n",
    "y = tf.constant(y)\n",
    "X,y"
   ]
  },
  {
   "cell_type": "code",
   "execution_count": 87,
   "metadata": {},
   "outputs": [
    {
     "data": {
      "text/plain": [
       "(TensorShape([]), TensorShape([]))"
      ]
     },
     "execution_count": 87,
     "metadata": {},
     "output_type": "execute_result"
    }
   ],
   "source": [
    "X[0].shape, y[0].shape # these are scalar values, have no dimension"
   ]
  },
  {
   "attachments": {},
   "cell_type": "markdown",
   "metadata": {},
   "source": [
    "### Prediction Feature : Building a model\n",
    "* Creating a Model : `define input hidden and output layer`\n",
    "* Compile the model : `define loss function and the optimizer and evaluation metric`\n",
    "* Fit the Model : `let the model try to find patterns btn X(features) and y(labels)`"
   ]
  },
  {
   "cell_type": "code",
   "execution_count": 88,
   "metadata": {},
   "outputs": [
    {
     "name": "stderr",
     "output_type": "stream",
     "text": [
      "WARNING:absl:`lr` is deprecated, please use `learning_rate` instead, or use the legacy optimizer, e.g.,tf.keras.optimizers.legacy.Adam.\n"
     ]
    }
   ],
   "source": [
    " # set random seed for reproducibility\n",
    "tf.random.set_seed(42)\n",
    "\n",
    "# # create a model using the Sequential API - this is a method of going through all things sequentially\n",
    "# model = tf.keras.models.Sequential([\n",
    "#     tf.keras.layers.Dense(1)\n",
    "# ]) # create a list within Sequential Method instead of using .add\n",
    "\n",
    "model = tf.keras.models.Sequential() # to create a model using Sequential API, shape must be defined\n",
    "model.add(tf.keras.layers.Input(shape=(1,)))\n",
    "\n",
    "model.add(tf.keras.layers.Dense(50, activation=None))\n",
    "# model.add(tf.keras.layers.Dense(50, activation=None))\n",
    "# model.add(tf.keras.layers.Dense(100, activation='relu'))\n",
    "\n",
    "model.add(tf.keras.layers.Dense(1))\n",
    "\n",
    "# compile the model\n",
    "model.compile(loss=tf.keras.losses.mae, # mean abs error\n",
    "            optimizer=tf.keras.optimizers.Adam(lr=0.01), #stochastic gradient descend\n",
    "            metrics=[\"mae\"]\n",
    ")"
   ]
  },
  {
   "attachments": {},
   "cell_type": "markdown",
   "metadata": {},
   "source": [
    "`metrics: human readable and interpretation over the models performance`"
   ]
  },
  {
   "cell_type": "code",
   "execution_count": 89,
   "metadata": {},
   "outputs": [
    {
     "name": "stdout",
     "output_type": "stream",
     "text": [
      "Epoch 1/20\n",
      "1/1 [==============================] - 1s 790ms/step - loss: 14.3352 - mae: 14.3352\n",
      "Epoch 2/20\n",
      "1/1 [==============================] - 0s 7ms/step - loss: 14.2680 - mae: 14.2680\n",
      "Epoch 3/20\n",
      "1/1 [==============================] - 0s 7ms/step - loss: 14.2009 - mae: 14.2009\n",
      "Epoch 4/20\n",
      "1/1 [==============================] - 0s 9ms/step - loss: 14.1339 - mae: 14.1339\n",
      "Epoch 5/20\n",
      "1/1 [==============================] - 0s 8ms/step - loss: 14.0668 - mae: 14.0668\n",
      "Epoch 6/20\n",
      "1/1 [==============================] - 0s 7ms/step - loss: 13.9998 - mae: 13.9998\n",
      "Epoch 7/20\n",
      "1/1 [==============================] - 0s 7ms/step - loss: 13.9329 - mae: 13.9329\n",
      "Epoch 8/20\n",
      "1/1 [==============================] - 0s 9ms/step - loss: 13.8659 - mae: 13.8659\n",
      "Epoch 9/20\n",
      "1/1 [==============================] - 0s 7ms/step - loss: 13.7990 - mae: 13.7990\n",
      "Epoch 10/20\n",
      "1/1 [==============================] - 0s 7ms/step - loss: 13.7321 - mae: 13.7321\n",
      "Epoch 11/20\n",
      "1/1 [==============================] - 0s 10ms/step - loss: 13.6653 - mae: 13.6653\n",
      "Epoch 12/20\n",
      "1/1 [==============================] - 0s 10ms/step - loss: 13.5984 - mae: 13.5984\n",
      "Epoch 13/20\n",
      "1/1 [==============================] - 0s 9ms/step - loss: 13.5315 - mae: 13.5315\n",
      "Epoch 14/20\n",
      "1/1 [==============================] - 0s 14ms/step - loss: 13.4647 - mae: 13.4647\n",
      "Epoch 15/20\n",
      "1/1 [==============================] - 0s 15ms/step - loss: 13.3978 - mae: 13.3978\n",
      "Epoch 16/20\n",
      "1/1 [==============================] - 0s 15ms/step - loss: 13.3310 - mae: 13.3310\n",
      "Epoch 17/20\n",
      "1/1 [==============================] - 0s 20ms/step - loss: 13.2642 - mae: 13.2642\n",
      "Epoch 18/20\n",
      "1/1 [==============================] - 0s 11ms/step - loss: 13.1973 - mae: 13.1973\n",
      "Epoch 19/20\n",
      "1/1 [==============================] - 0s 10ms/step - loss: 13.1304 - mae: 13.1304\n",
      "Epoch 20/20\n",
      "1/1 [==============================] - 0s 15ms/step - loss: 13.0635 - mae: 13.0635\n"
     ]
    },
    {
     "data": {
      "text/plain": [
       "<keras.callbacks.History at 0x7f730ec9ea40>"
      ]
     },
     "execution_count": 89,
     "metadata": {},
     "output_type": "execute_result"
    }
   ],
   "source": [
    "# fit the model - let us find patterns\n",
    "model.fit(X, y, epochs=20)"
   ]
  },
  {
   "cell_type": "code",
   "execution_count": 90,
   "metadata": {},
   "outputs": [
    {
     "name": "stdout",
     "output_type": "stream",
     "text": [
      "1/1 [==============================] - 0s 106ms/step\n"
     ]
    },
    {
     "data": {
      "text/plain": [
       "array([[1.7343472]], dtype=float32)"
      ]
     },
     "execution_count": 90,
     "metadata": {},
     "output_type": "execute_result"
    }
   ],
   "source": [
    "# make a predction for what x[17] should be\n",
    "model.predict([17])"
   ]
  },
  {
   "cell_type": "code",
   "execution_count": 91,
   "metadata": {},
   "outputs": [
    {
     "name": "stdout",
     "output_type": "stream",
     "text": [
      "1/1 [==============================] - 0s 56ms/step\n"
     ]
    },
    {
     "data": {
      "text/plain": [
       "array([[1.2784235]], dtype=float32)"
      ]
     },
     "execution_count": 91,
     "metadata": {},
     "output_type": "execute_result"
    }
   ],
   "source": [
    "model.predict([12])"
   ]
  },
  {
   "attachments": {},
   "cell_type": "markdown",
   "metadata": {},
   "source": [
    "`Evaluating a Model` : visualize visualize visualize\n",
    "* The data - what data are working with\n",
    "* The Model - what does it look like\n",
    "* The Training - how it perfomes as it learns\n",
    "* The Predictions - how they lines up with ground truth (labeled data)"
   ]
  },
  {
   "cell_type": "code",
   "execution_count": 92,
   "metadata": {},
   "outputs": [
    {
     "data": {
      "text/plain": [
       "(<tf.Tensor: shape=(50,), dtype=int32, numpy=\n",
       " array([-100,  -96,  -92,  -88,  -84,  -80,  -76,  -72,  -68,  -64,  -60,\n",
       "         -56,  -52,  -48,  -44,  -40,  -36,  -32,  -28,  -24,  -20,  -16,\n",
       "         -12,   -8,   -4,    0,    4,    8,   12,   16,   20,   24,   28,\n",
       "          32,   36,   40,   44,   48,   52,   56,   60,   64,   68,   72,\n",
       "          76,   80,   84,   88,   92,   96], dtype=int32)>,\n",
       " <tf.Tensor: shape=(50,), dtype=int32, numpy=\n",
       " array([-200, -192, -184, -176, -168, -160, -152, -144, -136, -128, -120,\n",
       "        -112, -104,  -96,  -88,  -80,  -72,  -64,  -56,  -48,  -40,  -32,\n",
       "         -24,  -16,   -8,    0,    8,   16,   24,   32,   40,   48,   56,\n",
       "          64,   72,   80,   88,   96,  104,  112,  120,  128,  136,  144,\n",
       "         152,  160,  168,  176,  184,  192], dtype=int32)>)"
      ]
     },
     "execution_count": 92,
     "metadata": {},
     "output_type": "execute_result"
    }
   ],
   "source": [
    "# create a larger model\n",
    "X = tf.range(-100, 100, 4)\n",
    "# create a larger label : (matmul)\n",
    "y = tf.add(X,X)\n",
    "X,y"
   ]
  },
  {
   "cell_type": "code",
   "execution_count": 93,
   "metadata": {},
   "outputs": [
    {
     "data": {
      "text/plain": [
       "<matplotlib.collections.PathCollection at 0x7f730d331b10>"
      ]
     },
     "execution_count": 93,
     "metadata": {},
     "output_type": "execute_result"
    },
    {
     "data": {
      "image/png": "[encoded data removed]",
      "text/plain": [
       "<Figure size 640x480 with 1 Axes>"
      ]
     },
     "metadata": {},
     "output_type": "display_data"
    }
   ],
   "source": [
    "# visualize the data\n",
    "plt.scatter(X,y)"
   ]
  },
  {
   "attachments": {},
   "cell_type": "markdown",
   "metadata": {},
   "source": [
    "`split X and y into a training and test set`"
   ]
  },
  {
   "cell_type": "code",
   "execution_count": 94,
   "metadata": {},
   "outputs": [],
   "source": [
    "# # use scikit to perform the test and train\n",
    "# from sklearn.model_selection import train_test_split\n",
    "\n",
    "# X_train, X_test, y_train, y_test = train_test_split(\n",
    "#     X, y, test_size=0.33)"
   ]
  },
  {
   "cell_type": "code",
   "execution_count": 95,
   "metadata": {},
   "outputs": [
    {
     "data": {
      "text/plain": [
       "(50, 50)"
      ]
     },
     "execution_count": 95,
     "metadata": {},
     "output_type": "execute_result"
    }
   ],
   "source": [
    "# check the length of our data set\n",
    "len(X), len(y)"
   ]
  },
  {
   "cell_type": "code",
   "execution_count": 96,
   "metadata": {},
   "outputs": [
    {
     "data": {
      "text/plain": [
       "(40, 40, 10, 10)"
      ]
     },
     "execution_count": 96,
     "metadata": {},
     "output_type": "execute_result"
    }
   ],
   "source": [
    "# spilt into an 80% & 20%\n",
    "X_train = X[:40] # get the first 40 samples\n",
    "y_train = y[:40]\n",
    "\n",
    "X_test = X[40:] # last 10 elements\n",
    "y_test = y[40:]\n",
    "\n",
    "len(X_train), len(y_train), len(X_test), len(y_test)"
   ]
  },
  {
   "cell_type": "code",
   "execution_count": 97,
   "metadata": {},
   "outputs": [
    {
     "data": {
      "text/plain": [
       "<matplotlib.collections.PathCollection at 0x7f730d3bff40>"
      ]
     },
     "execution_count": 97,
     "metadata": {},
     "output_type": "execute_result"
    },
    {
     "data": {
      "image/png": "[encoded data removed]",
      "text/plain": [
       "<Figure size 400x400 with 1 Axes>"
      ]
     },
     "metadata": {},
     "output_type": "display_data"
    }
   ],
   "source": [
    "plt.figure(figsize=(4,4))\n",
    "plt.scatter(X_train, y_train) # train\n",
    "plt.scatter(X_test, y_test) #test"
   ]
  },
  {
   "cell_type": "code",
   "execution_count": 98,
   "metadata": {},
   "outputs": [],
   "source": [
    "# Build a Neural Net that learns a relationship btn X and y; such that it can predict the X and y values\n",
    "# Create -> Compile -> Fit\n",
    "\n",
    "#1. Create the Model\n",
    "model = tf.keras.Sequential([\n",
    "    tf.keras.layers.Dense(1, input_shape=[1]), #we are trying to predict only one input vs output value\n",
    "])\n",
    "\n",
    "#2. Compile the model\n",
    "model.compile(optimizer=tf.keras.optimizers.SGD(),\n",
    "loss=tf.keras.losses.mae,\n",
    "metrics=[\"mae\"]\n",
    ")\n",
    "#3. Fit the model\n",
    "# model.fit(X_train, y_train, epochs=2000)"
   ]
  },
  {
   "attachments": {},
   "cell_type": "markdown",
   "metadata": {},
   "source": [
    "`For visualizing`"
   ]
  },
  {
   "cell_type": "code",
   "execution_count": 99,
   "metadata": {},
   "outputs": [
    {
     "data": {
      "text/plain": [
       "(<tf.Tensor: shape=(), dtype=int32, numpy=-100>,\n",
       " <tf.Tensor: shape=(), dtype=int32, numpy=-200>)"
      ]
     },
     "execution_count": 99,
     "metadata": {},
     "output_type": "execute_result"
    }
   ],
   "source": [
    "# what type of data are we dealing with - determines the input_shape\n",
    "# one input for one output\n",
    "X_train[0], y_train[0] #single numbers"
   ]
  },
  {
   "cell_type": "code",
   "execution_count": 100,
   "metadata": {},
   "outputs": [],
   "source": [
    "# set the seed for reproducibility\n",
    "tf.random.set_seed(42)\n",
    "# create the model; but specify the input shape on the first layer\n",
    "viz_model = tf.keras.Sequential([\n",
    "    tf.keras.layers.Dense(1, input_shape=[1]), # dealing with scalar data\n",
    "])\n",
    "# compile the model\n",
    "viz_model.compile(\n",
    "    optimizer=tf.keras.optimizers.Adam(learning_rate=0.01),\n",
    "    loss=tf.keras.losses.mae,\n",
    "    metrics=['mae']\n",
    "    )"
   ]
  },
  {
   "cell_type": "code",
   "execution_count": 101,
   "metadata": {},
   "outputs": [
    {
     "name": "stdout",
     "output_type": "stream",
     "text": [
      "Model: \"sequential_9\"\n",
      "_________________________________________________________________\n",
      " Layer (type)                Output Shape              Param #   \n",
      "=================================================================\n",
      " dense_15 (Dense)            (None, 1)                 2         \n",
      "                                                                 \n",
      "=================================================================\n",
      "Total params: 2\n",
      "Trainable params: 2\n",
      "Non-trainable params: 0\n",
      "_________________________________________________________________\n"
     ]
    }
   ],
   "source": [
    "# visualize the model before running it.\n",
    "viz_model.summary()"
   ]
  },
  {
   "cell_type": "code",
   "execution_count": 102,
   "metadata": {},
   "outputs": [
    {
     "name": "stdout",
     "output_type": "stream",
     "text": [
      "Epoch 1/20\n",
      "2/2 - 1s - loss: 138.5139 - mae: 138.5139 - 520ms/epoch - 260ms/step\n",
      "Epoch 2/20\n",
      "2/2 - 0s - loss: 102.5299 - mae: 102.5299 - 7ms/epoch - 4ms/step\n",
      "Epoch 3/20\n",
      "2/2 - 0s - loss: 64.4090 - mae: 64.4090 - 8ms/epoch - 4ms/step\n",
      "Epoch 4/20\n",
      "2/2 - 0s - loss: 27.5246 - mae: 27.5246 - 7ms/epoch - 3ms/step\n",
      "Epoch 5/20\n",
      "2/2 - 0s - loss: 7.1510 - mae: 7.1510 - 9ms/epoch - 4ms/step\n",
      "Epoch 6/20\n",
      "2/2 - 0s - loss: 4.7385 - mae: 4.7385 - 6ms/epoch - 3ms/step\n",
      "Epoch 7/20\n",
      "2/2 - 0s - loss: 4.8435 - mae: 4.8435 - 6ms/epoch - 3ms/step\n",
      "Epoch 8/20\n",
      "2/2 - 0s - loss: 4.8707 - mae: 4.8707 - 8ms/epoch - 4ms/step\n",
      "Epoch 9/20\n",
      "2/2 - 0s - loss: 9.8039 - mae: 9.8039 - 7ms/epoch - 3ms/step\n",
      "Epoch 10/20\n",
      "2/2 - 0s - loss: 12.2279 - mae: 12.2279 - 7ms/epoch - 3ms/step\n",
      "Epoch 11/20\n",
      "2/2 - 0s - loss: 8.9576 - mae: 8.9576 - 10ms/epoch - 5ms/step\n",
      "Epoch 12/20\n",
      "2/2 - 0s - loss: 11.9067 - mae: 11.9067 - 7ms/epoch - 4ms/step\n",
      "Epoch 13/20\n",
      "2/2 - 0s - loss: 12.3321 - mae: 12.3321 - 6ms/epoch - 3ms/step\n",
      "Epoch 14/20\n",
      "2/2 - 0s - loss: 21.1629 - mae: 21.1629 - 14ms/epoch - 7ms/step\n",
      "Epoch 15/20\n",
      "2/2 - 0s - loss: 12.4919 - mae: 12.4919 - 12ms/epoch - 6ms/step\n",
      "Epoch 16/20\n",
      "2/2 - 0s - loss: 10.7922 - mae: 10.7922 - 14ms/epoch - 7ms/step\n",
      "Epoch 17/20\n",
      "2/2 - 0s - loss: 11.5782 - mae: 11.5782 - 18ms/epoch - 9ms/step\n",
      "Epoch 18/20\n",
      "2/2 - 0s - loss: 13.2089 - mae: 13.2089 - 12ms/epoch - 6ms/step\n",
      "Epoch 19/20\n",
      "2/2 - 0s - loss: 15.2141 - mae: 15.2141 - 15ms/epoch - 7ms/step\n",
      "Epoch 20/20\n",
      "2/2 - 0s - loss: 12.7185 - mae: 12.7185 - 9ms/epoch - 5ms/step\n"
     ]
    },
    {
     "data": {
      "text/plain": [
       "<keras.callbacks.History at 0x7f730eb51f60>"
      ]
     },
     "execution_count": 102,
     "metadata": {},
     "output_type": "execute_result"
    }
   ],
   "source": [
    "# Fit our original model, this is after observing the structure of our model\n",
    "\n",
    "model.fit(X_train, y_train, epochs=20, verbose=2) # training_data(X_train), label_data(y_train)"
   ]
  },
  {
   "cell_type": "code",
   "execution_count": 103,
   "metadata": {},
   "outputs": [
    {
     "name": "stdout",
     "output_type": "stream",
     "text": [
      "Model: \"sequential_8\"\n",
      "_________________________________________________________________\n",
      " Layer (type)                Output Shape              Param #   \n",
      "=================================================================\n",
      " dense_14 (Dense)            (None, 1)                 2         \n",
      "                                                                 \n",
      "=================================================================\n",
      "Total params: 2\n",
      "Trainable params: 2\n",
      "Non-trainable params: 0\n",
      "_________________________________________________________________\n"
     ]
    }
   ],
   "source": [
    "model.summary()"
   ]
  },
  {
   "cell_type": "code",
   "execution_count": 104,
   "metadata": {},
   "outputs": [
    {
     "name": "stdout",
     "output_type": "stream",
     "text": [
      "1/1 [==============================] - 0s 243ms/step\n"
     ]
    },
    {
     "data": {
      "text/plain": [
       "array([[155.45285]], dtype=float32)"
      ]
     },
     "execution_count": 104,
     "metadata": {},
     "output_type": "execute_result"
    }
   ],
   "source": [
    "model.predict([96])"
   ]
  },
  {
   "cell_type": "code",
   "execution_count": 105,
   "metadata": {},
   "outputs": [
    {
     "data": {
      "image/png": "[encoded data removed]",
      "text/plain": [
       "<IPython.core.display.Image object>"
      ]
     },
     "execution_count": 105,
     "metadata": {},
     "output_type": "execute_result"
    }
   ],
   "source": [
    "# another visualizing feature\n",
    "from tensorflow.keras.utils import plot_model\n",
    "plot_model(model=model, show_shapes=True)"
   ]
  },
  {
   "attachments": {},
   "cell_type": "markdown",
   "metadata": {},
   "source": [
    "##### Proceeding with the viz_model"
   ]
  },
  {
   "cell_type": "code",
   "execution_count": 106,
   "metadata": {},
   "outputs": [
    {
     "name": "stderr",
     "output_type": "stream",
     "text": [
      "WARNING:absl:`lr` is deprecated, please use `learning_rate` instead, or use the legacy optimizer, e.g.,tf.keras.optimizers.legacy.Adam.\n"
     ]
    }
   ],
   "source": [
    "# set seed for reproducibility\n",
    "tf.random.set_seed(42)\n",
    "\n",
    "# create a viz model; Also, going to practise layer and model naming.\n",
    "viz_model = tf.keras.models.Sequential([\n",
    "    tf.keras.layers.Dense(10, input_shape=[1], name='first_input_layer'),\n",
    "    tf.keras.layers.Dense(1, name='output_first_input_layer')\n",
    "], name=\"Model_for_Visualization\")\n",
    "\n",
    "#compile the model\n",
    "viz_model.compile(\n",
    "    optimizer=tf.keras.optimizers.Adam(lr=0.01),\n",
    "    metrics='mae',\n",
    "    loss= tf.losses.mae\n",
    ")"
   ]
  },
  {
   "cell_type": "code",
   "execution_count": 107,
   "metadata": {},
   "outputs": [
    {
     "name": "stdout",
     "output_type": "stream",
     "text": [
      "Model: \"Model_for_Visualization\"\n",
      "_________________________________________________________________\n",
      " Layer (type)                Output Shape              Param #   \n",
      "=================================================================\n",
      " first_input_layer (Dense)   (None, 10)                20        \n",
      "                                                                 \n",
      " output_first_input_layer (D  (None, 1)                11        \n",
      " ense)                                                           \n",
      "                                                                 \n",
      "=================================================================\n",
      "Total params: 31\n",
      "Trainable params: 31\n",
      "Non-trainable params: 0\n",
      "_________________________________________________________________\n"
     ]
    }
   ],
   "source": [
    "viz_model.summary()"
   ]
  },
  {
   "attachments": {},
   "cell_type": "markdown",
   "metadata": {},
   "source": [
    "### `Visualizing Model Predictions`"
   ]
  },
  {
   "cell_type": "code",
   "execution_count": 108,
   "metadata": {},
   "outputs": [
    {
     "name": "stdout",
     "output_type": "stream",
     "text": [
      "1/1 [==============================] - 0s 323ms/step\n"
     ]
    },
    {
     "data": {
      "text/plain": [
       "((10, 1), TensorShape([10]))"
      ]
     },
     "execution_count": 108,
     "metadata": {},
     "output_type": "execute_result"
    }
   ],
   "source": [
    "y_pred = model.predict(X_test) # predict on the test data\n",
    "y_pred.shape, y_test.shape # compare the predicted value using the test data using the actual values [y_test]"
   ]
  },
  {
   "attachments": {},
   "cell_type": "markdown",
   "metadata": {},
   "source": [
    "`Create a Plotting Function`"
   ]
  },
  {
   "cell_type": "code",
   "execution_count": 109,
   "metadata": {},
   "outputs": [],
   "source": [
    "def plot_prediction(\n",
    "    train_data = X_train,\n",
    "    train_labels = y_train,\n",
    "    test_data = X_test,\n",
    "    test_labels = y_test,\n",
    "    predictions=y_pred):\n",
    "\n",
    "    \"\"\"\n",
    "    Plots training_data, test_data and compares prediction to ground truth labels [y_test]\n",
    "    \"\"\"\n",
    "    plt.figure(figsize=(5,5))\n",
    "    # plot the traing data\n",
    "    plt.scatter(train_data, train_labels, label=\"Training_Data\")\n",
    "    # # plot the testing data\n",
    "    plt.scatter(test_data, test_labels, label=\"Testing_Data\")\n",
    "    # # plot the predictions\n",
    "    plt.scatter(test_data, predictions)\n",
    "    # plt.legend();\n",
    "    # plt.show()"
   ]
  },
  {
   "cell_type": "code",
   "execution_count": 110,
   "metadata": {},
   "outputs": [
    {
     "data": {
      "image/png": "[encoded data removed]",
      "text/plain": [
       "<Figure size 500x500 with 1 Axes>"
      ]
     },
     "metadata": {},
     "output_type": "display_data"
    }
   ],
   "source": [
    "# call the function\n",
    "plot_prediction(predictions=tf.squeeze(y_pred))"
   ]
  },
  {
   "attachments": {},
   "cell_type": "markdown",
   "metadata": {},
   "source": [
    "### `Regression Evaluation Metrics`"
   ]
  },
  {
   "cell_type": "code",
   "execution_count": 111,
   "metadata": {},
   "outputs": [
    {
     "name": "stdout",
     "output_type": "stream",
     "text": [
      "1/1 [==============================] - 1s 811ms/step - loss: 29.6943 - mae: 29.6943\n"
     ]
    },
    {
     "data": {
      "text/plain": [
       "[29.694255828857422, 29.694255828857422]"
      ]
     },
     "execution_count": 111,
     "metadata": {},
     "output_type": "execute_result"
    }
   ],
   "source": [
    "model.evaluate(X_test, y_test) # evaluation is carried outon the test dataset.\n",
    "# returns - loss, mae"
   ]
  },
  {
   "attachments": {},
   "cell_type": "markdown",
   "metadata": {},
   "source": [
    "#### be metric specific"
   ]
  },
  {
   "cell_type": "code",
   "execution_count": 112,
   "metadata": {},
   "outputs": [
    {
     "data": {
      "text/plain": [
       "<tf.Tensor: shape=(10,), dtype=float32, numpy=\n",
       "array([58.84137 , 52.364235, 45.8871  , 39.409958, 33.546257, 28.673412,\n",
       "       24.791424, 22.200567, 20.604855, 20.      ], dtype=float32)>"
      ]
     },
     "execution_count": 112,
     "metadata": {},
     "output_type": "execute_result"
    }
   ],
   "source": [
    "tf.metrics.mean_absolute_error(y_test, y_pred)"
   ]
  },
  {
   "cell_type": "code",
   "execution_count": 113,
   "metadata": {},
   "outputs": [
    {
     "data": {
      "text/plain": [
       "<tf.Tensor: shape=(10,), dtype=float32, numpy=\n",
       "array([58.84137 , 52.364235, 45.8871  , 39.409958, 33.546257, 28.673412,\n",
       "       24.791424, 22.200567, 20.604855, 20.      ], dtype=float32)>"
      ]
     },
     "execution_count": 113,
     "metadata": {},
     "output_type": "execute_result"
    }
   ],
   "source": [
    "loss = tf.keras.losses.mean_absolute_error(y_true=y_test, y_pred=y_pred)\n",
    "loss"
   ]
  },
  {
   "cell_type": "code",
   "execution_count": 114,
   "metadata": {},
   "outputs": [
    {
     "data": {
      "text/plain": [
       "((10, 1), TensorShape([10]))"
      ]
     },
     "execution_count": 114,
     "metadata": {},
     "output_type": "execute_result"
    }
   ],
   "source": [
    "y_pred.shape, y_test.shape\n",
    "# we ran into errors above due to differing shapes.\n",
    "# thereofe, we can add or squeeze a tensor.. lets do so on y_pred"
   ]
  },
  {
   "cell_type": "code",
   "execution_count": 115,
   "metadata": {},
   "outputs": [],
   "source": [
    "# squeeze y_pred\n",
    "y_pred_sq = tf.squeeze(y_pred)"
   ]
  },
  {
   "cell_type": "code",
   "execution_count": 116,
   "metadata": {},
   "outputs": [
    {
     "data": {
      "text/plain": [
       "TensorShape([10])"
      ]
     },
     "execution_count": 116,
     "metadata": {},
     "output_type": "execute_result"
    }
   ],
   "source": [
    "y_pred_sq.shape"
   ]
  },
  {
   "cell_type": "code",
   "execution_count": 117,
   "metadata": {},
   "outputs": [
    {
     "data": {
      "text/plain": [
       "29.694256"
      ]
     },
     "execution_count": 117,
     "metadata": {},
     "output_type": "execute_result"
    }
   ],
   "source": [
    "# running the loss functions after squeezing\n",
    "loss_mae = tf.metrics.mean_absolute_error(y_test, y_pred_sq)\n",
    "loss_mae.numpy()"
   ]
  },
  {
   "attachments": {},
   "cell_type": "markdown",
   "metadata": {},
   "source": [
    "`we get an output as of 10.292981 - this output is similar to the one by the model metric`"
   ]
  },
  {
   "cell_type": "code",
   "execution_count": 118,
   "metadata": {},
   "outputs": [
    {
     "data": {
      "text/plain": [
       "900.88165"
      ]
     },
     "execution_count": 118,
     "metadata": {},
     "output_type": "execute_result"
    }
   ],
   "source": [
    "loss_mse = tf.keras.losses.mean_squared_error(y_pred=y_pred_sq, y_true=y_test)\n",
    "loss_mse.numpy()"
   ]
  },
  {
   "attachments": {},
   "cell_type": "markdown",
   "metadata": {},
   "source": [
    "#### Build Model_2\n",
    "* 2 dense layers \n",
    "* trained for 100 epochs"
   ]
  },
  {
   "cell_type": "code",
   "execution_count": 119,
   "metadata": {},
   "outputs": [
    {
     "name": "stdout",
     "output_type": "stream",
     "text": [
      "Epoch 1/200\n",
      "2/2 [==============================] - 3s 49ms/step - loss: 71.0194 - mse: 8450.1719\n",
      "Epoch 2/200\n",
      "2/2 [==============================] - 0s 25ms/step - loss: 61.7595 - mse: 6317.3691\n",
      "Epoch 3/200\n",
      "2/2 [==============================] - 0s 24ms/step - loss: 77.8158 - mse: 9296.5039\n",
      "Epoch 4/200\n",
      "2/2 [==============================] - 0s 23ms/step - loss: 33.2880 - mse: 1661.8337\n",
      "Epoch 5/200\n",
      "2/2 [==============================] - 0s 27ms/step - loss: 20.5652 - mse: 1152.8546\n",
      "Epoch 6/200\n",
      "2/2 [==============================] - 0s 24ms/step - loss: 25.8458 - mse: 1069.9723\n",
      "Epoch 7/200\n",
      "2/2 [==============================] - 0s 32ms/step - loss: 28.6869 - mse: 1187.9496\n",
      "Epoch 8/200\n",
      "2/2 [==============================] - 0s 31ms/step - loss: 29.2925 - mse: 1498.6895\n",
      "Epoch 9/200\n",
      "2/2 [==============================] - 0s 33ms/step - loss: 70.9005 - mse: 7160.0063\n",
      "Epoch 10/200\n",
      "2/2 [==============================] - 0s 27ms/step - loss: 30.7195 - mse: 1335.8147\n",
      "Epoch 11/200\n",
      "2/2 [==============================] - 0s 24ms/step - loss: 30.6402 - mse: 1461.9054\n",
      "Epoch 12/200\n",
      "2/2 [==============================] - 0s 28ms/step - loss: 59.2268 - mse: 5062.0298\n",
      "Epoch 13/200\n",
      "2/2 [==============================] - 0s 25ms/step - loss: 21.2265 - mse: 1260.6738\n",
      "Epoch 14/200\n",
      "2/2 [==============================] - 0s 24ms/step - loss: 16.9920 - mse: 1111.4309\n",
      "Epoch 15/200\n",
      "2/2 [==============================] - 0s 26ms/step - loss: 22.6911 - mse: 1244.5820\n",
      "Epoch 16/200\n",
      "2/2 [==============================] - 0s 26ms/step - loss: 29.4295 - mse: 1229.6951\n",
      "Epoch 17/200\n",
      "2/2 [==============================] - 0s 28ms/step - loss: 45.5188 - mse: 3278.4563\n",
      "Epoch 18/200\n",
      "2/2 [==============================] - 0s 33ms/step - loss: 54.6177 - mse: 4257.0015\n",
      "Epoch 19/200\n",
      "2/2 [==============================] - 0s 56ms/step - loss: 24.6489 - mse: 1218.8514\n",
      "Epoch 20/200\n",
      "2/2 [==============================] - 0s 51ms/step - loss: 27.6363 - mse: 1138.6976\n",
      "Epoch 21/200\n",
      "2/2 [==============================] - 0s 48ms/step - loss: 40.0314 - mse: 2611.5210\n",
      "Epoch 22/200\n",
      "2/2 [==============================] - 0s 27ms/step - loss: 72.2758 - mse: 7800.4321\n",
      "Epoch 23/200\n",
      "2/2 [==============================] - 0s 43ms/step - loss: 15.5823 - mse: 1868.5227\n",
      "Epoch 24/200\n",
      "2/2 [==============================] - 0s 46ms/step - loss: 22.0446 - mse: 1811.3662\n",
      "Epoch 25/200\n",
      "2/2 [==============================] - 0s 26ms/step - loss: 32.0848 - mse: 1800.3209\n",
      "Epoch 26/200\n",
      "2/2 [==============================] - 0s 25ms/step - loss: 60.7227 - mse: 5276.0869\n",
      "Epoch 27/200\n",
      "2/2 [==============================] - 0s 27ms/step - loss: 15.4875 - mse: 1159.6014\n",
      "Epoch 28/200\n",
      "2/2 [==============================] - 0s 27ms/step - loss: 22.0090 - mse: 1267.2666\n",
      "Epoch 29/200\n",
      "2/2 [==============================] - 0s 26ms/step - loss: 27.5134 - mse: 1083.6288\n",
      "Epoch 30/200\n",
      "2/2 [==============================] - 0s 27ms/step - loss: 68.5592 - mse: 6513.6626\n",
      "Epoch 31/200\n",
      "2/2 [==============================] - 0s 28ms/step - loss: 22.2076 - mse: 1147.3114\n",
      "Epoch 32/200\n",
      "2/2 [==============================] - 0s 26ms/step - loss: 30.8065 - mse: 1361.2625\n",
      "Epoch 33/200\n",
      "2/2 [==============================] - 0s 27ms/step - loss: 42.2733 - mse: 2780.6953\n",
      "Epoch 34/200\n",
      "2/2 [==============================] - 0s 28ms/step - loss: 61.7189 - mse: 5685.3838\n",
      "Epoch 35/200\n",
      "2/2 [==============================] - 0s 32ms/step - loss: 20.2269 - mse: 1932.8926\n",
      "Epoch 36/200\n",
      "2/2 [==============================] - 0s 26ms/step - loss: 35.5095 - mse: 1935.4213\n",
      "Epoch 37/200\n",
      "2/2 [==============================] - 0s 27ms/step - loss: 33.2045 - mse: 1758.8444\n",
      "Epoch 38/200\n",
      "2/2 [==============================] - 0s 24ms/step - loss: 46.3826 - mse: 3266.4495\n",
      "Epoch 39/200\n",
      "2/2 [==============================] - 0s 30ms/step - loss: 48.7293 - mse: 3375.7917\n",
      "Epoch 40/200\n",
      "2/2 [==============================] - 0s 26ms/step - loss: 14.4668 - mse: 994.8483\n",
      "Epoch 41/200\n",
      "2/2 [==============================] - 0s 27ms/step - loss: 29.8084 - mse: 1256.5280\n",
      "Epoch 42/200\n",
      "2/2 [==============================] - 0s 29ms/step - loss: 38.5513 - mse: 2450.9048\n",
      "Epoch 43/200\n",
      "2/2 [==============================] - 0s 30ms/step - loss: 34.7131 - mse: 1981.8011\n",
      "Epoch 44/200\n",
      "2/2 [==============================] - 0s 26ms/step - loss: 93.2052 - mse: 14451.0488\n",
      "Epoch 45/200\n",
      "2/2 [==============================] - 0s 29ms/step - loss: 43.3814 - mse: 2659.3503\n",
      "Epoch 46/200\n",
      "2/2 [==============================] - 0s 32ms/step - loss: 11.5088 - mse: 950.4564\n",
      "Epoch 47/200\n",
      "2/2 [==============================] - 0s 35ms/step - loss: 30.2806 - mse: 1374.2957\n",
      "Epoch 48/200\n",
      "2/2 [==============================] - 0s 29ms/step - loss: 25.5498 - mse: 961.2829\n",
      "Epoch 49/200\n",
      "2/2 [==============================] - 0s 32ms/step - loss: 28.2254 - mse: 1127.3304\n",
      "Epoch 50/200\n",
      "2/2 [==============================] - 0s 50ms/step - loss: 33.6939 - mse: 1751.2122\n",
      "Epoch 51/200\n",
      "2/2 [==============================] - 0s 34ms/step - loss: 32.2717 - mse: 1811.8066\n",
      "Epoch 52/200\n",
      "2/2 [==============================] - 0s 56ms/step - loss: 99.3852 - mse: 17274.1270\n",
      "Epoch 53/200\n",
      "2/2 [==============================] - 0s 58ms/step - loss: 57.6958 - mse: 5024.5117\n",
      "Epoch 54/200\n",
      "2/2 [==============================] - 0s 25ms/step - loss: 56.7537 - mse: 4739.6362\n",
      "Epoch 55/200\n",
      "2/2 [==============================] - 0s 27ms/step - loss: 52.3522 - mse: 3921.5469\n",
      "Epoch 56/200\n",
      "2/2 [==============================] - 0s 24ms/step - loss: 11.6865 - mse: 981.6911\n",
      "Epoch 57/200\n",
      "2/2 [==============================] - 0s 40ms/step - loss: 28.8736 - mse: 1176.7456\n",
      "Epoch 58/200\n",
      "2/2 [==============================] - 0s 34ms/step - loss: 31.3798 - mse: 1397.5701\n",
      "Epoch 59/200\n",
      "2/2 [==============================] - 0s 30ms/step - loss: 36.3434 - mse: 2355.3586\n",
      "Epoch 60/200\n",
      "2/2 [==============================] - 0s 28ms/step - loss: 44.2441 - mse: 3002.2109\n",
      "Epoch 61/200\n",
      "2/2 [==============================] - 0s 36ms/step - loss: 53.5516 - mse: 4169.6431\n",
      "Epoch 62/200\n",
      "2/2 [==============================] - 0s 32ms/step - loss: 19.4583 - mse: 890.0731\n",
      "Epoch 63/200\n",
      "2/2 [==============================] - 0s 31ms/step - loss: 28.2786 - mse: 1158.0862\n",
      "Epoch 64/200\n",
      "2/2 [==============================] - 0s 26ms/step - loss: 36.8395 - mse: 2267.6233\n",
      "Epoch 65/200\n",
      "2/2 [==============================] - 0s 30ms/step - loss: 74.1593 - mse: 8214.8027\n",
      "Epoch 66/200\n",
      "2/2 [==============================] - 0s 29ms/step - loss: 38.5349 - mse: 2099.4407\n",
      "Epoch 67/200\n",
      "2/2 [==============================] - 0s 25ms/step - loss: 17.6608 - mse: 2201.9194\n",
      "Epoch 68/200\n",
      "2/2 [==============================] - 0s 26ms/step - loss: 27.6973 - mse: 1180.6477\n",
      "Epoch 69/200\n",
      "2/2 [==============================] - 0s 27ms/step - loss: 37.9902 - mse: 2450.4067\n",
      "Epoch 70/200\n",
      "2/2 [==============================] - 0s 32ms/step - loss: 38.2770 - mse: 2403.8093\n",
      "Epoch 71/200\n",
      "2/2 [==============================] - 0s 30ms/step - loss: 70.4679 - mse: 7590.2695\n",
      "Epoch 72/200\n",
      "2/2 [==============================] - 0s 33ms/step - loss: 30.4404 - mse: 1455.8251\n",
      "Epoch 73/200\n",
      "2/2 [==============================] - 0s 34ms/step - loss: 24.9521 - mse: 1367.2942\n",
      "Epoch 74/200\n",
      "2/2 [==============================] - 0s 34ms/step - loss: 59.2674 - mse: 5214.0576\n",
      "Epoch 75/200\n",
      "2/2 [==============================] - 0s 30ms/step - loss: 14.4363 - mse: 877.0506\n",
      "Epoch 76/200\n",
      "2/2 [==============================] - 0s 33ms/step - loss: 26.6260 - mse: 1121.2844\n",
      "Epoch 77/200\n",
      "2/2 [==============================] - 0s 46ms/step - loss: 40.2704 - mse: 2768.3003\n",
      "Epoch 78/200\n",
      "2/2 [==============================] - 0s 28ms/step - loss: 62.0627 - mse: 5657.7598\n",
      "Epoch 79/200\n",
      "2/2 [==============================] - 0s 31ms/step - loss: 46.0182 - mse: 2959.8335\n",
      "Epoch 80/200\n",
      "2/2 [==============================] - 0s 25ms/step - loss: 44.5207 - mse: 2810.7319\n",
      "Epoch 81/200\n",
      "2/2 [==============================] - 0s 29ms/step - loss: 8.6809 - mse: 245.5246\n",
      "Epoch 82/200\n",
      "2/2 [==============================] - 0s 34ms/step - loss: 48.8014 - mse: 3708.3679\n",
      "Epoch 83/200\n",
      "2/2 [==============================] - 0s 30ms/step - loss: 37.7854 - mse: 1969.7346\n",
      "Epoch 84/200\n",
      "2/2 [==============================] - 0s 28ms/step - loss: 28.4553 - mse: 1132.9506\n",
      "Epoch 85/200\n",
      "2/2 [==============================] - 0s 30ms/step - loss: 60.4242 - mse: 5263.3096\n",
      "Epoch 86/200\n",
      "2/2 [==============================] - 0s 31ms/step - loss: 16.4113 - mse: 1225.1135\n",
      "Epoch 87/200\n",
      "2/2 [==============================] - 0s 27ms/step - loss: 26.1715 - mse: 1216.5100\n",
      "Epoch 88/200\n",
      "2/2 [==============================] - 0s 32ms/step - loss: 51.9845 - mse: 3935.8645\n",
      "Epoch 89/200\n",
      "2/2 [==============================] - 0s 27ms/step - loss: 32.3434 - mse: 1666.5295\n",
      "Epoch 90/200\n",
      "2/2 [==============================] - 0s 29ms/step - loss: 12.5662 - mse: 860.6846\n",
      "Epoch 91/200\n",
      "2/2 [==============================] - 0s 27ms/step - loss: 28.5163 - mse: 1150.2506\n",
      "Epoch 92/200\n",
      "2/2 [==============================] - 0s 30ms/step - loss: 54.9699 - mse: 4539.3545\n",
      "Epoch 93/200\n",
      "2/2 [==============================] - 0s 34ms/step - loss: 24.6826 - mse: 1107.5457\n",
      "Epoch 94/200\n",
      "2/2 [==============================] - 0s 32ms/step - loss: 25.6957 - mse: 1108.9900\n",
      "Epoch 95/200\n",
      "2/2 [==============================] - 0s 30ms/step - loss: 43.4867 - mse: 3106.2769\n",
      "Epoch 96/200\n",
      "2/2 [==============================] - 0s 31ms/step - loss: 52.3170 - mse: 3903.7720\n",
      "Epoch 97/200\n",
      "2/2 [==============================] - 0s 29ms/step - loss: 29.7344 - mse: 1315.1644\n",
      "Epoch 98/200\n",
      "2/2 [==============================] - 0s 29ms/step - loss: 26.1391 - mse: 1119.3337\n",
      "Epoch 99/200\n",
      "2/2 [==============================] - 0s 30ms/step - loss: 31.6144 - mse: 1794.5173\n",
      "Epoch 100/200\n",
      "2/2 [==============================] - 0s 29ms/step - loss: 62.0373 - mse: 5464.2480\n",
      "Epoch 101/200\n",
      "2/2 [==============================] - 0s 31ms/step - loss: 18.2642 - mse: 2307.2437\n",
      "Epoch 102/200\n",
      "2/2 [==============================] - 0s 30ms/step - loss: 30.6345 - mse: 1337.3605\n",
      "Epoch 103/200\n",
      "2/2 [==============================] - 0s 34ms/step - loss: 33.8438 - mse: 1957.2611\n",
      "Epoch 104/200\n",
      "2/2 [==============================] - 0s 38ms/step - loss: 88.0834 - mse: 12303.6230\n",
      "Epoch 105/200\n",
      "2/2 [==============================] - 0s 28ms/step - loss: 54.6241 - mse: 4283.9683\n",
      "Epoch 106/200\n",
      "2/2 [==============================] - 0s 28ms/step - loss: 15.3029 - mse: 1227.1384\n",
      "Epoch 107/200\n",
      "2/2 [==============================] - 0s 28ms/step - loss: 24.1925 - mse: 1081.5052\n",
      "Epoch 108/200\n",
      "2/2 [==============================] - 0s 60ms/step - loss: 31.5105 - mse: 1428.2834\n",
      "Epoch 109/200\n",
      "2/2 [==============================] - 0s 54ms/step - loss: 39.3860 - mse: 2652.8645\n",
      "Epoch 110/200\n",
      "2/2 [==============================] - 0s 49ms/step - loss: 57.7882 - mse: 4918.0176\n",
      "Epoch 111/200\n",
      "2/2 [==============================] - 0s 39ms/step - loss: 22.2328 - mse: 956.7830\n",
      "Epoch 112/200\n",
      "2/2 [==============================] - 0s 45ms/step - loss: 24.9155 - mse: 1309.4752\n",
      "Epoch 113/200\n",
      "2/2 [==============================] - 0s 41ms/step - loss: 43.5923 - mse: 2786.1997\n",
      "Epoch 114/200\n",
      "2/2 [==============================] - 0s 30ms/step - loss: 65.8384 - mse: 6710.9297\n",
      "Epoch 115/200\n",
      "2/2 [==============================] - 0s 26ms/step - loss: 34.6355 - mse: 1760.4711\n",
      "Epoch 116/200\n",
      "2/2 [==============================] - 0s 27ms/step - loss: 13.4261 - mse: 853.6288\n",
      "Epoch 117/200\n",
      "2/2 [==============================] - 0s 56ms/step - loss: 30.1020 - mse: 1281.7323\n",
      "Epoch 118/200\n",
      "2/2 [==============================] - 0s 37ms/step - loss: 35.9418 - mse: 2068.4700\n",
      "Epoch 119/200\n",
      "2/2 [==============================] - 0s 32ms/step - loss: 34.7244 - mse: 1878.9392\n",
      "Epoch 120/200\n",
      "2/2 [==============================] - 0s 31ms/step - loss: 103.2597 - mse: 17166.2676\n",
      "Epoch 121/200\n",
      "2/2 [==============================] - 0s 30ms/step - loss: 38.5291 - mse: 2112.6360\n",
      "Epoch 122/200\n",
      "2/2 [==============================] - 0s 26ms/step - loss: 33.7783 - mse: 1725.6110\n",
      "Epoch 123/200\n",
      "2/2 [==============================] - 0s 31ms/step - loss: 35.0700 - mse: 1874.2399\n",
      "Epoch 124/200\n",
      "2/2 [==============================] - 0s 29ms/step - loss: 15.3759 - mse: 772.7902\n",
      "Epoch 125/200\n",
      "2/2 [==============================] - 0s 26ms/step - loss: 29.0143 - mse: 1208.6213\n",
      "Epoch 126/200\n",
      "2/2 [==============================] - 0s 35ms/step - loss: 34.4646 - mse: 2030.4358\n",
      "Epoch 127/200\n",
      "2/2 [==============================] - 0s 27ms/step - loss: 49.6062 - mse: 3705.9290\n",
      "Epoch 128/200\n",
      "2/2 [==============================] - 0s 31ms/step - loss: 42.6942 - mse: 2579.4319\n",
      "Epoch 129/200\n",
      "2/2 [==============================] - 0s 25ms/step - loss: 17.6279 - mse: 1048.9637\n",
      "Epoch 130/200\n",
      "2/2 [==============================] - 0s 29ms/step - loss: 25.7334 - mse: 1227.9152\n",
      "Epoch 131/200\n",
      "2/2 [==============================] - 0s 32ms/step - loss: 40.7003 - mse: 2614.9995\n",
      "Epoch 132/200\n",
      "2/2 [==============================] - 0s 36ms/step - loss: 61.8413 - mse: 5678.3154\n",
      "Epoch 133/200\n",
      "2/2 [==============================] - 0s 41ms/step - loss: 23.0556 - mse: 1113.0756\n",
      "Epoch 134/200\n",
      "2/2 [==============================] - 0s 26ms/step - loss: 24.1885 - mse: 1153.5964\n",
      "Epoch 135/200\n",
      "2/2 [==============================] - 0s 26ms/step - loss: 32.5696 - mse: 1880.2400\n",
      "Epoch 136/200\n",
      "2/2 [==============================] - 0s 30ms/step - loss: 58.3527 - mse: 4841.9395\n",
      "Epoch 137/200\n",
      "2/2 [==============================] - 0s 49ms/step - loss: 26.9255 - mse: 1185.7194\n",
      "Epoch 138/200\n",
      "2/2 [==============================] - 0s 51ms/step - loss: 24.8508 - mse: 979.5241\n",
      "Epoch 139/200\n",
      "2/2 [==============================] - 0s 128ms/step - loss: 28.7965 - mse: 1171.5586\n",
      "Epoch 140/200\n",
      "2/2 [==============================] - 0s 34ms/step - loss: 51.4943 - mse: 3888.2937\n",
      "Epoch 141/200\n",
      "2/2 [==============================] - 0s 39ms/step - loss: 37.4633 - mse: 2014.4680\n",
      "Epoch 142/200\n",
      "2/2 [==============================] - 0s 29ms/step - loss: 33.9429 - mse: 1682.7328\n",
      "Epoch 143/200\n",
      "2/2 [==============================] - 0s 41ms/step - loss: 13.3786 - mse: 709.9619\n",
      "Epoch 144/200\n",
      "2/2 [==============================] - 0s 48ms/step - loss: 30.2573 - mse: 1441.2771\n",
      "Epoch 145/200\n",
      "2/2 [==============================] - 0s 35ms/step - loss: 59.1308 - mse: 4983.7617\n",
      "Epoch 146/200\n",
      "2/2 [==============================] - 0s 40ms/step - loss: 10.1250 - mse: 372.5891\n",
      "Epoch 147/200\n",
      "2/2 [==============================] - 0s 43ms/step - loss: 40.8149 - mse: 2749.0623\n",
      "Epoch 148/200\n",
      "2/2 [==============================] - 0s 34ms/step - loss: 62.8399 - mse: 5756.7622\n",
      "Epoch 149/200\n",
      "2/2 [==============================] - 0s 34ms/step - loss: 16.8118 - mse: 1394.8557\n",
      "Epoch 150/200\n",
      "2/2 [==============================] - 0s 41ms/step - loss: 23.9351 - mse: 1505.3821\n",
      "Epoch 151/200\n",
      "2/2 [==============================] - 0s 31ms/step - loss: 41.7335 - mse: 2855.4946\n",
      "Epoch 152/200\n",
      "2/2 [==============================] - 0s 32ms/step - loss: 59.9910 - mse: 5423.2207\n",
      "Epoch 153/200\n",
      "2/2 [==============================] - 0s 32ms/step - loss: 46.3390 - mse: 3021.6221\n",
      "Epoch 154/200\n",
      "2/2 [==============================] - 0s 39ms/step - loss: 26.6357 - mse: 1098.7133\n",
      "Epoch 155/200\n",
      "2/2 [==============================] - 0s 28ms/step - loss: 30.1541 - mse: 1450.8247\n",
      "Epoch 156/200\n",
      "2/2 [==============================] - 0s 30ms/step - loss: 62.5633 - mse: 5424.5767\n",
      "Epoch 157/200\n",
      "2/2 [==============================] - 0s 34ms/step - loss: 14.3702 - mse: 904.1999\n",
      "Epoch 158/200\n",
      "2/2 [==============================] - 0s 32ms/step - loss: 29.0800 - mse: 1219.4012\n",
      "Epoch 159/200\n",
      "2/2 [==============================] - 0s 27ms/step - loss: 28.6883 - mse: 1160.9244\n",
      "Epoch 160/200\n",
      "2/2 [==============================] - 0s 27ms/step - loss: 53.6443 - mse: 4262.2734\n",
      "Epoch 161/200\n",
      "2/2 [==============================] - 0s 29ms/step - loss: 33.6892 - mse: 1730.8523\n",
      "Epoch 162/200\n",
      "2/2 [==============================] - 0s 32ms/step - loss: 23.5524 - mse: 1250.5078\n",
      "Epoch 163/200\n",
      "2/2 [==============================] - 0s 27ms/step - loss: 14.8733 - mse: 997.1077\n",
      "Epoch 164/200\n",
      "2/2 [==============================] - 0s 30ms/step - loss: 23.4360 - mse: 944.7749\n",
      "Epoch 165/200\n",
      "2/2 [==============================] - 0s 27ms/step - loss: 22.6708 - mse: 1651.2815\n",
      "Epoch 166/200\n",
      "2/2 [==============================] - 0s 34ms/step - loss: 36.5139 - mse: 2208.2437\n",
      "Epoch 167/200\n",
      "2/2 [==============================] - 0s 29ms/step - loss: 77.9838 - mse: 9514.7197\n",
      "Epoch 168/200\n",
      "2/2 [==============================] - 0s 26ms/step - loss: 34.4896 - mse: 1779.7656\n",
      "Epoch 169/200\n",
      "2/2 [==============================] - 0s 31ms/step - loss: 14.9522 - mse: 693.1693\n",
      "Epoch 170/200\n",
      "2/2 [==============================] - 0s 38ms/step - loss: 31.6263 - mse: 1521.0959\n",
      "Epoch 171/200\n",
      "2/2 [==============================] - 0s 30ms/step - loss: 50.5529 - mse: 3795.2720\n",
      "Epoch 172/200\n",
      "2/2 [==============================] - 0s 32ms/step - loss: 44.5760 - mse: 2806.9656\n",
      "Epoch 173/200\n",
      "2/2 [==============================] - 0s 35ms/step - loss: 18.4683 - mse: 831.8975\n",
      "Epoch 174/200\n",
      "2/2 [==============================] - 0s 26ms/step - loss: 28.3661 - mse: 1143.7195\n",
      "Epoch 175/200\n",
      "2/2 [==============================] - 0s 27ms/step - loss: 59.9409 - mse: 5318.5132\n",
      "Epoch 176/200\n",
      "2/2 [==============================] - 0s 31ms/step - loss: 10.8866 - mse: 460.8575\n",
      "Epoch 177/200\n",
      "2/2 [==============================] - 0s 31ms/step - loss: 33.6084 - mse: 1858.1379\n",
      "Epoch 178/200\n",
      "2/2 [==============================] - 0s 26ms/step - loss: 53.5895 - mse: 4287.5317\n",
      "Epoch 179/200\n",
      "2/2 [==============================] - 0s 28ms/step - loss: 23.1776 - mse: 731.8027\n",
      "Epoch 180/200\n",
      "2/2 [==============================] - 0s 27ms/step - loss: 33.2294 - mse: 1832.4427\n",
      "Epoch 181/200\n",
      "2/2 [==============================] - 0s 27ms/step - loss: 55.0941 - mse: 4391.5166\n",
      "Epoch 182/200\n",
      "2/2 [==============================] - 0s 29ms/step - loss: 29.5130 - mse: 1344.1478\n",
      "Epoch 183/200\n",
      "2/2 [==============================] - 0s 31ms/step - loss: 25.1752 - mse: 1385.2393\n",
      "Epoch 184/200\n",
      "2/2 [==============================] - 0s 33ms/step - loss: 66.7441 - mse: 6377.2739\n",
      "Epoch 185/200\n",
      "2/2 [==============================] - 0s 27ms/step - loss: 26.9766 - mse: 1125.6520\n",
      "Epoch 186/200\n",
      "2/2 [==============================] - 0s 35ms/step - loss: 42.7126 - mse: 2918.6021\n",
      "Epoch 187/200\n",
      "2/2 [==============================] - 0s 30ms/step - loss: 52.1006 - mse: 3836.1265\n",
      "Epoch 188/200\n",
      "2/2 [==============================] - 0s 27ms/step - loss: 33.2642 - mse: 1524.5635\n",
      "Epoch 189/200\n",
      "2/2 [==============================] - 0s 30ms/step - loss: 30.4721 - mse: 1317.7063\n",
      "Epoch 190/200\n",
      "2/2 [==============================] - 0s 34ms/step - loss: 43.0181 - mse: 3000.6616\n",
      "Epoch 191/200\n",
      "2/2 [==============================] - 0s 28ms/step - loss: 55.8652 - mse: 4571.3193\n",
      "Epoch 192/200\n",
      "2/2 [==============================] - 0s 30ms/step - loss: 22.6641 - mse: 2081.6489\n",
      "Epoch 193/200\n",
      "2/2 [==============================] - 0s 29ms/step - loss: 51.0339 - mse: 3900.0476\n",
      "Epoch 194/200\n",
      "2/2 [==============================] - 0s 35ms/step - loss: 29.9573 - mse: 1271.8701\n",
      "Epoch 195/200\n",
      "2/2 [==============================] - 0s 28ms/step - loss: 29.3151 - mse: 1235.8112\n",
      "Epoch 196/200\n",
      "2/2 [==============================] - 0s 32ms/step - loss: 54.6627 - mse: 4520.2349\n",
      "Epoch 197/200\n",
      "2/2 [==============================] - 0s 28ms/step - loss: 22.8251 - mse: 1062.9686\n",
      "Epoch 198/200\n",
      "2/2 [==============================] - 0s 37ms/step - loss: 22.6997 - mse: 2005.8867\n",
      "Epoch 199/200\n",
      "2/2 [==============================] - 0s 29ms/step - loss: 44.3923 - mse: 3016.9031\n",
      "Epoch 200/200\n",
      "2/2 [==============================] - 0s 28ms/step - loss: 63.6181 - mse: 6125.3208\n"
     ]
    },
    {
     "data": {
      "text/plain": [
       "<keras.callbacks.History at 0x7f730ea54b50>"
      ]
     },
     "execution_count": 119,
     "metadata": {},
     "output_type": "execute_result"
    }
   ],
   "source": [
    "# set the random seed\n",
    "tf.random.set_seed(42)\n",
    "\n",
    "#create the model - 2Dense\n",
    "model_2 = tf.keras.Sequential(\n",
    "   [ tf.keras.layers.Dense(10, input_shape=[1]),\n",
    "    tf.keras.layers.Dense(1)]\n",
    ")\n",
    "\n",
    "# compile the model\n",
    "model_2.compile(\n",
    "    loss=tf.keras.losses.mae,\n",
    "    optimizer=tf.keras.optimizers.SGD(),\n",
    "    metrics=[\"mse\"] #note: mse values are much higher than mae\n",
    ")\n",
    "\n",
    "# fit the model\n",
    "model_2.fit(X_train, y_train, epochs=200)"
   ]
  },
  {
   "cell_type": "code",
   "execution_count": 120,
   "metadata": {},
   "outputs": [
    {
     "name": "stdout",
     "output_type": "stream",
     "text": [
      "1/1 [==============================] - 0s 405ms/step\n"
     ]
    }
   ],
   "source": [
    "# from function_prediction import plot_prediction\n",
    "\n",
    "y_pred_2 = model_2.predict(X_test)  "
   ]
  },
  {
   "cell_type": "code",
   "execution_count": 121,
   "metadata": {},
   "outputs": [
    {
     "data": {
      "text/plain": [
       "((10, 1), TensorShape([10]))"
      ]
     },
     "execution_count": 121,
     "metadata": {},
     "output_type": "execute_result"
    }
   ],
   "source": [
    "# inspect the shape:\n",
    "y_pred_2.shape, y_test.shape\n",
    "# we get [10,10] for the pred\n",
    "# a [10] for the test "
   ]
  },
  {
   "cell_type": "code",
   "execution_count": 122,
   "metadata": {},
   "outputs": [],
   "source": [
    "# however they have to be of the same shape.\n",
    "# y_pred_2_sq = tf.squeeze(y_pred_2)"
   ]
  },
  {
   "cell_type": "code",
   "execution_count": 123,
   "metadata": {},
   "outputs": [
    {
     "data": {
      "image/png": "[encoded data removed]",
      "text/plain": [
       "<Figure size 500x500 with 1 Axes>"
      ]
     },
     "metadata": {},
     "output_type": "display_data"
    }
   ],
   "source": [
    "plot_prediction(predictions=tf.squeeze(y_pred_2))"
   ]
  },
  {
   "cell_type": "code",
   "execution_count": 124,
   "metadata": {},
   "outputs": [],
   "source": [
    "# compare the mean errors of model_2: y_test vs y_pred\n",
    "mae_2 = tf.metrics.mean_absolute_error(y_test, tf.squeeze(y_pred_2))\n",
    "mse_2 = tf.metrics.mean_squared_error(y_test, tf.squeeze(y_pred_2))"
   ]
  },
  {
   "cell_type": "code",
   "execution_count": 125,
   "metadata": {},
   "outputs": [
    {
     "data": {
      "text/plain": [
       "(0.07100372, 0.005137784)"
      ]
     },
     "execution_count": 125,
     "metadata": {},
     "output_type": "execute_result"
    }
   ],
   "source": [
    "mae.numpy(), mse.numpy()"
   ]
  },
  {
   "attachments": {},
   "cell_type": "markdown",
   "metadata": {},
   "source": [
    "#### `Build Model 3`"
   ]
  },
  {
   "cell_type": "code",
   "execution_count": 126,
   "metadata": {},
   "outputs": [
    {
     "name": "stdout",
     "output_type": "stream",
     "text": [
      "Epoch 1/500\n",
      "2/2 [==============================] - 4s 50ms/step - loss: 115.5396 - mae: 115.5396\n",
      "Epoch 2/500\n",
      "2/2 [==============================] - 0s 26ms/step - loss: 114.8765 - mae: 114.8765\n",
      "Epoch 3/500\n",
      "2/2 [==============================] - 0s 47ms/step - loss: 114.2344 - mae: 114.2344\n",
      "Epoch 4/500\n",
      "2/2 [==============================] - 0s 29ms/step - loss: 113.5823 - mae: 113.5823\n",
      "Epoch 5/500\n",
      "2/2 [==============================] - 0s 34ms/step - loss: 112.9423 - mae: 112.9423\n",
      "Epoch 6/500\n",
      "2/2 [==============================] - 0s 29ms/step - loss: 112.2968 - mae: 112.2968\n",
      "Epoch 7/500\n",
      "2/2 [==============================] - 0s 35ms/step - loss: 111.6458 - mae: 111.6458\n",
      "Epoch 8/500\n",
      "2/2 [==============================] - 0s 24ms/step - loss: 110.9703 - mae: 110.9703\n",
      "Epoch 9/500\n",
      "2/2 [==============================] - 0s 32ms/step - loss: 110.3428 - mae: 110.3428\n",
      "Epoch 10/500\n",
      "2/2 [==============================] - 0s 44ms/step - loss: 109.7083 - mae: 109.7083\n",
      "Epoch 11/500\n",
      "2/2 [==============================] - 0s 29ms/step - loss: 109.0302 - mae: 109.0302\n",
      "Epoch 12/500\n",
      "2/2 [==============================] - 0s 32ms/step - loss: 108.3867 - mae: 108.3867\n",
      "Epoch 13/500\n",
      "2/2 [==============================] - 0s 27ms/step - loss: 107.7152 - mae: 107.7152\n",
      "Epoch 14/500\n",
      "2/2 [==============================] - 0s 33ms/step - loss: 107.0686 - mae: 107.0686\n",
      "Epoch 15/500\n",
      "2/2 [==============================] - 0s 33ms/step - loss: 106.4233 - mae: 106.4233\n",
      "Epoch 16/500\n",
      "2/2 [==============================] - 0s 33ms/step - loss: 105.7523 - mae: 105.7523\n",
      "Epoch 17/500\n",
      "2/2 [==============================] - 0s 68ms/step - loss: 105.0940 - mae: 105.0940\n",
      "Epoch 18/500\n",
      "2/2 [==============================] - 0s 35ms/step - loss: 104.4397 - mae: 104.4397\n",
      "Epoch 19/500\n",
      "2/2 [==============================] - 0s 50ms/step - loss: 103.7969 - mae: 103.7969\n",
      "Epoch 20/500\n",
      "2/2 [==============================] - 0s 47ms/step - loss: 103.1335 - mae: 103.1335\n",
      "Epoch 21/500\n",
      "2/2 [==============================] - 0s 72ms/step - loss: 102.4803 - mae: 102.4803\n",
      "Epoch 22/500\n",
      "2/2 [==============================] - 0s 32ms/step - loss: 101.8522 - mae: 101.8522\n",
      "Epoch 23/500\n",
      "2/2 [==============================] - 0s 27ms/step - loss: 101.2014 - mae: 101.2014\n",
      "Epoch 24/500\n",
      "2/2 [==============================] - 0s 35ms/step - loss: 100.5456 - mae: 100.5456\n",
      "Epoch 25/500\n",
      "2/2 [==============================] - 0s 50ms/step - loss: 99.9000 - mae: 99.9000\n",
      "Epoch 26/500\n",
      "2/2 [==============================] - 0s 30ms/step - loss: 99.2650 - mae: 99.2650\n",
      "Epoch 27/500\n",
      "2/2 [==============================] - 0s 33ms/step - loss: 98.6003 - mae: 98.6003\n",
      "Epoch 28/500\n",
      "2/2 [==============================] - 0s 46ms/step - loss: 97.9639 - mae: 97.9639\n",
      "Epoch 29/500\n",
      "2/2 [==============================] - 0s 31ms/step - loss: 97.2718 - mae: 97.2718\n",
      "Epoch 30/500\n",
      "2/2 [==============================] - 0s 27ms/step - loss: 96.5937 - mae: 96.5937\n",
      "Epoch 31/500\n",
      "2/2 [==============================] - 0s 27ms/step - loss: 95.9608 - mae: 95.9608\n",
      "Epoch 32/500\n",
      "2/2 [==============================] - 0s 28ms/step - loss: 95.2723 - mae: 95.2723\n",
      "Epoch 33/500\n",
      "2/2 [==============================] - 0s 28ms/step - loss: 94.5944 - mae: 94.5944\n",
      "Epoch 34/500\n",
      "2/2 [==============================] - 0s 29ms/step - loss: 93.9366 - mae: 93.9366\n",
      "Epoch 35/500\n",
      "2/2 [==============================] - 0s 32ms/step - loss: 93.2540 - mae: 93.2540\n",
      "Epoch 36/500\n",
      "2/2 [==============================] - 0s 24ms/step - loss: 92.6201 - mae: 92.6201\n",
      "Epoch 37/500\n",
      "2/2 [==============================] - 0s 27ms/step - loss: 91.9494 - mae: 91.9494\n",
      "Epoch 38/500\n",
      "2/2 [==============================] - 0s 28ms/step - loss: 91.3010 - mae: 91.3010\n",
      "Epoch 39/500\n",
      "2/2 [==============================] - 0s 28ms/step - loss: 90.6515 - mae: 90.6515\n",
      "Epoch 40/500\n",
      "2/2 [==============================] - 0s 29ms/step - loss: 90.0060 - mae: 90.0060\n",
      "Epoch 41/500\n",
      "2/2 [==============================] - 0s 26ms/step - loss: 89.3546 - mae: 89.3546\n",
      "Epoch 42/500\n",
      "2/2 [==============================] - 0s 25ms/step - loss: 88.7174 - mae: 88.7174\n",
      "Epoch 43/500\n",
      "2/2 [==============================] - 0s 34ms/step - loss: 88.0335 - mae: 88.0335\n",
      "Epoch 44/500\n",
      "2/2 [==============================] - 0s 28ms/step - loss: 87.4043 - mae: 87.4043\n",
      "Epoch 45/500\n",
      "2/2 [==============================] - 0s 25ms/step - loss: 86.7440 - mae: 86.7440\n",
      "Epoch 46/500\n",
      "2/2 [==============================] - 0s 26ms/step - loss: 86.1130 - mae: 86.1130\n",
      "Epoch 47/500\n",
      "2/2 [==============================] - 0s 36ms/step - loss: 85.4366 - mae: 85.4366\n",
      "Epoch 48/500\n",
      "2/2 [==============================] - 0s 32ms/step - loss: 84.7984 - mae: 84.7984\n",
      "Epoch 49/500\n",
      "2/2 [==============================] - 0s 31ms/step - loss: 84.1504 - mae: 84.1504\n",
      "Epoch 50/500\n",
      "2/2 [==============================] - 0s 29ms/step - loss: 83.5113 - mae: 83.5113\n",
      "Epoch 51/500\n",
      "2/2 [==============================] - 0s 26ms/step - loss: 82.8332 - mae: 82.8332\n",
      "Epoch 52/500\n",
      "2/2 [==============================] - 0s 31ms/step - loss: 82.1947 - mae: 82.1947\n",
      "Epoch 53/500\n",
      "2/2 [==============================] - 0s 37ms/step - loss: 81.5035 - mae: 81.5035\n",
      "Epoch 54/500\n",
      "2/2 [==============================] - 0s 33ms/step - loss: 80.8225 - mae: 80.8225\n",
      "Epoch 55/500\n",
      "2/2 [==============================] - 0s 33ms/step - loss: 80.1503 - mae: 80.1503\n",
      "Epoch 56/500\n",
      "2/2 [==============================] - 0s 30ms/step - loss: 79.4399 - mae: 79.4399\n",
      "Epoch 57/500\n",
      "2/2 [==============================] - 0s 32ms/step - loss: 78.7535 - mae: 78.7535\n",
      "Epoch 58/500\n",
      "2/2 [==============================] - 0s 57ms/step - loss: 78.0535 - mae: 78.0535\n",
      "Epoch 59/500\n",
      "2/2 [==============================] - 0s 40ms/step - loss: 77.3675 - mae: 77.3675\n",
      "Epoch 60/500\n",
      "2/2 [==============================] - 0s 32ms/step - loss: 76.6770 - mae: 76.6770\n",
      "Epoch 61/500\n",
      "2/2 [==============================] - 0s 39ms/step - loss: 75.9911 - mae: 75.9911\n",
      "Epoch 62/500\n",
      "2/2 [==============================] - 0s 63ms/step - loss: 75.3114 - mae: 75.3114\n",
      "Epoch 63/500\n",
      "2/2 [==============================] - 0s 40ms/step - loss: 74.6176 - mae: 74.6176\n",
      "Epoch 64/500\n",
      "2/2 [==============================] - 0s 38ms/step - loss: 73.9235 - mae: 73.9235\n",
      "Epoch 65/500\n",
      "2/2 [==============================] - 0s 37ms/step - loss: 73.2270 - mae: 73.2270\n",
      "Epoch 66/500\n",
      "2/2 [==============================] - 0s 30ms/step - loss: 72.5276 - mae: 72.5276\n",
      "Epoch 67/500\n",
      "2/2 [==============================] - 0s 28ms/step - loss: 71.8276 - mae: 71.8276\n",
      "Epoch 68/500\n",
      "2/2 [==============================] - 0s 31ms/step - loss: 71.1165 - mae: 71.1165\n",
      "Epoch 69/500\n",
      "2/2 [==============================] - 0s 34ms/step - loss: 70.4227 - mae: 70.4227\n",
      "Epoch 70/500\n",
      "2/2 [==============================] - 0s 31ms/step - loss: 69.6981 - mae: 69.6981\n",
      "Epoch 71/500\n",
      "2/2 [==============================] - 0s 26ms/step - loss: 68.9937 - mae: 68.9937\n",
      "Epoch 72/500\n",
      "2/2 [==============================] - 0s 35ms/step - loss: 68.2872 - mae: 68.2872\n",
      "Epoch 73/500\n",
      "2/2 [==============================] - 0s 28ms/step - loss: 67.5436 - mae: 67.5436\n",
      "Epoch 74/500\n",
      "2/2 [==============================] - 0s 28ms/step - loss: 66.8534 - mae: 66.8534\n",
      "Epoch 75/500\n",
      "2/2 [==============================] - 0s 24ms/step - loss: 66.1051 - mae: 66.1051\n",
      "Epoch 76/500\n",
      "2/2 [==============================] - 0s 29ms/step - loss: 65.3718 - mae: 65.3718\n",
      "Epoch 77/500\n",
      "2/2 [==============================] - 0s 27ms/step - loss: 64.6353 - mae: 64.6353\n",
      "Epoch 78/500\n",
      "2/2 [==============================] - 0s 30ms/step - loss: 63.8743 - mae: 63.8743\n",
      "Epoch 79/500\n",
      "2/2 [==============================] - 0s 27ms/step - loss: 63.1136 - mae: 63.1136\n",
      "Epoch 80/500\n",
      "2/2 [==============================] - 0s 31ms/step - loss: 62.3732 - mae: 62.3732\n",
      "Epoch 81/500\n",
      "2/2 [==============================] - 0s 30ms/step - loss: 61.6469 - mae: 61.6469\n",
      "Epoch 82/500\n",
      "2/2 [==============================] - 0s 28ms/step - loss: 60.8542 - mae: 60.8542\n",
      "Epoch 83/500\n",
      "2/2 [==============================] - 0s 30ms/step - loss: 60.1309 - mae: 60.1309\n",
      "Epoch 84/500\n",
      "2/2 [==============================] - 0s 29ms/step - loss: 59.3526 - mae: 59.3526\n",
      "Epoch 85/500\n",
      "2/2 [==============================] - 0s 28ms/step - loss: 58.6308 - mae: 58.6308\n",
      "Epoch 86/500\n",
      "2/2 [==============================] - 0s 29ms/step - loss: 57.8815 - mae: 57.8815\n",
      "Epoch 87/500\n",
      "2/2 [==============================] - 0s 28ms/step - loss: 57.1084 - mae: 57.1084\n",
      "Epoch 88/500\n",
      "2/2 [==============================] - 0s 26ms/step - loss: 56.3607 - mae: 56.3607\n",
      "Epoch 89/500\n",
      "2/2 [==============================] - 0s 35ms/step - loss: 55.5643 - mae: 55.5643\n",
      "Epoch 90/500\n",
      "2/2 [==============================] - 0s 38ms/step - loss: 54.7972 - mae: 54.7972\n",
      "Epoch 91/500\n",
      "2/2 [==============================] - 0s 32ms/step - loss: 53.9943 - mae: 53.9943\n",
      "Epoch 92/500\n",
      "2/2 [==============================] - 0s 36ms/step - loss: 53.2262 - mae: 53.2262\n",
      "Epoch 93/500\n",
      "2/2 [==============================] - 0s 34ms/step - loss: 52.4258 - mae: 52.4258\n",
      "Epoch 94/500\n",
      "2/2 [==============================] - 0s 26ms/step - loss: 51.6203 - mae: 51.6203\n",
      "Epoch 95/500\n",
      "2/2 [==============================] - 0s 27ms/step - loss: 50.8389 - mae: 50.8389\n",
      "Epoch 96/500\n",
      "2/2 [==============================] - 0s 25ms/step - loss: 50.0188 - mae: 50.0188\n",
      "Epoch 97/500\n",
      "2/2 [==============================] - 0s 37ms/step - loss: 49.2361 - mae: 49.2361\n",
      "Epoch 98/500\n",
      "2/2 [==============================] - 0s 42ms/step - loss: 48.4193 - mae: 48.4193\n",
      "Epoch 99/500\n",
      "2/2 [==============================] - 0s 33ms/step - loss: 47.5921 - mae: 47.5921\n",
      "Epoch 100/500\n",
      "2/2 [==============================] - 0s 53ms/step - loss: 46.7863 - mae: 46.7863\n",
      "Epoch 101/500\n",
      "2/2 [==============================] - 0s 46ms/step - loss: 45.9649 - mae: 45.9649\n",
      "Epoch 102/500\n",
      "2/2 [==============================] - 0s 36ms/step - loss: 45.1426 - mae: 45.1426\n",
      "Epoch 103/500\n",
      "2/2 [==============================] - 0s 31ms/step - loss: 44.2846 - mae: 44.2846\n",
      "Epoch 104/500\n",
      "2/2 [==============================] - 0s 52ms/step - loss: 43.4560 - mae: 43.4560\n",
      "Epoch 105/500\n",
      "2/2 [==============================] - 0s 41ms/step - loss: 42.6230 - mae: 42.6230\n",
      "Epoch 106/500\n",
      "2/2 [==============================] - 0s 80ms/step - loss: 41.7530 - mae: 41.7530\n",
      "Epoch 107/500\n",
      "2/2 [==============================] - 0s 26ms/step - loss: 40.9191 - mae: 40.9191\n",
      "Epoch 108/500\n",
      "2/2 [==============================] - 0s 47ms/step - loss: 40.0608 - mae: 40.0608\n",
      "Epoch 109/500\n",
      "2/2 [==============================] - 0s 46ms/step - loss: 39.2186 - mae: 39.2186\n",
      "Epoch 110/500\n",
      "2/2 [==============================] - 0s 40ms/step - loss: 38.3491 - mae: 38.3491\n",
      "Epoch 111/500\n",
      "2/2 [==============================] - 0s 34ms/step - loss: 37.4987 - mae: 37.4987\n",
      "Epoch 112/500\n",
      "2/2 [==============================] - 0s 27ms/step - loss: 36.6320 - mae: 36.6320\n",
      "Epoch 113/500\n",
      "2/2 [==============================] - 0s 32ms/step - loss: 35.7541 - mae: 35.7541\n",
      "Epoch 114/500\n",
      "2/2 [==============================] - 0s 28ms/step - loss: 34.8864 - mae: 34.8864\n",
      "Epoch 115/500\n",
      "2/2 [==============================] - 0s 36ms/step - loss: 33.9838 - mae: 33.9838\n",
      "Epoch 116/500\n",
      "2/2 [==============================] - 0s 36ms/step - loss: 33.0959 - mae: 33.0959\n",
      "Epoch 117/500\n",
      "2/2 [==============================] - 0s 41ms/step - loss: 32.1936 - mae: 32.1936\n",
      "Epoch 118/500\n",
      "2/2 [==============================] - 0s 29ms/step - loss: 31.2980 - mae: 31.2980\n",
      "Epoch 119/500\n",
      "2/2 [==============================] - 0s 38ms/step - loss: 30.3422 - mae: 30.3422\n",
      "Epoch 120/500\n",
      "2/2 [==============================] - 0s 29ms/step - loss: 29.4882 - mae: 29.4882\n",
      "Epoch 121/500\n",
      "2/2 [==============================] - 0s 26ms/step - loss: 28.5225 - mae: 28.5225\n",
      "Epoch 122/500\n",
      "2/2 [==============================] - 0s 31ms/step - loss: 27.5838 - mae: 27.5838\n",
      "Epoch 123/500\n",
      "2/2 [==============================] - 0s 30ms/step - loss: 26.6546 - mae: 26.6546\n",
      "Epoch 124/500\n",
      "2/2 [==============================] - 0s 28ms/step - loss: 25.7034 - mae: 25.7034\n",
      "Epoch 125/500\n",
      "2/2 [==============================] - 0s 27ms/step - loss: 24.7385 - mae: 24.7385\n",
      "Epoch 126/500\n",
      "2/2 [==============================] - 0s 34ms/step - loss: 23.7714 - mae: 23.7714\n",
      "Epoch 127/500\n",
      "2/2 [==============================] - 0s 30ms/step - loss: 22.8080 - mae: 22.8080\n",
      "Epoch 128/500\n",
      "2/2 [==============================] - 0s 31ms/step - loss: 21.8495 - mae: 21.8495\n",
      "Epoch 129/500\n",
      "2/2 [==============================] - 0s 29ms/step - loss: 20.8880 - mae: 20.8880\n",
      "Epoch 130/500\n",
      "2/2 [==============================] - 0s 32ms/step - loss: 19.9174 - mae: 19.9174\n",
      "Epoch 131/500\n",
      "2/2 [==============================] - 0s 35ms/step - loss: 18.9552 - mae: 18.9552\n",
      "Epoch 132/500\n",
      "2/2 [==============================] - 0s 25ms/step - loss: 17.9751 - mae: 17.9751\n",
      "Epoch 133/500\n",
      "2/2 [==============================] - 0s 27ms/step - loss: 16.9928 - mae: 16.9928\n",
      "Epoch 134/500\n",
      "2/2 [==============================] - 0s 30ms/step - loss: 16.0147 - mae: 16.0147\n",
      "Epoch 135/500\n",
      "2/2 [==============================] - 0s 31ms/step - loss: 15.0176 - mae: 15.0176\n",
      "Epoch 136/500\n",
      "2/2 [==============================] - 0s 28ms/step - loss: 14.0042 - mae: 14.0042\n",
      "Epoch 137/500\n",
      "2/2 [==============================] - 0s 31ms/step - loss: 13.0339 - mae: 13.0339\n",
      "Epoch 138/500\n",
      "2/2 [==============================] - 0s 33ms/step - loss: 12.0257 - mae: 12.0257\n",
      "Epoch 139/500\n",
      "2/2 [==============================] - 0s 34ms/step - loss: 10.9875 - mae: 10.9875\n",
      "Epoch 140/500\n",
      "2/2 [==============================] - 0s 28ms/step - loss: 9.9887 - mae: 9.9887\n",
      "Epoch 141/500\n",
      "2/2 [==============================] - 0s 30ms/step - loss: 8.9412 - mae: 8.9412\n",
      "Epoch 142/500\n",
      "2/2 [==============================] - 0s 27ms/step - loss: 7.9300 - mae: 7.9300\n",
      "Epoch 143/500\n",
      "2/2 [==============================] - 0s 29ms/step - loss: 6.9184 - mae: 6.9184\n",
      "Epoch 144/500\n",
      "2/2 [==============================] - 0s 29ms/step - loss: 5.8384 - mae: 5.8384\n",
      "Epoch 145/500\n",
      "2/2 [==============================] - 0s 29ms/step - loss: 4.8508 - mae: 4.8508\n",
      "Epoch 146/500\n",
      "2/2 [==============================] - 0s 41ms/step - loss: 3.8709 - mae: 3.8709\n",
      "Epoch 147/500\n",
      "2/2 [==============================] - 0s 28ms/step - loss: 2.8637 - mae: 2.8637\n",
      "Epoch 148/500\n",
      "2/2 [==============================] - 0s 26ms/step - loss: 1.9647 - mae: 1.9647\n",
      "Epoch 149/500\n",
      "2/2 [==============================] - 0s 26ms/step - loss: 1.2401 - mae: 1.2401\n",
      "Epoch 150/500\n",
      "2/2 [==============================] - 0s 33ms/step - loss: 1.2738 - mae: 1.2738\n",
      "Epoch 151/500\n",
      "2/2 [==============================] - 0s 27ms/step - loss: 1.5103 - mae: 1.5103\n",
      "Epoch 152/500\n",
      "2/2 [==============================] - 0s 29ms/step - loss: 1.6727 - mae: 1.6727\n",
      "Epoch 153/500\n",
      "2/2 [==============================] - 0s 31ms/step - loss: 1.7322 - mae: 1.7322\n",
      "Epoch 154/500\n",
      "2/2 [==============================] - 0s 32ms/step - loss: 1.7355 - mae: 1.7355\n",
      "Epoch 155/500\n",
      "2/2 [==============================] - 0s 29ms/step - loss: 1.6835 - mae: 1.6835\n",
      "Epoch 156/500\n",
      "2/2 [==============================] - 0s 36ms/step - loss: 1.5696 - mae: 1.5696\n",
      "Epoch 157/500\n",
      "2/2 [==============================] - 0s 33ms/step - loss: 1.4094 - mae: 1.4094\n",
      "Epoch 158/500\n",
      "2/2 [==============================] - 0s 34ms/step - loss: 1.2245 - mae: 1.2245\n",
      "Epoch 159/500\n",
      "2/2 [==============================] - 0s 27ms/step - loss: 0.9767 - mae: 0.9767\n",
      "Epoch 160/500\n",
      "2/2 [==============================] - 0s 28ms/step - loss: 0.9236 - mae: 0.9236\n",
      "Epoch 161/500\n",
      "2/2 [==============================] - 0s 31ms/step - loss: 1.0263 - mae: 1.0263\n",
      "Epoch 162/500\n",
      "2/2 [==============================] - 0s 29ms/step - loss: 1.0393 - mae: 1.0393\n",
      "Epoch 163/500\n",
      "2/2 [==============================] - 0s 31ms/step - loss: 0.9418 - mae: 0.9418\n",
      "Epoch 164/500\n",
      "2/2 [==============================] - 0s 32ms/step - loss: 0.8290 - mae: 0.8290\n",
      "Epoch 165/500\n",
      "2/2 [==============================] - 0s 26ms/step - loss: 0.8524 - mae: 0.8524\n",
      "Epoch 166/500\n",
      "2/2 [==============================] - 0s 28ms/step - loss: 0.8886 - mae: 0.8886\n",
      "Epoch 167/500\n",
      "2/2 [==============================] - 0s 35ms/step - loss: 0.8487 - mae: 0.8487\n",
      "Epoch 168/500\n",
      "2/2 [==============================] - 0s 33ms/step - loss: 0.7666 - mae: 0.7666\n",
      "Epoch 169/500\n",
      "2/2 [==============================] - 0s 26ms/step - loss: 0.7598 - mae: 0.7598\n",
      "Epoch 170/500\n",
      "2/2 [==============================] - 0s 29ms/step - loss: 0.7685 - mae: 0.7685\n",
      "Epoch 171/500\n",
      "2/2 [==============================] - 0s 27ms/step - loss: 0.7441 - mae: 0.7441\n",
      "Epoch 172/500\n",
      "2/2 [==============================] - 0s 28ms/step - loss: 0.7031 - mae: 0.7031\n",
      "Epoch 173/500\n",
      "2/2 [==============================] - 0s 31ms/step - loss: 0.7151 - mae: 0.7151\n",
      "Epoch 174/500\n",
      "2/2 [==============================] - 0s 28ms/step - loss: 0.7153 - mae: 0.7153\n",
      "Epoch 175/500\n",
      "2/2 [==============================] - 0s 28ms/step - loss: 0.6559 - mae: 0.6559\n",
      "Epoch 176/500\n",
      "2/2 [==============================] - 0s 29ms/step - loss: 0.6610 - mae: 0.6610\n",
      "Epoch 177/500\n",
      "2/2 [==============================] - 0s 24ms/step - loss: 0.7217 - mae: 0.7217\n",
      "Epoch 178/500\n",
      "2/2 [==============================] - 0s 28ms/step - loss: 0.7157 - mae: 0.7157\n",
      "Epoch 179/500\n",
      "2/2 [==============================] - 0s 33ms/step - loss: 0.6452 - mae: 0.6452\n",
      "Epoch 180/500\n",
      "2/2 [==============================] - 0s 35ms/step - loss: 0.5917 - mae: 0.5917\n",
      "Epoch 181/500\n",
      "2/2 [==============================] - 0s 29ms/step - loss: 0.5999 - mae: 0.5999\n",
      "Epoch 182/500\n",
      "2/2 [==============================] - 0s 37ms/step - loss: 0.5688 - mae: 0.5688\n",
      "Epoch 183/500\n",
      "2/2 [==============================] - 0s 44ms/step - loss: 0.5603 - mae: 0.5603\n",
      "Epoch 184/500\n",
      "2/2 [==============================] - 0s 56ms/step - loss: 0.5444 - mae: 0.5444\n",
      "Epoch 185/500\n",
      "2/2 [==============================] - 0s 73ms/step - loss: 0.5154 - mae: 0.5154\n",
      "Epoch 186/500\n",
      "2/2 [==============================] - 0s 41ms/step - loss: 0.5204 - mae: 0.5204\n",
      "Epoch 187/500\n",
      "2/2 [==============================] - 0s 32ms/step - loss: 0.5078 - mae: 0.5078\n",
      "Epoch 188/500\n",
      "2/2 [==============================] - 0s 32ms/step - loss: 0.4760 - mae: 0.4760\n",
      "Epoch 189/500\n",
      "2/2 [==============================] - 0s 30ms/step - loss: 0.4786 - mae: 0.4786\n",
      "Epoch 190/500\n",
      "2/2 [==============================] - 0s 31ms/step - loss: 0.4650 - mae: 0.4650\n",
      "Epoch 191/500\n",
      "2/2 [==============================] - 0s 31ms/step - loss: 0.4366 - mae: 0.4366\n",
      "Epoch 192/500\n",
      "2/2 [==============================] - 0s 36ms/step - loss: 0.4323 - mae: 0.4323\n",
      "Epoch 193/500\n",
      "2/2 [==============================] - 0s 28ms/step - loss: 0.4137 - mae: 0.4137\n",
      "Epoch 194/500\n",
      "2/2 [==============================] - 0s 31ms/step - loss: 0.4124 - mae: 0.4124\n",
      "Epoch 195/500\n",
      "2/2 [==============================] - 0s 31ms/step - loss: 0.3894 - mae: 0.3894\n",
      "Epoch 196/500\n",
      "2/2 [==============================] - 0s 27ms/step - loss: 0.3686 - mae: 0.3686\n",
      "Epoch 197/500\n",
      "2/2 [==============================] - 0s 30ms/step - loss: 0.3554 - mae: 0.3554\n",
      "Epoch 198/500\n",
      "2/2 [==============================] - 0s 27ms/step - loss: 0.3499 - mae: 0.3499\n",
      "Epoch 199/500\n",
      "2/2 [==============================] - 0s 25ms/step - loss: 0.3327 - mae: 0.3327\n",
      "Epoch 200/500\n",
      "2/2 [==============================] - 0s 29ms/step - loss: 0.3284 - mae: 0.3284\n",
      "Epoch 201/500\n",
      "2/2 [==============================] - 0s 26ms/step - loss: 0.3031 - mae: 0.3031\n",
      "Epoch 202/500\n",
      "2/2 [==============================] - 0s 25ms/step - loss: 0.2923 - mae: 0.2923\n",
      "Epoch 203/500\n",
      "2/2 [==============================] - 0s 30ms/step - loss: 0.2766 - mae: 0.2766\n",
      "Epoch 204/500\n",
      "2/2 [==============================] - 0s 32ms/step - loss: 0.2816 - mae: 0.2816\n",
      "Epoch 205/500\n",
      "2/2 [==============================] - 0s 26ms/step - loss: 0.2645 - mae: 0.2645\n",
      "Epoch 206/500\n",
      "2/2 [==============================] - 0s 30ms/step - loss: 0.2605 - mae: 0.2605\n",
      "Epoch 207/500\n",
      "2/2 [==============================] - 0s 27ms/step - loss: 0.2419 - mae: 0.2419\n",
      "Epoch 208/500\n",
      "2/2 [==============================] - 0s 27ms/step - loss: 0.2202 - mae: 0.2202\n",
      "Epoch 209/500\n",
      "2/2 [==============================] - 0s 26ms/step - loss: 0.2057 - mae: 0.2057\n",
      "Epoch 210/500\n",
      "2/2 [==============================] - 0s 28ms/step - loss: 0.1945 - mae: 0.1945\n",
      "Epoch 211/500\n",
      "2/2 [==============================] - 0s 30ms/step - loss: 0.1790 - mae: 0.1790\n",
      "Epoch 212/500\n",
      "2/2 [==============================] - 0s 26ms/step - loss: 0.1922 - mae: 0.1922\n",
      "Epoch 213/500\n",
      "2/2 [==============================] - 0s 29ms/step - loss: 0.1872 - mae: 0.1872\n",
      "Epoch 214/500\n",
      "2/2 [==============================] - 0s 32ms/step - loss: 0.1536 - mae: 0.1536\n",
      "Epoch 215/500\n",
      "2/2 [==============================] - 0s 30ms/step - loss: 0.1554 - mae: 0.1554\n",
      "Epoch 216/500\n",
      "2/2 [==============================] - 0s 26ms/step - loss: 0.1296 - mae: 0.1296\n",
      "Epoch 217/500\n",
      "2/2 [==============================] - 0s 33ms/step - loss: 0.1098 - mae: 0.1098\n",
      "Epoch 218/500\n",
      "2/2 [==============================] - 0s 29ms/step - loss: 0.1170 - mae: 0.1170\n",
      "Epoch 219/500\n",
      "2/2 [==============================] - 0s 29ms/step - loss: 0.0871 - mae: 0.0871\n",
      "Epoch 220/500\n",
      "2/2 [==============================] - 0s 33ms/step - loss: 0.0854 - mae: 0.0854\n",
      "Epoch 221/500\n",
      "2/2 [==============================] - 0s 28ms/step - loss: 0.0834 - mae: 0.0834\n",
      "Epoch 222/500\n",
      "2/2 [==============================] - 0s 27ms/step - loss: 0.0849 - mae: 0.0849\n",
      "Epoch 223/500\n",
      "2/2 [==============================] - 0s 25ms/step - loss: 0.0408 - mae: 0.0408\n",
      "Epoch 224/500\n",
      "2/2 [==============================] - 0s 47ms/step - loss: 0.0298 - mae: 0.0298\n",
      "Epoch 225/500\n",
      "2/2 [==============================] - 0s 33ms/step - loss: 0.0283 - mae: 0.0283\n",
      "Epoch 226/500\n",
      "2/2 [==============================] - 0s 29ms/step - loss: 0.0173 - mae: 0.0173\n",
      "Epoch 227/500\n",
      "2/2 [==============================] - 0s 25ms/step - loss: 0.0111 - mae: 0.0111\n",
      "Epoch 228/500\n",
      "2/2 [==============================] - 0s 29ms/step - loss: 0.0240 - mae: 0.0240\n",
      "Epoch 229/500\n",
      "2/2 [==============================] - 0s 25ms/step - loss: 0.0331 - mae: 0.0331\n",
      "Epoch 230/500\n",
      "2/2 [==============================] - 0s 29ms/step - loss: 0.0556 - mae: 0.0556\n",
      "Epoch 231/500\n",
      "2/2 [==============================] - 0s 25ms/step - loss: 0.0303 - mae: 0.0303\n",
      "Epoch 232/500\n",
      "2/2 [==============================] - 0s 32ms/step - loss: 0.0280 - mae: 0.0280\n",
      "Epoch 233/500\n",
      "2/2 [==============================] - 0s 28ms/step - loss: 0.0315 - mae: 0.0315\n",
      "Epoch 234/500\n",
      "2/2 [==============================] - 0s 28ms/step - loss: 0.0439 - mae: 0.0439\n",
      "Epoch 235/500\n",
      "2/2 [==============================] - 0s 31ms/step - loss: 0.1095 - mae: 0.1095\n",
      "Epoch 236/500\n",
      "2/2 [==============================] - 0s 29ms/step - loss: 0.0910 - mae: 0.0910\n",
      "Epoch 237/500\n",
      "2/2 [==============================] - 0s 30ms/step - loss: 0.1204 - mae: 0.1204\n",
      "Epoch 238/500\n",
      "2/2 [==============================] - 0s 30ms/step - loss: 0.1519 - mae: 0.1519\n",
      "Epoch 239/500\n",
      "2/2 [==============================] - 0s 28ms/step - loss: 0.0222 - mae: 0.0222\n",
      "Epoch 240/500\n",
      "2/2 [==============================] - 0s 28ms/step - loss: 0.0472 - mae: 0.0472\n",
      "Epoch 241/500\n",
      "2/2 [==============================] - 0s 26ms/step - loss: 0.0219 - mae: 0.0219\n",
      "Epoch 242/500\n",
      "2/2 [==============================] - 0s 30ms/step - loss: 0.0236 - mae: 0.0236\n",
      "Epoch 243/500\n",
      "2/2 [==============================] - 0s 34ms/step - loss: 0.0458 - mae: 0.0458\n",
      "Epoch 244/500\n",
      "2/2 [==============================] - 0s 26ms/step - loss: 0.0377 - mae: 0.0377\n",
      "Epoch 245/500\n",
      "2/2 [==============================] - 0s 28ms/step - loss: 0.0718 - mae: 0.0718\n",
      "Epoch 246/500\n",
      "2/2 [==============================] - 0s 31ms/step - loss: 0.0415 - mae: 0.0415\n",
      "Epoch 247/500\n",
      "2/2 [==============================] - 0s 29ms/step - loss: 0.0636 - mae: 0.0636\n",
      "Epoch 248/500\n",
      "2/2 [==============================] - 0s 31ms/step - loss: 0.0692 - mae: 0.0692\n",
      "Epoch 249/500\n",
      "2/2 [==============================] - 0s 27ms/step - loss: 0.0464 - mae: 0.0464\n",
      "Epoch 250/500\n",
      "2/2 [==============================] - 0s 27ms/step - loss: 0.0348 - mae: 0.0348\n",
      "Epoch 251/500\n",
      "2/2 [==============================] - 0s 27ms/step - loss: 0.0230 - mae: 0.0230\n",
      "Epoch 252/500\n",
      "2/2 [==============================] - 0s 32ms/step - loss: 0.0267 - mae: 0.0267\n",
      "Epoch 253/500\n",
      "2/2 [==============================] - 0s 30ms/step - loss: 0.0548 - mae: 0.0548\n",
      "Epoch 254/500\n",
      "2/2 [==============================] - 0s 40ms/step - loss: 0.0297 - mae: 0.0297\n",
      "Epoch 255/500\n",
      "2/2 [==============================] - 0s 34ms/step - loss: 0.0920 - mae: 0.0920\n",
      "Epoch 256/500\n",
      "2/2 [==============================] - 0s 32ms/step - loss: 0.0443 - mae: 0.0443\n",
      "Epoch 257/500\n",
      "2/2 [==============================] - 0s 55ms/step - loss: 0.0407 - mae: 0.0407\n",
      "Epoch 258/500\n",
      "2/2 [==============================] - 0s 42ms/step - loss: 0.0528 - mae: 0.0528\n",
      "Epoch 259/500\n",
      "2/2 [==============================] - 0s 29ms/step - loss: 0.0886 - mae: 0.0886\n",
      "Epoch 260/500\n",
      "2/2 [==============================] - 0s 30ms/step - loss: 0.0615 - mae: 0.0615\n",
      "Epoch 261/500\n",
      "2/2 [==============================] - 0s 49ms/step - loss: 0.0661 - mae: 0.0661\n",
      "Epoch 262/500\n",
      "2/2 [==============================] - 0s 35ms/step - loss: 0.0221 - mae: 0.0221\n",
      "Epoch 263/500\n",
      "2/2 [==============================] - 0s 31ms/step - loss: 0.0126 - mae: 0.0126\n",
      "Epoch 264/500\n",
      "2/2 [==============================] - 0s 30ms/step - loss: 0.0151 - mae: 0.0151\n",
      "Epoch 265/500\n",
      "2/2 [==============================] - 0s 34ms/step - loss: 0.0329 - mae: 0.0329\n",
      "Epoch 266/500\n",
      "2/2 [==============================] - 0s 35ms/step - loss: 0.0311 - mae: 0.0311\n",
      "Epoch 267/500\n",
      "2/2 [==============================] - 0s 32ms/step - loss: 0.0271 - mae: 0.0271\n",
      "Epoch 268/500\n",
      "2/2 [==============================] - 0s 28ms/step - loss: 0.0150 - mae: 0.0150\n",
      "Epoch 269/500\n",
      "2/2 [==============================] - 0s 28ms/step - loss: 0.0506 - mae: 0.0506\n",
      "Epoch 270/500\n",
      "2/2 [==============================] - 0s 32ms/step - loss: 0.0075 - mae: 0.0075\n",
      "Epoch 271/500\n",
      "2/2 [==============================] - 0s 28ms/step - loss: 0.0159 - mae: 0.0159\n",
      "Epoch 272/500\n",
      "2/2 [==============================] - 0s 25ms/step - loss: 0.0179 - mae: 0.0179\n",
      "Epoch 273/500\n",
      "2/2 [==============================] - 0s 28ms/step - loss: 0.0679 - mae: 0.0679\n",
      "Epoch 274/500\n",
      "2/2 [==============================] - 0s 25ms/step - loss: 0.0383 - mae: 0.0383\n",
      "Epoch 275/500\n",
      "2/2 [==============================] - 0s 28ms/step - loss: 0.0412 - mae: 0.0412\n",
      "Epoch 276/500\n",
      "2/2 [==============================] - 0s 28ms/step - loss: 0.0222 - mae: 0.0222\n",
      "Epoch 277/500\n",
      "2/2 [==============================] - 0s 29ms/step - loss: 0.0258 - mae: 0.0258\n",
      "Epoch 278/500\n",
      "2/2 [==============================] - 0s 28ms/step - loss: 0.0191 - mae: 0.0191\n",
      "Epoch 279/500\n",
      "2/2 [==============================] - 0s 30ms/step - loss: 0.0133 - mae: 0.0133\n",
      "Epoch 280/500\n",
      "2/2 [==============================] - 0s 29ms/step - loss: 0.0166 - mae: 0.0166\n",
      "Epoch 281/500\n",
      "2/2 [==============================] - 0s 26ms/step - loss: 0.0178 - mae: 0.0178\n",
      "Epoch 282/500\n",
      "2/2 [==============================] - 0s 29ms/step - loss: 0.0182 - mae: 0.0182\n",
      "Epoch 283/500\n",
      "2/2 [==============================] - 0s 32ms/step - loss: 0.0576 - mae: 0.0576\n",
      "Epoch 284/500\n",
      "2/2 [==============================] - 0s 26ms/step - loss: 0.0875 - mae: 0.0875\n",
      "Epoch 285/500\n",
      "2/2 [==============================] - 0s 31ms/step - loss: 0.0801 - mae: 0.0801\n",
      "Epoch 286/500\n",
      "2/2 [==============================] - 0s 32ms/step - loss: 0.1156 - mae: 0.1156\n",
      "Epoch 287/500\n",
      "2/2 [==============================] - 0s 28ms/step - loss: 0.1354 - mae: 0.1354\n",
      "Epoch 288/500\n",
      "2/2 [==============================] - 0s 30ms/step - loss: 0.0348 - mae: 0.0348\n",
      "Epoch 289/500\n",
      "2/2 [==============================] - 0s 30ms/step - loss: 0.0694 - mae: 0.0694\n",
      "Epoch 290/500\n",
      "2/2 [==============================] - 0s 29ms/step - loss: 0.0729 - mae: 0.0729\n",
      "Epoch 291/500\n",
      "2/2 [==============================] - 0s 27ms/step - loss: 0.0690 - mae: 0.0690\n",
      "Epoch 292/500\n",
      "2/2 [==============================] - 0s 28ms/step - loss: 0.1067 - mae: 0.1067\n",
      "Epoch 293/500\n",
      "2/2 [==============================] - 0s 30ms/step - loss: 0.1193 - mae: 0.1193\n",
      "Epoch 294/500\n",
      "2/2 [==============================] - 0s 31ms/step - loss: 0.0521 - mae: 0.0521\n",
      "Epoch 295/500\n",
      "2/2 [==============================] - 0s 26ms/step - loss: 0.0812 - mae: 0.0812\n",
      "Epoch 296/500\n",
      "2/2 [==============================] - 0s 27ms/step - loss: 0.0693 - mae: 0.0693\n",
      "Epoch 297/500\n",
      "2/2 [==============================] - 0s 28ms/step - loss: 0.0863 - mae: 0.0863\n",
      "Epoch 298/500\n",
      "2/2 [==============================] - 0s 31ms/step - loss: 0.0708 - mae: 0.0708\n",
      "Epoch 299/500\n",
      "2/2 [==============================] - 0s 29ms/step - loss: 0.0806 - mae: 0.0806\n",
      "Epoch 300/500\n",
      "2/2 [==============================] - 0s 29ms/step - loss: 0.0942 - mae: 0.0942\n",
      "Epoch 301/500\n",
      "2/2 [==============================] - 0s 29ms/step - loss: 0.1161 - mae: 0.1161\n",
      "Epoch 302/500\n",
      "2/2 [==============================] - 0s 29ms/step - loss: 0.0470 - mae: 0.0470\n",
      "Epoch 303/500\n",
      "2/2 [==============================] - 0s 31ms/step - loss: 0.0511 - mae: 0.0511\n",
      "Epoch 304/500\n",
      "2/2 [==============================] - 0s 33ms/step - loss: 0.1283 - mae: 0.1283\n",
      "Epoch 305/500\n",
      "2/2 [==============================] - 0s 27ms/step - loss: 0.1558 - mae: 0.1558\n",
      "Epoch 306/500\n",
      "2/2 [==============================] - 0s 28ms/step - loss: 0.0306 - mae: 0.0306\n",
      "Epoch 307/500\n",
      "2/2 [==============================] - 0s 31ms/step - loss: 0.2265 - mae: 0.2265\n",
      "Epoch 308/500\n",
      "2/2 [==============================] - 0s 28ms/step - loss: 0.1956 - mae: 0.1956\n",
      "Epoch 309/500\n",
      "2/2 [==============================] - 0s 25ms/step - loss: 0.0327 - mae: 0.0327\n",
      "Epoch 310/500\n",
      "2/2 [==============================] - 0s 26ms/step - loss: 0.2358 - mae: 0.2358\n",
      "Epoch 311/500\n",
      "2/2 [==============================] - 0s 25ms/step - loss: 0.2166 - mae: 0.2166\n",
      "Epoch 312/500\n",
      "2/2 [==============================] - 0s 30ms/step - loss: 0.0616 - mae: 0.0616\n",
      "Epoch 313/500\n",
      "2/2 [==============================] - 0s 32ms/step - loss: 0.2130 - mae: 0.2130\n",
      "Epoch 314/500\n",
      "2/2 [==============================] - 0s 30ms/step - loss: 0.1983 - mae: 0.1983\n",
      "Epoch 315/500\n",
      "2/2 [==============================] - 0s 30ms/step - loss: 0.0489 - mae: 0.0489\n",
      "Epoch 316/500\n",
      "2/2 [==============================] - 0s 33ms/step - loss: 0.2400 - mae: 0.2400\n",
      "Epoch 317/500\n",
      "2/2 [==============================] - 0s 27ms/step - loss: 0.2096 - mae: 0.2096\n",
      "Epoch 318/500\n",
      "2/2 [==============================] - 0s 26ms/step - loss: 0.0382 - mae: 0.0382\n",
      "Epoch 319/500\n",
      "2/2 [==============================] - 0s 25ms/step - loss: 0.2589 - mae: 0.2589\n",
      "Epoch 320/500\n",
      "2/2 [==============================] - 0s 34ms/step - loss: 0.2463 - mae: 0.2463\n",
      "Epoch 321/500\n",
      "2/2 [==============================] - 0s 27ms/step - loss: 0.0725 - mae: 0.0725\n",
      "Epoch 322/500\n",
      "2/2 [==============================] - 0s 30ms/step - loss: 0.2054 - mae: 0.2054\n",
      "Epoch 323/500\n",
      "2/2 [==============================] - 0s 42ms/step - loss: 0.2120 - mae: 0.2120\n",
      "Epoch 324/500\n",
      "2/2 [==============================] - 0s 42ms/step - loss: 0.0609 - mae: 0.0609\n",
      "Epoch 325/500\n",
      "2/2 [==============================] - 0s 51ms/step - loss: 0.1920 - mae: 0.1920\n",
      "Epoch 326/500\n",
      "2/2 [==============================] - 0s 25ms/step - loss: 0.1671 - mae: 0.1671\n",
      "Epoch 327/500\n",
      "2/2 [==============================] - 0s 44ms/step - loss: 0.0265 - mae: 0.0265\n",
      "Epoch 328/500\n",
      "2/2 [==============================] - 0s 29ms/step - loss: 0.0874 - mae: 0.0874\n",
      "Epoch 329/500\n",
      "2/2 [==============================] - 0s 31ms/step - loss: 0.0252 - mae: 0.0252\n",
      "Epoch 330/500\n",
      "2/2 [==============================] - 0s 27ms/step - loss: 0.0254 - mae: 0.0254\n",
      "Epoch 331/500\n",
      "2/2 [==============================] - 0s 27ms/step - loss: 0.0470 - mae: 0.0470\n",
      "Epoch 332/500\n",
      "2/2 [==============================] - 0s 30ms/step - loss: 0.0979 - mae: 0.0979\n",
      "Epoch 333/500\n",
      "2/2 [==============================] - 0s 27ms/step - loss: 0.0926 - mae: 0.0926\n",
      "Epoch 334/500\n",
      "2/2 [==============================] - 0s 27ms/step - loss: 0.0860 - mae: 0.0860\n",
      "Epoch 335/500\n",
      "2/2 [==============================] - 0s 31ms/step - loss: 0.1134 - mae: 0.1134\n",
      "Epoch 336/500\n",
      "2/2 [==============================] - 0s 32ms/step - loss: 0.0448 - mae: 0.0448\n",
      "Epoch 337/500\n",
      "2/2 [==============================] - 0s 27ms/step - loss: 0.0606 - mae: 0.0606\n",
      "Epoch 338/500\n",
      "2/2 [==============================] - 0s 26ms/step - loss: 0.1087 - mae: 0.1087\n",
      "Epoch 339/500\n",
      "2/2 [==============================] - 0s 24ms/step - loss: 0.1225 - mae: 0.1225\n",
      "Epoch 340/500\n",
      "2/2 [==============================] - 0s 27ms/step - loss: 0.0421 - mae: 0.0421\n",
      "Epoch 341/500\n",
      "2/2 [==============================] - 0s 28ms/step - loss: 0.0512 - mae: 0.0512\n",
      "Epoch 342/500\n",
      "2/2 [==============================] - 0s 25ms/step - loss: 0.0505 - mae: 0.0505\n",
      "Epoch 343/500\n",
      "2/2 [==============================] - 0s 30ms/step - loss: 0.0201 - mae: 0.0201\n",
      "Epoch 344/500\n",
      "2/2 [==============================] - 0s 26ms/step - loss: 0.0182 - mae: 0.0182\n",
      "Epoch 345/500\n",
      "2/2 [==============================] - 0s 29ms/step - loss: 0.0827 - mae: 0.0827\n",
      "Epoch 346/500\n",
      "2/2 [==============================] - 0s 24ms/step - loss: 0.0606 - mae: 0.0606\n",
      "Epoch 347/500\n",
      "2/2 [==============================] - 0s 31ms/step - loss: 0.1304 - mae: 0.1304\n",
      "Epoch 348/500\n",
      "2/2 [==============================] - 0s 28ms/step - loss: 0.1830 - mae: 0.1830\n",
      "Epoch 349/500\n",
      "2/2 [==============================] - 0s 27ms/step - loss: 0.0643 - mae: 0.0643\n",
      "Epoch 350/500\n",
      "2/2 [==============================] - 0s 27ms/step - loss: 0.1245 - mae: 0.1245\n",
      "Epoch 351/500\n",
      "2/2 [==============================] - 0s 27ms/step - loss: 0.0671 - mae: 0.0671\n",
      "Epoch 352/500\n",
      "2/2 [==============================] - 0s 29ms/step - loss: 0.0845 - mae: 0.0845\n",
      "Epoch 353/500\n",
      "2/2 [==============================] - 0s 28ms/step - loss: 0.0382 - mae: 0.0382\n",
      "Epoch 354/500\n",
      "2/2 [==============================] - 0s 29ms/step - loss: 0.0999 - mae: 0.0999\n",
      "Epoch 355/500\n",
      "2/2 [==============================] - 0s 53ms/step - loss: 0.0316 - mae: 0.0316\n",
      "Epoch 356/500\n",
      "2/2 [==============================] - 0s 31ms/step - loss: 0.1662 - mae: 0.1662\n",
      "Epoch 357/500\n",
      "2/2 [==============================] - 0s 34ms/step - loss: 0.0943 - mae: 0.0943\n",
      "Epoch 358/500\n",
      "2/2 [==============================] - 0s 60ms/step - loss: 0.1405 - mae: 0.1405\n",
      "Epoch 359/500\n",
      "2/2 [==============================] - 0s 31ms/step - loss: 0.2377 - mae: 0.2377\n",
      "Epoch 360/500\n",
      "2/2 [==============================] - 0s 37ms/step - loss: 0.1288 - mae: 0.1288\n",
      "Epoch 361/500\n",
      "2/2 [==============================] - 0s 32ms/step - loss: 0.1368 - mae: 0.1368\n",
      "Epoch 362/500\n",
      "2/2 [==============================] - 0s 25ms/step - loss: 0.2209 - mae: 0.2209\n",
      "Epoch 363/500\n",
      "2/2 [==============================] - 0s 30ms/step - loss: 0.0833 - mae: 0.0833\n",
      "Epoch 364/500\n",
      "2/2 [==============================] - 0s 61ms/step - loss: 0.0541 - mae: 0.0541\n",
      "Epoch 365/500\n",
      "2/2 [==============================] - 0s 29ms/step - loss: 0.0172 - mae: 0.0172\n",
      "Epoch 366/500\n",
      "2/2 [==============================] - 0s 26ms/step - loss: 0.1376 - mae: 0.1376\n",
      "Epoch 367/500\n",
      "2/2 [==============================] - 0s 31ms/step - loss: 0.0610 - mae: 0.0610\n",
      "Epoch 368/500\n",
      "2/2 [==============================] - 0s 25ms/step - loss: 0.1224 - mae: 0.1224\n",
      "Epoch 369/500\n",
      "2/2 [==============================] - 0s 27ms/step - loss: 0.0765 - mae: 0.0765\n",
      "Epoch 370/500\n",
      "2/2 [==============================] - 0s 29ms/step - loss: 0.1267 - mae: 0.1267\n",
      "Epoch 371/500\n",
      "2/2 [==============================] - 0s 24ms/step - loss: 0.1696 - mae: 0.1696\n",
      "Epoch 372/500\n",
      "2/2 [==============================] - 0s 29ms/step - loss: 0.0520 - mae: 0.0520\n",
      "Epoch 373/500\n",
      "2/2 [==============================] - 0s 29ms/step - loss: 0.1194 - mae: 0.1194\n",
      "Epoch 374/500\n",
      "2/2 [==============================] - 0s 29ms/step - loss: 0.0572 - mae: 0.0572\n",
      "Epoch 375/500\n",
      "2/2 [==============================] - 0s 26ms/step - loss: 0.0818 - mae: 0.0818\n",
      "Epoch 376/500\n",
      "2/2 [==============================] - 0s 26ms/step - loss: 0.0349 - mae: 0.0349\n",
      "Epoch 377/500\n",
      "2/2 [==============================] - 0s 29ms/step - loss: 0.1153 - mae: 0.1153\n",
      "Epoch 378/500\n",
      "2/2 [==============================] - 0s 31ms/step - loss: 0.0529 - mae: 0.0529\n",
      "Epoch 379/500\n",
      "2/2 [==============================] - 0s 25ms/step - loss: 0.0474 - mae: 0.0474\n",
      "Epoch 380/500\n",
      "2/2 [==============================] - 0s 27ms/step - loss: 0.0639 - mae: 0.0639\n",
      "Epoch 381/500\n",
      "2/2 [==============================] - 0s 26ms/step - loss: 0.0558 - mae: 0.0558\n",
      "Epoch 382/500\n",
      "2/2 [==============================] - 0s 25ms/step - loss: 0.1121 - mae: 0.1121\n",
      "Epoch 383/500\n",
      "2/2 [==============================] - 0s 33ms/step - loss: 0.1345 - mae: 0.1345\n",
      "Epoch 384/500\n",
      "2/2 [==============================] - 0s 34ms/step - loss: 0.0080 - mae: 0.0080\n",
      "Epoch 385/500\n",
      "2/2 [==============================] - 0s 32ms/step - loss: 0.0411 - mae: 0.0411\n",
      "Epoch 386/500\n",
      "2/2 [==============================] - 0s 27ms/step - loss: 0.0873 - mae: 0.0873\n",
      "Epoch 387/500\n",
      "2/2 [==============================] - 0s 26ms/step - loss: 0.0835 - mae: 0.0835\n",
      "Epoch 388/500\n",
      "2/2 [==============================] - 0s 26ms/step - loss: 0.0831 - mae: 0.0831\n",
      "Epoch 389/500\n",
      "2/2 [==============================] - 0s 29ms/step - loss: 0.1078 - mae: 0.1078\n",
      "Epoch 390/500\n",
      "2/2 [==============================] - 0s 27ms/step - loss: 0.0356 - mae: 0.0356\n",
      "Epoch 391/500\n",
      "2/2 [==============================] - 0s 26ms/step - loss: 0.0443 - mae: 0.0443\n",
      "Epoch 392/500\n",
      "2/2 [==============================] - 0s 31ms/step - loss: 0.0162 - mae: 0.0162\n",
      "Epoch 393/500\n",
      "2/2 [==============================] - 0s 32ms/step - loss: 0.0204 - mae: 0.0204\n",
      "Epoch 394/500\n",
      "2/2 [==============================] - 0s 27ms/step - loss: 0.0517 - mae: 0.0517\n",
      "Epoch 395/500\n",
      "2/2 [==============================] - 0s 29ms/step - loss: 0.0758 - mae: 0.0758\n",
      "Epoch 396/500\n",
      "2/2 [==============================] - 0s 26ms/step - loss: 0.0717 - mae: 0.0717\n",
      "Epoch 397/500\n",
      "2/2 [==============================] - 0s 31ms/step - loss: 0.0944 - mae: 0.0944\n",
      "Epoch 398/500\n",
      "2/2 [==============================] - 0s 30ms/step - loss: 0.0972 - mae: 0.0972\n",
      "Epoch 399/500\n",
      "2/2 [==============================] - 0s 27ms/step - loss: 0.0705 - mae: 0.0705\n",
      "Epoch 400/500\n",
      "2/2 [==============================] - 0s 31ms/step - loss: 0.0840 - mae: 0.0840\n",
      "Epoch 401/500\n",
      "2/2 [==============================] - 0s 26ms/step - loss: 0.0722 - mae: 0.0722\n",
      "Epoch 402/500\n",
      "2/2 [==============================] - 0s 27ms/step - loss: 0.0641 - mae: 0.0641\n",
      "Epoch 403/500\n",
      "2/2 [==============================] - 0s 31ms/step - loss: 0.1116 - mae: 0.1116\n",
      "Epoch 404/500\n",
      "2/2 [==============================] - 0s 30ms/step - loss: 0.1220 - mae: 0.1220\n",
      "Epoch 405/500\n",
      "2/2 [==============================] - 0s 32ms/step - loss: 0.0417 - mae: 0.0417\n",
      "Epoch 406/500\n",
      "2/2 [==============================] - 0s 45ms/step - loss: 0.0550 - mae: 0.0550\n",
      "Epoch 407/500\n",
      "2/2 [==============================] - 0s 55ms/step - loss: 0.1028 - mae: 0.1028\n",
      "Epoch 408/500\n",
      "2/2 [==============================] - 0s 39ms/step - loss: 0.1020 - mae: 0.1020\n",
      "Epoch 409/500\n",
      "2/2 [==============================] - 0s 30ms/step - loss: 0.0665 - mae: 0.0665\n",
      "Epoch 410/500\n",
      "2/2 [==============================] - 0s 31ms/step - loss: 0.1136 - mae: 0.1136\n",
      "Epoch 411/500\n",
      "2/2 [==============================] - 0s 31ms/step - loss: 0.0221 - mae: 0.0221\n",
      "Epoch 412/500\n",
      "2/2 [==============================] - 0s 26ms/step - loss: 0.1204 - mae: 0.1204\n",
      "Epoch 413/500\n",
      "2/2 [==============================] - 0s 29ms/step - loss: 0.0473 - mae: 0.0473\n",
      "Epoch 414/500\n",
      "2/2 [==============================] - 0s 36ms/step - loss: 0.0926 - mae: 0.0926\n",
      "Epoch 415/500\n",
      "2/2 [==============================] - 0s 25ms/step - loss: 0.0381 - mae: 0.0381\n",
      "Epoch 416/500\n",
      "2/2 [==============================] - 0s 32ms/step - loss: 0.0707 - mae: 0.0707\n",
      "Epoch 417/500\n",
      "2/2 [==============================] - 0s 29ms/step - loss: 0.0352 - mae: 0.0352\n",
      "Epoch 418/500\n",
      "2/2 [==============================] - 0s 26ms/step - loss: 0.0337 - mae: 0.0337\n",
      "Epoch 419/500\n",
      "2/2 [==============================] - 0s 28ms/step - loss: 0.0382 - mae: 0.0382\n",
      "Epoch 420/500\n",
      "2/2 [==============================] - 0s 28ms/step - loss: 0.0805 - mae: 0.0805\n",
      "Epoch 421/500\n",
      "2/2 [==============================] - 0s 27ms/step - loss: 0.0724 - mae: 0.0724\n",
      "Epoch 422/500\n",
      "2/2 [==============================] - 0s 31ms/step - loss: 0.1009 - mae: 0.1009\n",
      "Epoch 423/500\n",
      "2/2 [==============================] - 0s 39ms/step - loss: 0.1147 - mae: 0.1147\n",
      "Epoch 424/500\n",
      "2/2 [==============================] - 0s 29ms/step - loss: 0.0453 - mae: 0.0453\n",
      "Epoch 425/500\n",
      "2/2 [==============================] - 0s 31ms/step - loss: 0.0491 - mae: 0.0491\n",
      "Epoch 426/500\n",
      "2/2 [==============================] - 0s 25ms/step - loss: 0.0959 - mae: 0.0959\n",
      "Epoch 427/500\n",
      "2/2 [==============================] - 0s 25ms/step - loss: 0.0908 - mae: 0.0908\n",
      "Epoch 428/500\n",
      "2/2 [==============================] - 0s 28ms/step - loss: 0.0800 - mae: 0.0800\n",
      "Epoch 429/500\n",
      "2/2 [==============================] - 0s 25ms/step - loss: 0.0871 - mae: 0.0871\n",
      "Epoch 430/500\n",
      "2/2 [==============================] - 0s 49ms/step - loss: 0.0844 - mae: 0.0844\n",
      "Epoch 431/500\n",
      "2/2 [==============================] - 0s 31ms/step - loss: 0.1085 - mae: 0.1085\n",
      "Epoch 432/500\n",
      "2/2 [==============================] - 0s 51ms/step - loss: 0.0427 - mae: 0.0427\n",
      "Epoch 433/500\n",
      "2/2 [==============================] - 0s 34ms/step - loss: 0.0626 - mae: 0.0626\n",
      "Epoch 434/500\n",
      "2/2 [==============================] - 0s 54ms/step - loss: 0.0901 - mae: 0.0901\n",
      "Epoch 435/500\n",
      "2/2 [==============================] - 0s 30ms/step - loss: 0.1197 - mae: 0.1197\n",
      "Epoch 436/500\n",
      "2/2 [==============================] - 0s 24ms/step - loss: 0.0213 - mae: 0.0213\n",
      "Epoch 437/500\n",
      "2/2 [==============================] - 0s 40ms/step - loss: 0.0579 - mae: 0.0579\n",
      "Epoch 438/500\n",
      "2/2 [==============================] - 0s 38ms/step - loss: 0.0643 - mae: 0.0643\n",
      "Epoch 439/500\n",
      "2/2 [==============================] - 0s 35ms/step - loss: 0.0392 - mae: 0.0392\n",
      "Epoch 440/500\n",
      "2/2 [==============================] - 0s 30ms/step - loss: 0.0794 - mae: 0.0794\n",
      "Epoch 441/500\n",
      "2/2 [==============================] - 0s 24ms/step - loss: 0.0093 - mae: 0.0093\n",
      "Epoch 442/500\n",
      "2/2 [==============================] - 0s 31ms/step - loss: 0.0118 - mae: 0.0118\n",
      "Epoch 443/500\n",
      "2/2 [==============================] - 0s 29ms/step - loss: 0.0101 - mae: 0.0101\n",
      "Epoch 444/500\n",
      "2/2 [==============================] - 0s 26ms/step - loss: 0.0204 - mae: 0.0204\n",
      "Epoch 445/500\n",
      "2/2 [==============================] - 0s 36ms/step - loss: 0.0815 - mae: 0.0815\n",
      "Epoch 446/500\n",
      "2/2 [==============================] - 0s 27ms/step - loss: 0.0202 - mae: 0.0202\n",
      "Epoch 447/500\n",
      "2/2 [==============================] - 0s 38ms/step - loss: 0.1148 - mae: 0.1148\n",
      "Epoch 448/500\n",
      "2/2 [==============================] - 0s 27ms/step - loss: 0.0466 - mae: 0.0466\n",
      "Epoch 449/500\n",
      "2/2 [==============================] - 0s 28ms/step - loss: 0.0863 - mae: 0.0863\n",
      "Epoch 450/500\n",
      "2/2 [==============================] - 0s 28ms/step - loss: 0.0338 - mae: 0.0338\n",
      "Epoch 451/500\n",
      "2/2 [==============================] - 0s 30ms/step - loss: 0.1061 - mae: 0.1061\n",
      "Epoch 452/500\n",
      "2/2 [==============================] - 0s 28ms/step - loss: 0.0381 - mae: 0.0381\n",
      "Epoch 453/500\n",
      "2/2 [==============================] - 0s 26ms/step - loss: 0.1462 - mae: 0.1462\n",
      "Epoch 454/500\n",
      "2/2 [==============================] - 0s 26ms/step - loss: 0.0722 - mae: 0.0722\n",
      "Epoch 455/500\n",
      "2/2 [==============================] - 0s 27ms/step - loss: 0.0482 - mae: 0.0482\n",
      "Epoch 456/500\n",
      "2/2 [==============================] - 0s 33ms/step - loss: 0.0124 - mae: 0.0124\n",
      "Epoch 457/500\n",
      "2/2 [==============================] - 0s 30ms/step - loss: 0.0386 - mae: 0.0386\n",
      "Epoch 458/500\n",
      "2/2 [==============================] - 0s 27ms/step - loss: 0.0138 - mae: 0.0138\n",
      "Epoch 459/500\n",
      "2/2 [==============================] - 0s 27ms/step - loss: 0.0468 - mae: 0.0468\n",
      "Epoch 460/500\n",
      "2/2 [==============================] - 0s 27ms/step - loss: 0.0212 - mae: 0.0212\n",
      "Epoch 461/500\n",
      "2/2 [==============================] - 0s 28ms/step - loss: 0.1106 - mae: 0.1106\n",
      "Epoch 462/500\n",
      "2/2 [==============================] - 0s 29ms/step - loss: 0.0442 - mae: 0.0442\n",
      "Epoch 463/500\n",
      "2/2 [==============================] - 0s 40ms/step - loss: 0.0697 - mae: 0.0697\n",
      "Epoch 464/500\n",
      "2/2 [==============================] - 0s 26ms/step - loss: 0.0251 - mae: 0.0251\n",
      "Epoch 465/500\n",
      "2/2 [==============================] - 0s 27ms/step - loss: 0.0052 - mae: 0.0052\n",
      "Epoch 466/500\n",
      "2/2 [==============================] - 0s 29ms/step - loss: 0.0299 - mae: 0.0299\n",
      "Epoch 467/500\n",
      "2/2 [==============================] - 0s 26ms/step - loss: 0.0426 - mae: 0.0426\n",
      "Epoch 468/500\n",
      "2/2 [==============================] - 0s 25ms/step - loss: 0.0266 - mae: 0.0266\n",
      "Epoch 469/500\n",
      "2/2 [==============================] - 0s 29ms/step - loss: 0.0588 - mae: 0.0588\n",
      "Epoch 470/500\n",
      "2/2 [==============================] - 0s 27ms/step - loss: 0.0714 - mae: 0.0714\n",
      "Epoch 471/500\n",
      "2/2 [==============================] - 0s 26ms/step - loss: 0.0621 - mae: 0.0621\n",
      "Epoch 472/500\n",
      "2/2 [==============================] - 0s 28ms/step - loss: 0.0524 - mae: 0.0524\n",
      "Epoch 473/500\n",
      "2/2 [==============================] - 0s 24ms/step - loss: 0.0074 - mae: 0.0074\n",
      "Epoch 474/500\n",
      "2/2 [==============================] - 0s 27ms/step - loss: 0.0451 - mae: 0.0451\n",
      "Epoch 475/500\n",
      "2/2 [==============================] - 0s 31ms/step - loss: 0.0178 - mae: 0.0178\n",
      "Epoch 476/500\n",
      "2/2 [==============================] - 0s 28ms/step - loss: 0.1253 - mae: 0.1253\n",
      "Epoch 477/500\n",
      "2/2 [==============================] - 0s 26ms/step - loss: 0.0561 - mae: 0.0561\n",
      "Epoch 478/500\n",
      "2/2 [==============================] - 0s 24ms/step - loss: 0.0950 - mae: 0.0950\n",
      "Epoch 479/500\n",
      "2/2 [==============================] - 0s 28ms/step - loss: 0.0471 - mae: 0.0471\n",
      "Epoch 480/500\n",
      "2/2 [==============================] - 0s 27ms/step - loss: 0.0480 - mae: 0.0480\n",
      "Epoch 481/500\n",
      "2/2 [==============================] - 0s 29ms/step - loss: 0.0433 - mae: 0.0433\n",
      "Epoch 482/500\n",
      "2/2 [==============================] - 0s 27ms/step - loss: 0.0254 - mae: 0.0254\n",
      "Epoch 483/500\n",
      "2/2 [==============================] - 0s 40ms/step - loss: 0.0842 - mae: 0.0842\n",
      "Epoch 484/500\n",
      "2/2 [==============================] - 0s 29ms/step - loss: 0.0187 - mae: 0.0187\n",
      "Epoch 485/500\n",
      "2/2 [==============================] - 0s 29ms/step - loss: 0.0251 - mae: 0.0251\n",
      "Epoch 486/500\n",
      "2/2 [==============================] - 0s 25ms/step - loss: 0.0511 - mae: 0.0511\n",
      "Epoch 487/500\n",
      "2/2 [==============================] - 0s 28ms/step - loss: 0.0556 - mae: 0.0556\n",
      "Epoch 488/500\n",
      "2/2 [==============================] - 0s 58ms/step - loss: 0.0254 - mae: 0.0254\n",
      "Epoch 489/500\n",
      "2/2 [==============================] - 0s 30ms/step - loss: 0.1365 - mae: 0.1365\n",
      "Epoch 490/500\n",
      "2/2 [==============================] - 0s 34ms/step - loss: 0.0901 - mae: 0.0901\n",
      "Epoch 491/500\n",
      "2/2 [==============================] - 0s 27ms/step - loss: 0.0998 - mae: 0.0998\n",
      "Epoch 492/500\n",
      "2/2 [==============================] - 0s 34ms/step - loss: 0.1524 - mae: 0.1524\n",
      "Epoch 493/500\n",
      "2/2 [==============================] - 0s 27ms/step - loss: 0.0478 - mae: 0.0478\n",
      "Epoch 494/500\n",
      "2/2 [==============================] - 0s 28ms/step - loss: 0.1507 - mae: 0.1507\n",
      "Epoch 495/500\n",
      "2/2 [==============================] - 0s 27ms/step - loss: 0.1279 - mae: 0.1279\n",
      "Epoch 496/500\n",
      "2/2 [==============================] - 0s 38ms/step - loss: 0.0389 - mae: 0.0389\n",
      "Epoch 497/500\n",
      "2/2 [==============================] - 0s 27ms/step - loss: 0.0470 - mae: 0.0470\n",
      "Epoch 498/500\n",
      "2/2 [==============================] - 0s 31ms/step - loss: 0.0992 - mae: 0.0992\n",
      "Epoch 499/500\n",
      "2/2 [==============================] - 0s 31ms/step - loss: 0.1089 - mae: 0.1089\n",
      "Epoch 500/500\n",
      "2/2 [==============================] - 0s 27ms/step - loss: 0.0438 - mae: 0.0438\n"
     ]
    },
    {
     "data": {
      "text/plain": [
       "<keras.callbacks.History at 0x7f730e99c970>"
      ]
     },
     "execution_count": 126,
     "metadata": {},
     "output_type": "execute_result"
    }
   ],
   "source": [
    "# set a random seed\n",
    "tf.random.set_seed(42)\n",
    "\n",
    "#create a model\n",
    "model_3 = tf.keras.Sequential([\n",
    "    tf.keras.layers.Dense(10, input_shape=[1]),\n",
    "    tf.keras.layers.Dense(1)\n",
    "])\n",
    "\n",
    "# compile the model\n",
    "model_3.compile(\n",
    "    loss = tf.keras.losses.mae,\n",
    "    optimizer=tf.keras.optimizers.Adam(learning_rate=0.001),\n",
    "    metrics=[\"mae\"]\n",
    ")\n",
    "\n",
    "# fit the model -> train the model (training dataset)\n",
    "model_3.fit(X_train, y_train, epochs=500)"
   ]
  },
  {
   "cell_type": "code",
   "execution_count": 127,
   "metadata": {},
   "outputs": [
    {
     "name": "stdout",
     "output_type": "stream",
     "text": [
      "1/1 [==============================] - 0s 374ms/step\n"
     ]
    },
    {
     "data": {
      "image/png": "[encoded data removed]",
      "text/plain": [
       "<Figure size 500x500 with 1 Axes>"
      ]
     },
     "metadata": {},
     "output_type": "display_data"
    }
   ],
   "source": [
    "y_pred_3 = model_3.predict(X_test)\n",
    "plot_prediction(predictions =tf.squeeze(y_pred_3))\n",
    "plt.legend();"
   ]
  },
  {
   "cell_type": "code",
   "execution_count": 128,
   "metadata": {},
   "outputs": [
    {
     "data": {
      "text/plain": [
       "0.005137784"
      ]
     },
     "execution_count": 128,
     "metadata": {},
     "output_type": "execute_result"
    }
   ],
   "source": [
    "# evaluate the models perfomance on mean errors - y_test vs y_pred\n",
    "mse_3 = tf.metrics.mean_squared_error(y_test, tf.squeeze(y_pred_3))\n",
    "mse.numpy()"
   ]
  },
  {
   "cell_type": "code",
   "execution_count": 129,
   "metadata": {},
   "outputs": [
    {
     "data": {
      "text/plain": [
       "0.07100372"
      ]
     },
     "execution_count": 129,
     "metadata": {},
     "output_type": "execute_result"
    }
   ],
   "source": [
    "mae_3 = tf.metrics.mean_absolute_error(y_test, tf.squeeze(y_pred_3))\n",
    "mae.numpy()"
   ]
  },
  {
   "attachments": {},
   "cell_type": "markdown",
   "metadata": {},
   "source": [
    "#### `Compare Model's Results using a Panda's DF`"
   ]
  },
  {
   "cell_type": "code",
   "execution_count": 130,
   "metadata": {},
   "outputs": [
    {
     "data": {
      "text/html": [
       "<div>\n",
       "<style scoped>\n",
       "    .dataframe tbody tr th:only-of-type {\n",
       "        vertical-align: middle;\n",
       "    }\n",
       "\n",
       "    .dataframe tbody tr th {\n",
       "        vertical-align: top;\n",
       "    }\n",
       "\n",
       "    .dataframe thead th {\n",
       "        text-align: right;\n",
       "    }\n",
       "</style>\n",
       "<table border=\"1\" class=\"dataframe\">\n",
       "  <thead>\n",
       "    <tr style=\"text-align: right;\">\n",
       "      <th></th>\n",
       "      <th>model</th>\n",
       "      <th>mean abs</th>\n",
       "      <th>mean sq.</th>\n",
       "    </tr>\n",
       "  </thead>\n",
       "  <tbody>\n",
       "    <tr>\n",
       "      <th>0</th>\n",
       "      <td>model_1</td>\n",
       "      <td>29.694256</td>\n",
       "      <td>900.881653</td>\n",
       "    </tr>\n",
       "    <tr>\n",
       "      <th>1</th>\n",
       "      <td>model_2</td>\n",
       "      <td>14.770787</td>\n",
       "      <td>222.962814</td>\n",
       "    </tr>\n",
       "    <tr>\n",
       "      <th>2</th>\n",
       "      <td>model_3</td>\n",
       "      <td>0.063417</td>\n",
       "      <td>0.004109</td>\n",
       "    </tr>\n",
       "  </tbody>\n",
       "</table>\n",
       "</div>"
      ],
      "text/plain": [
       "     model   mean abs    mean sq.\n",
       "0  model_1  29.694256  900.881653\n",
       "1  model_2  14.770787  222.962814\n",
       "2  model_3   0.063417    0.004109"
      ]
     },
     "execution_count": 130,
     "metadata": {},
     "output_type": "execute_result"
    }
   ],
   "source": [
    "import pandas as pd \n",
    "\n",
    "model_results = [\n",
    "    [\"model_1\", loss_mae.numpy(), loss_mse.numpy()],\n",
    "    [\"model_2\", mae_2.numpy(), mse_2.numpy()],\n",
    "    [\"model_3\", mae_3.numpy(), mse_3.numpy()]\n",
    "]\n",
    "\n",
    "all_results = pd.DataFrame(model_results, columns=[\"model\", \"mean abs\", \"mean sq.\"])\n",
    "all_results"
   ]
  },
  {
   "cell_type": "code",
   "execution_count": 131,
   "metadata": {},
   "outputs": [
    {
     "name": "stdout",
     "output_type": "stream",
     "text": [
      "Model: \"sequential_11\"\n",
      "_________________________________________________________________\n",
      " Layer (type)                Output Shape              Param #   \n",
      "=================================================================\n",
      " dense_18 (Dense)            (None, 10)                20        \n",
      "                                                                 \n",
      " dense_19 (Dense)            (None, 1)                 11        \n",
      "                                                                 \n",
      "=================================================================\n",
      "Total params: 31\n",
      "Trainable params: 31\n",
      "Non-trainable params: 0\n",
      "_________________________________________________________________\n"
     ]
    }
   ],
   "source": [
    "model_3.summary()"
   ]
  },
  {
   "cell_type": "code",
   "execution_count": 132,
   "metadata": {},
   "outputs": [
    {
     "name": "stderr",
     "output_type": "stream",
     "text": [
      "WARNING:absl:Found untraced functions such as _update_step_xla while saving (showing 1 of 1). These functions will not be directly callable after loading.\n"
     ]
    },
    {
     "name": "stdout",
     "output_type": "stream",
     "text": [
      "INFO:tensorflow:Assets written to: model_3_format/assets\n"
     ]
    },
    {
     "name": "stderr",
     "output_type": "stream",
     "text": [
      "INFO:tensorflow:Assets written to: model_3_format/assets\n"
     ]
    }
   ],
   "source": [
    "# used within the pure tensorflow code\n",
    "model_3.save('model_3_format')"
   ]
  },
  {
   "cell_type": "code",
   "execution_count": 136,
   "metadata": {},
   "outputs": [],
   "source": [
    "# used outside the tensorflow environment\n",
    "model_3.save(\"model_3_hdf5_format.h5\") #- just a single file"
   ]
  },
  {
   "attachments": {},
   "cell_type": "markdown",
   "metadata": {},
   "source": [
    "`load saved model - savedModel format`"
   ]
  },
  {
   "cell_type": "code",
   "execution_count": 142,
   "metadata": {},
   "outputs": [
    {
     "name": "stdout",
     "output_type": "stream",
     "text": [
      "Model: \"sequential_11\"\n",
      "_________________________________________________________________\n",
      " Layer (type)                Output Shape              Param #   \n",
      "=================================================================\n",
      " dense_18 (Dense)            (None, 10)                20        \n",
      "                                                                 \n",
      " dense_19 (Dense)            (None, 1)                 11        \n",
      "                                                                 \n",
      "=================================================================\n",
      "Total params: 31\n",
      "Trainable params: 31\n",
      "Non-trainable params: 0\n",
      "_________________________________________________________________\n"
     ]
    }
   ],
   "source": [
    "load_savedmodel_formt = tf.keras.models.load_model(\"../Night/model_3_format\")\n",
    "load_savedmodel_formt.summary()"
   ]
  },
  {
   "cell_type": "code",
   "execution_count": 143,
   "metadata": {},
   "outputs": [
    {
     "name": "stdout",
     "output_type": "stream",
     "text": [
      "1/1 [==============================] - 0s 32ms/step\n",
      "1/1 [==============================] - 0s 54ms/step\n"
     ]
    },
    {
     "data": {
      "text/plain": [
       "array([[ True],\n",
       "       [ True],\n",
       "       [ True],\n",
       "       [ True],\n",
       "       [ True],\n",
       "       [ True],\n",
       "       [ True],\n",
       "       [ True],\n",
       "       [ True],\n",
       "       [ True]])"
      ]
     },
     "execution_count": 143,
     "metadata": {},
     "output_type": "execute_result"
    }
   ],
   "source": [
    "# confirm if the model is the same - make predictions with load_savedmodel_frmat\n",
    "\n",
    "model_3_preds  = model_3.predict(X_test)\n",
    "load_savedmodel_formt_preds = model_3.predict(X_test)\n",
    "\n",
    "# test for equality of prediction\n",
    "model_3_preds == load_savedmodel_formt_preds"
   ]
  },
  {
   "cell_type": "code",
   "execution_count": 144,
   "metadata": {},
   "outputs": [
    {
     "data": {
      "image/png": "[encoded data removed]",
      "text/plain": [
       "<Figure size 500x500 with 1 Axes>"
      ]
     },
     "metadata": {},
     "output_type": "display_data"
    }
   ],
   "source": [
    "plot_prediction(predictions=model_3_preds)"
   ]
  },
  {
   "cell_type": "code",
   "execution_count": 145,
   "metadata": {},
   "outputs": [
    {
     "data": {
      "image/png": "[encoded data removed]",
      "text/plain": [
       "<Figure size 500x500 with 1 Axes>"
      ]
     },
     "metadata": {},
     "output_type": "display_data"
    }
   ],
   "source": [
    "plot_prediction(predictions=load_savedmodel_formt_preds)"
   ]
  },
  {
   "cell_type": "code",
   "execution_count": 146,
   "metadata": {},
   "outputs": [
    {
     "name": "stdout",
     "output_type": "stream",
     "text": [
      "Model: \"sequential_11\"\n",
      "_________________________________________________________________\n",
      " Layer (type)                Output Shape              Param #   \n",
      "=================================================================\n",
      " dense_18 (Dense)            (None, 10)                20        \n",
      "                                                                 \n",
      " dense_19 (Dense)            (None, 1)                 11        \n",
      "                                                                 \n",
      "=================================================================\n",
      "Total params: 31\n",
      "Trainable params: 31\n",
      "Non-trainable params: 0\n",
      "_________________________________________________________________\n"
     ]
    }
   ],
   "source": [
    "# loading the h5 format and making pred on it\n",
    "\n",
    "load_h5 = tf.keras.models.load_model(\"../Night/model_3_hdf5_format.h5\")\n",
    "load_h5.summary()"
   ]
  },
  {
   "cell_type": "code",
   "execution_count": 148,
   "metadata": {},
   "outputs": [
    {
     "name": "stdout",
     "output_type": "stream",
     "text": [
      "1/1 [==============================] - 0s 36ms/step\n"
     ]
    },
    {
     "data": {
      "text/plain": [
       "array([[ True],\n",
       "       [ True],\n",
       "       [ True],\n",
       "       [ True],\n",
       "       [ True],\n",
       "       [ True],\n",
       "       [ True],\n",
       "       [ True],\n",
       "       [ True],\n",
       "       [ True]])"
      ]
     },
     "execution_count": 148,
     "metadata": {},
     "output_type": "execute_result"
    }
   ],
   "source": [
    "h5_pred = load_h5.predict(X_test)\n",
    "# model_3_preds\n",
    "model_3_preds == h5_pred"
   ]
  }
 ],
 "metadata": {
  "kernelspec": {
   "display_name": "TensorFlow",
   "language": "python",
   "name": "python3"
  },
  "language_info": {
   "codemirror_mode": {
    "name": "ipython",
    "version": 3
   },
   "file_extension": ".py",
   "mimetype": "text/x-python",
   "name": "python",
   "nbconvert_exporter": "python",
   "pygments_lexer": "ipython3",
   "version": "3.10.8 (main, Nov 24 2022, 14:13:03) [GCC 11.2.0]"
  },
  "orig_nbformat": 4,
  "vscode": {
   "interpreter": {
    "hash": "45c48fb264bba0529b917885aa2fdf54bfc5ac58ac8ea30a57d1df6ad7c47fba"
   }
  }
 },
 "nbformat": 4,
 "nbformat_minor": 2
}
