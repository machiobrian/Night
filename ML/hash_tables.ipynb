{
 "cells": [
  {
   "cell_type": "code",
   "execution_count": 1,
   "metadata": {},
   "outputs": [
    {
     "name": "stdout",
     "output_type": "stream",
     "text": [
      "0.67\n"
     ]
    }
   ],
   "source": [
    "# python equivalent -> dict()\n",
    "# hash table > hash fxn + an array\n",
    "\n",
    "book = dict() \n",
    "\n",
    "book[\"apple\"] = 0.67\n",
    "book[\"milk\"] = 1.49\n",
    "book[\"avocado\"] = 1.432\n",
    "\n",
    "# print(book)\n",
    "# {'apple': 0.67, 'milk': 1.49, 'avocado': 1.432}\n",
    "\n",
    "# print (book[\"milk\"])\n",
    "\n",
    "print (book[\"apple\"])\n",
    "\n",
    "# hash tables: keys(abcd) and values (###)"
   ]
  },
  {
   "attachments": {},
   "cell_type": "markdown",
   "metadata": {},
   "source": [
    "##### Use Cases"
   ]
  },
  {
   "cell_type": "code",
   "execution_count": 2,
   "metadata": {},
   "outputs": [],
   "source": [
    "# building a phone book\n",
    "\n",
    "# phone_book = dict() \n",
    "\n",
    "phone_book = {} # another method of initializing a dict.\n",
    "\n",
    "phone_book[\"jenny\"] = 20570275 # key then value\n",
    "phone_book[\"machio\"] = 842323203\n",
    "phone_book[\"another\"] = 362365284"
   ]
  },
  {
   "cell_type": "code",
   "execution_count": 7,
   "metadata": {},
   "outputs": [
    {
     "name": "stdout",
     "output_type": "stream",
     "text": [
      "842323203\n"
     ]
    }
   ],
   "source": [
    "value = phone_book.get(\"machio\")\n",
    "print (value)"
   ]
  },
  {
   "cell_type": "code",
   "execution_count": 3,
   "metadata": {},
   "outputs": [
    {
     "name": "stdout",
     "output_type": "stream",
     "text": [
      "842323203\n"
     ]
    }
   ],
   "source": [
    "print(phone_book[\"machio\"])"
   ]
  },
  {
   "cell_type": "code",
   "execution_count": 23,
   "metadata": {},
   "outputs": [],
   "source": [
    "# voting\n",
    "# check if someone has voted and kcick them out\n",
    "\n",
    "voted = {} # keep track of evryone who has voted\n",
    "\n",
    "# .get fxn checks if value is in the table\n",
    "\n",
    "def check_voter(name):\n",
    "    if voted.get(name):\n",
    "        print(\"VOTED...!!!!!\")\n",
    "    else:\n",
    "        # register them: make a new input to the table\n",
    "        voted[name] = True\n",
    "        print(\"Registered, let them Proceed to Vote\")"
   ]
  },
  {
   "attachments": {},
   "cell_type": "markdown",
   "metadata": {},
   "source": [
    "* checking for duplicates"
   ]
  },
  {
   "cell_type": "code",
   "execution_count": 32,
   "metadata": {},
   "outputs": [
    {
     "name": "stdout",
     "output_type": "stream",
     "text": [
      "VOTED...!!!!!\n",
      "VOTED...!!!!!\n",
      "VOTED...!!!!!\n"
     ]
    }
   ],
   "source": [
    "# user comes in\n",
    "\n",
    "# 1. Check if they have voted\n",
    "\n",
    "# voted.get(\"machio\") #perfome a lookup\n",
    "check_voter(\"machio\")\n",
    "\n",
    "check_voter(\"dennis\")\n",
    "check_voter(\"anna\")"
   ]
  },
  {
   "cell_type": "code",
   "execution_count": 33,
   "metadata": {},
   "outputs": [
    {
     "name": "stdout",
     "output_type": "stream",
     "text": [
      "VOTED...!!!!!\n"
     ]
    }
   ],
   "source": [
    "check_voter(\"anna\")"
   ]
  },
  {
   "attachments": {},
   "cell_type": "markdown",
   "metadata": {},
   "source": [
    "* caching"
   ]
  },
  {
   "cell_type": "code",
   "execution_count": 34,
   "metadata": {},
   "outputs": [],
   "source": [
    "cache = {}\n",
    "\n",
    "def get_page(url):\n",
    "    if cache.get(url): # checks if url is already cached .get() fxn\n",
    "        return cache(url)\n",
    "    else:\n",
    "        data = get_data_from_server(url)\n",
    "        cache[url] = data # register the new url to cache mem\n",
    "        return data "
   ]
  },
  {
   "attachments": {},
   "cell_type": "markdown",
   "metadata": {},
   "source": [
    "* load factor - should be < 0.7 to ensure good performance\n",
    "* resizing : adding new slots\n",
    "* hash function : re-insert "
   ]
  },
  {
   "cell_type": "code",
   "execution_count": null,
   "metadata": {},
   "outputs": [],
   "source": []
  }
 ],
 "metadata": {
  "kernelspec": {
   "display_name": "Python 3",
   "language": "python",
   "name": "python3"
  },
  "language_info": {
   "codemirror_mode": {
    "name": "ipython",
    "version": 3
   },
   "file_extension": ".py",
   "mimetype": "text/x-python",
   "name": "python",
   "nbconvert_exporter": "python",
   "pygments_lexer": "ipython3",
   "version": "3.10.6 (main, Nov 14 2022, 16:10:14) [GCC 11.3.0]"
  },
  "orig_nbformat": 4,
  "vscode": {
   "interpreter": {
    "hash": "916dbcbb3f70747c44a77c7bcd40155683ae19c65e1c03b4aa3499c5328201f1"
   }
  }
 },
 "nbformat": 4,
 "nbformat_minor": 2
}
